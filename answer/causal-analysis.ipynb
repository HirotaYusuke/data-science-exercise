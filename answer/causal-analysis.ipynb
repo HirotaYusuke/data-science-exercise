{
 "cells": [
  {
   "cell_type": "markdown",
   "metadata": {},
   "source": [
    "# 効果検証および因果推論にむけて"
   ]
  },
  {
   "cell_type": "markdown",
   "metadata": {},
   "source": [
    "### Q1. 独立2群の平均の差の検定（1/2）\n",
    "ある研究者Xは効果的な英語教育方法を研究開発しており，この度，その効果を検証することになったとする．研究者Xは自身が所属する大学の学生をランダムに40名を選び，うち20名（以下**treatment群**と呼ぶ）には開発した教育方法を，残り20名（以下**control群**と呼ぶ）には従来の教育方法を用いて英語の授業を行った．開発した教育方法の効果を検証するために，被験者である学生には，授業前後に英語能力テストを受験してもらい，スコアの改善度を調査した．\n",
    "\n",
    "``data/causal-analysis``ディレクトリの``small-sample.tsv``ファイルは，treatment群およびcontrol群の英語テストの改善度合い（score）が収められている．``small-sample.tsv``ファイルを用いて，2群の母平均に差があるかを統計的検定によって確認せよ．なお，treatment群とcontrol群の点数は正規分布に従い，その分散は等しいと仮定してよい．"
   ]
  },
  {
   "cell_type": "code",
   "execution_count": 1,
   "metadata": {},
   "outputs": [],
   "source": [
    "import pandas as pd\n",
    "from statsmodels.stats.weightstats import ttest_ind\n",
    "\n",
    "import seaborn as sns\n",
    "import matplotlib.pyplot as plt\n",
    "\n",
    "sns.set()\n",
    "sns.set_style('ticks')\n",
    "%matplotlib inline"
   ]
  },
  {
   "cell_type": "code",
   "execution_count": 2,
   "metadata": {},
   "outputs": [
    {
     "data": {
      "text/plain": [
       "<matplotlib.legend.Legend at 0x11ef0b2b0>"
      ]
     },
     "execution_count": 2,
     "metadata": {},
     "output_type": "execute_result"
    },
    {
     "data": {
      "image/png": "[encoded data removed]",
      "text/plain": [
       "<Figure size 432x288 with 1 Axes>"
      ]
     },
     "metadata": {
      "needs_background": "light"
     },
     "output_type": "display_data"
    }
   ],
   "source": [
    "small_df = pd.read_table('../data/causal-analysis/small-sampleX.tsv', sep='\\t')\n",
    "\n",
    "fig = sns.distplot(small_df[small_df.group == \"treatment\"].score, kde=False)\n",
    "sns.distplot(small_df[small_df.group == \"control\"].score, kde=False)\n",
    "fig.legend(['treatment', 'control'])"
   ]
  },
  {
   "cell_type": "code",
   "execution_count": 3,
   "metadata": {},
   "outputs": [
    {
     "name": "stdout",
     "output_type": "stream",
     "text": [
      "p-value on t-test =  0.0008184104209964199\n"
     ]
    }
   ],
   "source": [
    "# t検定\n",
    "t, p, dof = ttest_ind(small_df[small_df.group == \"treatment\"].score, \n",
    "                      small_df[small_df.group == \"control\"].score)\n",
    "\n",
    "print(\"p-value on t-test = \", p)"
   ]
  },
  {
   "cell_type": "markdown",
   "metadata": {},
   "source": [
    "### Q2. 独立2群の平均の差の検定（2/2）：サンプルサイズとp値\n",
    "Q1で検証した英語教育方法について，より本格的に検証したいと考えた研究者Xは，全国の大学から学生をランダムに選び，treatment群に5000人，control群に5000人を割り当て，Q1と同様のことを行った．\n",
    "\n",
    "``data/causal-analysis``ディレクトリの``large-sampleX.tsv``ファイルは，treatment群およびcontrol群の試験の点数（score）が収められている．``large-sampleX.tsv``ファイルを用いて，2群の母平均に差があるかを統計的検定によって確認し，研究者Xが開発した教育方法に効果があるかを考察せよ．なお，treatment群とcontrol群の点数は正規分布に従い，その分散は等しいと仮定してよい．"
   ]
  },
  {
   "cell_type": "code",
   "execution_count": 4,
   "metadata": {},
   "outputs": [
    {
     "data": {
      "text/plain": [
       "<matplotlib.legend.Legend at 0x120fda9d0>"
      ]
     },
     "execution_count": 4,
     "metadata": {},
     "output_type": "execute_result"
    },
    {
     "data": {
      "image/png": "[encoded data removed]",
      "text/plain": [
       "<Figure size 432x288 with 1 Axes>"
      ]
     },
     "metadata": {
      "needs_background": "light"
     },
     "output_type": "display_data"
    }
   ],
   "source": [
    "largeX_df = pd.read_table('../data/causal-analysis/large-sampleX.tsv', sep='\\t')\n",
    "\n",
    "fig = sns.distplot(largeX_df[largeX_df.group == \"treatment\"].score, kde=False)\n",
    "sns.distplot(largeX_df[largeX_df.group == \"control\"].score, kde=False)\n",
    "fig.legend(['treatment', 'control'])"
   ]
  },
  {
   "cell_type": "code",
   "execution_count": 5,
   "metadata": {},
   "outputs": [
    {
     "name": "stdout",
     "output_type": "stream",
     "text": [
      "p-value on t-test =  9.864002807145662e-06\n"
     ]
    }
   ],
   "source": [
    "# t検定\n",
    "t, p, dof = ttest_ind(largeX_df[largeX_df.group == \"treatment\"].score, \n",
    "                      largeX_df[largeX_df.group == \"control\"].score)\n",
    "\n",
    "print(\"p-value on t-test = \", p)"
   ]
  },
  {
   "cell_type": "markdown",
   "metadata": {},
   "source": [
    "### Q3. 効果量\n",
    "（Q1-2で登場した研究者Xと異なる）別の研究者Yは，研究者Xと異なる英語の教育方法を開発した．研究者Yは，自身が開発した教育方法の効果を検証するために，自身が属する大学から学生をランダムに200人に選び，うち100人に開発した教育方法で，残り100人に従来の教育方法で英語の授業を行った．被験者である学生には，授業前後に英語能力テストを受験してもらい，スコアの改善度を調査した．\n",
    "\n",
    "``data/causal-analysis``ディレクトリの``large-sampleY.tsv``ファイルは，treatment群およびcontrol群の試験の点数（score）が収められている．``large-sampleY.tsv``ファイルを用いて，研究者Yが開発した教育方法の効果量（Cohen's dスコア）を求めよ．また，Q2のデータに関しても効果量を計算し，研究者Xの教育方法と研究者Yの教育方法のどちらが効果が大きいかを考察せよ．\n",
    "\n",
    "なお，研究者Yが得たデータにおいて，treatment群とcontrol群の点数は正規分布に従い，その分散は等しいと仮定してよい．"
   ]
  },
  {
   "cell_type": "code",
   "execution_count": 6,
   "metadata": {},
   "outputs": [],
   "source": [
    "import numpy as np\n",
    "\n",
    "def cohen_d(X, Y):\n",
    "    mu_x = np.mean(X)\n",
    "    mu_y = np.mean(Y)\n",
    "    var_x = np.var(X)\n",
    "    var_y = np.var(Y)\n",
    "    return abs(mu_x - mu_y) / np.sqrt((len(X) * var_x + len(Y) * var_y) / (len(X) + len(Y)))"
   ]
  },
  {
   "cell_type": "code",
   "execution_count": 7,
   "metadata": {},
   "outputs": [
    {
     "data": {
      "text/plain": [
       "<matplotlib.legend.Legend at 0x10562a250>"
      ]
     },
     "execution_count": 7,
     "metadata": {},
     "output_type": "execute_result"
    },
    {
     "data": {
      "image/png": "[encoded data removed]",
      "text/plain": [
       "<Figure size 432x288 with 1 Axes>"
      ]
     },
     "metadata": {
      "needs_background": "light"
     },
     "output_type": "display_data"
    }
   ],
   "source": [
    "largeY_df = pd.read_table('../data/causal-analysis/large-sampleY.tsv', sep='\\t')\n",
    "\n",
    "fig = sns.distplot(largeY_df[largeY_df.group == \"treatment\"].score, kde=False)\n",
    "sns.distplot(largeY_df[largeY_df.group == \"control\"].score, kde=False)\n",
    "fig.legend(['treatment', 'control'])"
   ]
  },
  {
   "cell_type": "code",
   "execution_count": 8,
   "metadata": {},
   "outputs": [
    {
     "name": "stdout",
     "output_type": "stream",
     "text": [
      "p-value on t-test =  1.6084612381791229e-27\n"
     ]
    }
   ],
   "source": [
    "# t検定\n",
    "t, p, dof = ttest_ind(largeY_df[largeY_df.group == \"treatment\"].score, \n",
    "                      largeY_df[largeY_df.group == \"control\"].score)\n",
    "\n",
    "print(\"p-value on t-test = \", p)"
   ]
  },
  {
   "cell_type": "code",
   "execution_count": 9,
   "metadata": {},
   "outputs": [
    {
     "name": "stdout",
     "output_type": "stream",
     "text": [
      "Effect size =  0.08845693149226899\n",
      "Effect size =  1.8096876699567674\n"
     ]
    }
   ],
   "source": [
    "effect_size_X = cohen_d(largeX_df[largeX_df.group == \"treatment\"].score,\n",
    "                      largeX_df[largeX_df.group == \"control\"].score)\n",
    "\n",
    "print(\"Effect size = \", effect_size_X)\n",
    "\n",
    "effect_size_Y = cohen_d(largeY_df[largeY_df.group == \"treatment\"].score,\n",
    "                      largeY_df[largeY_df.group == \"control\"].score)\n",
    "\n",
    "print(\"Effect size = \", effect_size_Y)"
   ]
  },
  {
   "cell_type": "markdown",
   "metadata": {},
   "source": [
    "### Q4. 重回帰分析と抑制変数（1/2）\n",
    "とあるS大学の教員Yは，S大学の学生の卒業時の成績（GPA）と大学入試の数学の点数，国語の点数との関係を分析している．分析結果をもとに，次年度以降の大学入試で，卒業時に成績の良い学生を選別できるよう，入試の科目（数学および国語）の配点を再検討したいと考えているとする．\n",
    "\n",
    "``data/causal-analysis``ディレクトリの``gpa.tsv``ファイルには，学生の卒業時の成績（GPA），大学入試の数学の点数（math），および国語の点数（language）が収められている（仮想的なデータ）．GPAと数学，GPAと英語の点数との相関分析を行え．"
   ]
  },
  {
   "cell_type": "code",
   "execution_count": 10,
   "metadata": {},
   "outputs": [],
   "source": [
    "import pandas as pd\n",
    "import statsmodels as sm"
   ]
  },
  {
   "cell_type": "code",
   "execution_count": 11,
   "metadata": {},
   "outputs": [
    {
     "data": {
      "text/html": [
       "<div>\n",
       "<style scoped>\n",
       "    .dataframe tbody tr th:only-of-type {\n",
       "        vertical-align: middle;\n",
       "    }\n",
       "\n",
       "    .dataframe tbody tr th {\n",
       "        vertical-align: top;\n",
       "    }\n",
       "\n",
       "    .dataframe thead th {\n",
       "        text-align: right;\n",
       "    }\n",
       "</style>\n",
       "<table border=\"1\" class=\"dataframe\">\n",
       "  <thead>\n",
       "    <tr style=\"text-align: right;\">\n",
       "      <th></th>\n",
       "      <th>gpa</th>\n",
       "      <th>math</th>\n",
       "      <th>language</th>\n",
       "    </tr>\n",
       "  </thead>\n",
       "  <tbody>\n",
       "    <tr>\n",
       "      <th>gpa</th>\n",
       "      <td>1.000000</td>\n",
       "      <td>0.923713</td>\n",
       "      <td>0.491923</td>\n",
       "    </tr>\n",
       "    <tr>\n",
       "      <th>math</th>\n",
       "      <td>0.923713</td>\n",
       "      <td>1.000000</td>\n",
       "      <td>0.689538</td>\n",
       "    </tr>\n",
       "    <tr>\n",
       "      <th>language</th>\n",
       "      <td>0.491923</td>\n",
       "      <td>0.689538</td>\n",
       "      <td>1.000000</td>\n",
       "    </tr>\n",
       "  </tbody>\n",
       "</table>\n",
       "</div>"
      ],
      "text/plain": [
       "               gpa      math  language\n",
       "gpa       1.000000  0.923713  0.491923\n",
       "math      0.923713  1.000000  0.689538\n",
       "language  0.491923  0.689538  1.000000"
      ]
     },
     "execution_count": 11,
     "metadata": {},
     "output_type": "execute_result"
    }
   ],
   "source": [
    "gpa_df = pd.read_table('../data/causal-analysis/gpa.tsv', sep='\\t')\n",
    "gpa_df.corr()"
   ]
  },
  {
   "cell_type": "markdown",
   "metadata": {},
   "source": [
    "### Q5. 重回帰分析と抑制変数（2/2）\n",
    "Q4で扱ったデータについて，目的変数をGPA，説明変数を数学および国語の点数とする重回帰分析を行え，その上で，重回帰分析の結果およびQ4の結果を踏まえて，S大学の入試において入試試験の数学の得点が同じ受験生がいた場合，国語の点が良い学生を入学させた方がよいか否か，あなたなりに考察せよ．"
   ]
  },
  {
   "cell_type": "code",
   "execution_count": 12,
   "metadata": {},
   "outputs": [
    {
     "data": {
      "text/html": [
       "<table class=\"simpletable\">\n",
       "<caption>OLS Regression Results</caption>\n",
       "<tr>\n",
       "  <th>Dep. Variable:</th>           <td>gpa</td>       <th>  R-squared:         </th> <td>   0.893</td>\n",
       "</tr>\n",
       "<tr>\n",
       "  <th>Model:</th>                   <td>OLS</td>       <th>  Adj. R-squared:    </th> <td>   0.891</td>\n",
       "</tr>\n",
       "<tr>\n",
       "  <th>Method:</th>             <td>Least Squares</td>  <th>  F-statistic:       </th> <td>   406.2</td>\n",
       "</tr>\n",
       "<tr>\n",
       "  <th>Date:</th>             <td>Wed, 10 Jun 2020</td> <th>  Prob (F-statistic):</th> <td>7.23e-48</td>\n",
       "</tr>\n",
       "<tr>\n",
       "  <th>Time:</th>                 <td>17:32:43</td>     <th>  Log-Likelihood:    </th> <td>  27.578</td>\n",
       "</tr>\n",
       "<tr>\n",
       "  <th>No. Observations:</th>      <td>   100</td>      <th>  AIC:               </th> <td>  -49.16</td>\n",
       "</tr>\n",
       "<tr>\n",
       "  <th>Df Residuals:</th>          <td>    97</td>      <th>  BIC:               </th> <td>  -41.34</td>\n",
       "</tr>\n",
       "<tr>\n",
       "  <th>Df Model:</th>              <td>     2</td>      <th>                     </th>     <td> </td>   \n",
       "</tr>\n",
       "<tr>\n",
       "  <th>Covariance Type:</th>      <td>nonrobust</td>    <th>                     </th>     <td> </td>   \n",
       "</tr>\n",
       "</table>\n",
       "<table class=\"simpletable\">\n",
       "<tr>\n",
       "      <td></td>         <th>coef</th>     <th>std err</th>      <th>t</th>      <th>P>|t|</th>  <th>[0.025</th>    <th>0.975]</th>  \n",
       "</tr>\n",
       "<tr>\n",
       "  <th>Intercept</th> <td>    1.2132</td> <td>    0.120</td> <td>   10.091</td> <td> 0.000</td> <td>    0.975</td> <td>    1.452</td>\n",
       "</tr>\n",
       "<tr>\n",
       "  <th>math</th>      <td>    0.0359</td> <td>    0.001</td> <td>   24.338</td> <td> 0.000</td> <td>    0.033</td> <td>    0.039</td>\n",
       "</tr>\n",
       "<tr>\n",
       "  <th>language</th>  <td>   -0.0137</td> <td>    0.002</td> <td>   -6.038</td> <td> 0.000</td> <td>   -0.018</td> <td>   -0.009</td>\n",
       "</tr>\n",
       "</table>\n",
       "<table class=\"simpletable\">\n",
       "<tr>\n",
       "  <th>Omnibus:</th>       <td> 0.722</td> <th>  Durbin-Watson:     </th> <td>   1.651</td>\n",
       "</tr>\n",
       "<tr>\n",
       "  <th>Prob(Omnibus):</th> <td> 0.697</td> <th>  Jarque-Bera (JB):  </th> <td>   0.782</td>\n",
       "</tr>\n",
       "<tr>\n",
       "  <th>Skew:</th>          <td> 0.019</td> <th>  Prob(JB):          </th> <td>   0.677</td>\n",
       "</tr>\n",
       "<tr>\n",
       "  <th>Kurtosis:</th>      <td> 2.569</td> <th>  Cond. No.          </th> <td>    611.</td>\n",
       "</tr>\n",
       "</table><br/><br/>Warnings:<br/>[1] Standard Errors assume that the covariance matrix of the errors is correctly specified."
      ],
      "text/plain": [
       "<class 'statsmodels.iolib.summary.Summary'>\n",
       "\"\"\"\n",
       "                            OLS Regression Results                            \n",
       "==============================================================================\n",
       "Dep. Variable:                    gpa   R-squared:                       0.893\n",
       "Model:                            OLS   Adj. R-squared:                  0.891\n",
       "Method:                 Least Squares   F-statistic:                     406.2\n",
       "Date:                Wed, 10 Jun 2020   Prob (F-statistic):           7.23e-48\n",
       "Time:                        17:32:43   Log-Likelihood:                 27.578\n",
       "No. Observations:                 100   AIC:                            -49.16\n",
       "Df Residuals:                      97   BIC:                            -41.34\n",
       "Df Model:                           2                                         \n",
       "Covariance Type:            nonrobust                                         \n",
       "==============================================================================\n",
       "                 coef    std err          t      P>|t|      [0.025      0.975]\n",
       "------------------------------------------------------------------------------\n",
       "Intercept      1.2132      0.120     10.091      0.000       0.975       1.452\n",
       "math           0.0359      0.001     24.338      0.000       0.033       0.039\n",
       "language      -0.0137      0.002     -6.038      0.000      -0.018      -0.009\n",
       "==============================================================================\n",
       "Omnibus:                        0.722   Durbin-Watson:                   1.651\n",
       "Prob(Omnibus):                  0.697   Jarque-Bera (JB):                0.782\n",
       "Skew:                           0.019   Prob(JB):                        0.677\n",
       "Kurtosis:                       2.569   Cond. No.                         611.\n",
       "==============================================================================\n",
       "\n",
       "Warnings:\n",
       "[1] Standard Errors assume that the covariance matrix of the errors is correctly specified.\n",
       "\"\"\""
      ]
     },
     "execution_count": 12,
     "metadata": {},
     "output_type": "execute_result"
    }
   ],
   "source": [
    "import statsmodels.formula.api as sm\n",
    "\n",
    "reg = \"gpa ~ math + language\"\n",
    "model = sm.ols(formula=reg, data=gpa_df)\n",
    "\n",
    "# 回帰分析を実行する\n",
    "result = model.fit()\n",
    "result.summary()"
   ]
  },
  {
   "cell_type": "code",
   "execution_count": 13,
   "metadata": {},
   "outputs": [
    {
     "data": {
      "text/plain": [
       "<matplotlib.axes._subplots.AxesSubplot at 0x1215a6310>"
      ]
     },
     "execution_count": 13,
     "metadata": {},
     "output_type": "execute_result"
    },
    {
     "data": {
      "image/png": "[encoded data removed]",
      "text/plain": [
       "<Figure size 432x288 with 1 Axes>"
      ]
     },
     "metadata": {
      "needs_background": "light"
     },
     "output_type": "display_data"
    }
   ],
   "source": [
    "gpa_df['math_level'] = pd.cut(gpa_df.math, 5,\n",
    "                              labels=['very-low', 'low', 'medium', 'high', 'very-high'])\n",
    "sns.scatterplot(data=gpa_df, x='language', y='gpa', hue='math_level')"
   ]
  },
  {
   "cell_type": "markdown",
   "metadata": {},
   "source": [
    "### Q6. バックドア（1/2）\n",
    "[文部科学省](https://www.mext.go.jp/kids/find/kyoiku/mext_0020.html)や[農林水産省](https://www.maff.go.jp/j/syokuiku/wpaper/h30_minna/html/part3.html)や公表しているように，朝食摂取と学力には関係があるとされている．\n",
    "\n",
    "``data/causal-analysis/backdoor1.tsv``ファイルには，ある高校の学生50名分の1週間の朝食摂取率（``breakfast``）と数学の平均正解率（``math``），および生活習慣の質スコア（``life_style``）が収められている（データはフィクションである）．\n",
    "\n",
    "数学の平均正解率を目的変数，朝食摂取率を説明変数とした回帰分析を行え．さらに，説明変数に生活習慣の質スコアを加えた重回帰分析を行い，先の回帰分析との結果を比較し，生活習慣の質スコアを変数に加えることの影響について考察せよ．"
   ]
  },
  {
   "cell_type": "code",
   "execution_count": 14,
   "metadata": {},
   "outputs": [],
   "source": [
    "backdoor1_df = pd.read_csv(\"../data/causal-analysis/backdoor1.tsv\", sep='\\t')"
   ]
  },
  {
   "cell_type": "code",
   "execution_count": 15,
   "metadata": {},
   "outputs": [
    {
     "data": {
      "text/plain": [
       "<seaborn.axisgrid.FacetGrid at 0x121624f70>"
      ]
     },
     "execution_count": 15,
     "metadata": {},
     "output_type": "execute_result"
    },
    {
     "data": {
      "image/png": "[encoded data removed]",
      "text/plain": [
       "<Figure size 360x360 with 1 Axes>"
      ]
     },
     "metadata": {
      "needs_background": "light"
     },
     "output_type": "display_data"
    }
   ],
   "source": [
    "sns.lmplot(x=\"breakfast\", y=\"math\", data=backdoor1_df, ci=95)"
   ]
  },
  {
   "cell_type": "code",
   "execution_count": 16,
   "metadata": {},
   "outputs": [
    {
     "data": {
      "text/plain": [
       "<seaborn.axisgrid.FacetGrid at 0x121624610>"
      ]
     },
     "execution_count": 16,
     "metadata": {},
     "output_type": "execute_result"
    },
    {
     "data": {
      "image/png": "[encoded data removed]",
      "text/plain": [
       "<Figure size 360x360 with 1 Axes>"
      ]
     },
     "metadata": {
      "needs_background": "light"
     },
     "output_type": "display_data"
    }
   ],
   "source": [
    "sns.lmplot(x=\"life_style\", y=\"math\", data=backdoor1_df, ci=95)"
   ]
  },
  {
   "cell_type": "code",
   "execution_count": 17,
   "metadata": {},
   "outputs": [
    {
     "data": {
      "text/plain": [
       "<seaborn.axisgrid.FacetGrid at 0x121701eb0>"
      ]
     },
     "execution_count": 17,
     "metadata": {},
     "output_type": "execute_result"
    },
    {
     "data": {
      "image/png": "[encoded data removed]",
      "text/plain": [
       "<Figure size 360x360 with 1 Axes>"
      ]
     },
     "metadata": {
      "needs_background": "light"
     },
     "output_type": "display_data"
    }
   ],
   "source": [
    "sns.lmplot(x=\"life_style\", y=\"breakfast\", data=backdoor1_df, ci=95)"
   ]
  },
  {
   "cell_type": "code",
   "execution_count": 18,
   "metadata": {},
   "outputs": [
    {
     "data": {
      "text/html": [
       "<table class=\"simpletable\">\n",
       "<caption>OLS Regression Results</caption>\n",
       "<tr>\n",
       "  <th>Dep. Variable:</th>          <td>math</td>       <th>  R-squared:         </th> <td>   0.131</td>\n",
       "</tr>\n",
       "<tr>\n",
       "  <th>Model:</th>                   <td>OLS</td>       <th>  Adj. R-squared:    </th> <td>   0.113</td>\n",
       "</tr>\n",
       "<tr>\n",
       "  <th>Method:</th>             <td>Least Squares</td>  <th>  F-statistic:       </th> <td>   7.237</td>\n",
       "</tr>\n",
       "<tr>\n",
       "  <th>Date:</th>             <td>Wed, 10 Jun 2020</td> <th>  Prob (F-statistic):</th>  <td>0.00980</td>\n",
       "</tr>\n",
       "<tr>\n",
       "  <th>Time:</th>                 <td>17:32:43</td>     <th>  Log-Likelihood:    </th> <td>  5.7078</td>\n",
       "</tr>\n",
       "<tr>\n",
       "  <th>No. Observations:</th>      <td>    50</td>      <th>  AIC:               </th> <td>  -7.416</td>\n",
       "</tr>\n",
       "<tr>\n",
       "  <th>Df Residuals:</th>          <td>    48</td>      <th>  BIC:               </th> <td>  -3.592</td>\n",
       "</tr>\n",
       "<tr>\n",
       "  <th>Df Model:</th>              <td>     1</td>      <th>                     </th>     <td> </td>   \n",
       "</tr>\n",
       "<tr>\n",
       "  <th>Covariance Type:</th>      <td>nonrobust</td>    <th>                     </th>     <td> </td>   \n",
       "</tr>\n",
       "</table>\n",
       "<table class=\"simpletable\">\n",
       "<tr>\n",
       "      <td></td>         <th>coef</th>     <th>std err</th>      <th>t</th>      <th>P>|t|</th>  <th>[0.025</th>    <th>0.975]</th>  \n",
       "</tr>\n",
       "<tr>\n",
       "  <th>Intercept</th> <td>    0.3331</td> <td>    0.070</td> <td>    4.734</td> <td> 0.000</td> <td>    0.192</td> <td>    0.475</td>\n",
       "</tr>\n",
       "<tr>\n",
       "  <th>breakfast</th> <td>    0.3370</td> <td>    0.125</td> <td>    2.690</td> <td> 0.010</td> <td>    0.085</td> <td>    0.589</td>\n",
       "</tr>\n",
       "</table>\n",
       "<table class=\"simpletable\">\n",
       "<tr>\n",
       "  <th>Omnibus:</th>       <td> 0.027</td> <th>  Durbin-Watson:     </th> <td>   2.193</td>\n",
       "</tr>\n",
       "<tr>\n",
       "  <th>Prob(Omnibus):</th> <td> 0.986</td> <th>  Jarque-Bera (JB):  </th> <td>   0.045</td>\n",
       "</tr>\n",
       "<tr>\n",
       "  <th>Skew:</th>          <td>-0.001</td> <th>  Prob(JB):          </th> <td>   0.978</td>\n",
       "</tr>\n",
       "<tr>\n",
       "  <th>Kurtosis:</th>      <td> 2.853</td> <th>  Cond. No.          </th> <td>    5.09</td>\n",
       "</tr>\n",
       "</table><br/><br/>Warnings:<br/>[1] Standard Errors assume that the covariance matrix of the errors is correctly specified."
      ],
      "text/plain": [
       "<class 'statsmodels.iolib.summary.Summary'>\n",
       "\"\"\"\n",
       "                            OLS Regression Results                            \n",
       "==============================================================================\n",
       "Dep. Variable:                   math   R-squared:                       0.131\n",
       "Model:                            OLS   Adj. R-squared:                  0.113\n",
       "Method:                 Least Squares   F-statistic:                     7.237\n",
       "Date:                Wed, 10 Jun 2020   Prob (F-statistic):            0.00980\n",
       "Time:                        17:32:43   Log-Likelihood:                 5.7078\n",
       "No. Observations:                  50   AIC:                            -7.416\n",
       "Df Residuals:                      48   BIC:                            -3.592\n",
       "Df Model:                           1                                         \n",
       "Covariance Type:            nonrobust                                         \n",
       "==============================================================================\n",
       "                 coef    std err          t      P>|t|      [0.025      0.975]\n",
       "------------------------------------------------------------------------------\n",
       "Intercept      0.3331      0.070      4.734      0.000       0.192       0.475\n",
       "breakfast      0.3370      0.125      2.690      0.010       0.085       0.589\n",
       "==============================================================================\n",
       "Omnibus:                        0.027   Durbin-Watson:                   2.193\n",
       "Prob(Omnibus):                  0.986   Jarque-Bera (JB):                0.045\n",
       "Skew:                          -0.001   Prob(JB):                        0.978\n",
       "Kurtosis:                       2.853   Cond. No.                         5.09\n",
       "==============================================================================\n",
       "\n",
       "Warnings:\n",
       "[1] Standard Errors assume that the covariance matrix of the errors is correctly specified.\n",
       "\"\"\""
      ]
     },
     "execution_count": 18,
     "metadata": {},
     "output_type": "execute_result"
    }
   ],
   "source": [
    "reg = \"math ~ breakfast\"\n",
    "model = sm.ols(formula=reg, data=backdoor1_df)\n",
    "\n",
    "# 回帰分析を実行する\n",
    "result = model.fit()\n",
    "result.summary()"
   ]
  },
  {
   "cell_type": "code",
   "execution_count": 19,
   "metadata": {},
   "outputs": [
    {
     "data": {
      "text/html": [
       "<table class=\"simpletable\">\n",
       "<caption>OLS Regression Results</caption>\n",
       "<tr>\n",
       "  <th>Dep. Variable:</th>          <td>math</td>       <th>  R-squared:         </th> <td>   0.297</td>\n",
       "</tr>\n",
       "<tr>\n",
       "  <th>Model:</th>                   <td>OLS</td>       <th>  Adj. R-squared:    </th> <td>   0.267</td>\n",
       "</tr>\n",
       "<tr>\n",
       "  <th>Method:</th>             <td>Least Squares</td>  <th>  F-statistic:       </th> <td>   9.946</td>\n",
       "</tr>\n",
       "<tr>\n",
       "  <th>Date:</th>             <td>Wed, 10 Jun 2020</td> <th>  Prob (F-statistic):</th> <td>0.000250</td>\n",
       "</tr>\n",
       "<tr>\n",
       "  <th>Time:</th>                 <td>17:32:44</td>     <th>  Log-Likelihood:    </th> <td>  11.020</td>\n",
       "</tr>\n",
       "<tr>\n",
       "  <th>No. Observations:</th>      <td>    50</td>      <th>  AIC:               </th> <td>  -16.04</td>\n",
       "</tr>\n",
       "<tr>\n",
       "  <th>Df Residuals:</th>          <td>    47</td>      <th>  BIC:               </th> <td>  -10.30</td>\n",
       "</tr>\n",
       "<tr>\n",
       "  <th>Df Model:</th>              <td>     2</td>      <th>                     </th>     <td> </td>   \n",
       "</tr>\n",
       "<tr>\n",
       "  <th>Covariance Type:</th>      <td>nonrobust</td>    <th>                     </th>     <td> </td>   \n",
       "</tr>\n",
       "</table>\n",
       "<table class=\"simpletable\">\n",
       "<tr>\n",
       "       <td></td>         <th>coef</th>     <th>std err</th>      <th>t</th>      <th>P>|t|</th>  <th>[0.025</th>    <th>0.975]</th>  \n",
       "</tr>\n",
       "<tr>\n",
       "  <th>Intercept</th>  <td>    0.1703</td> <td>    0.080</td> <td>    2.118</td> <td> 0.040</td> <td>    0.009</td> <td>    0.332</td>\n",
       "</tr>\n",
       "<tr>\n",
       "  <th>breakfast</th>  <td>   -0.0269</td> <td>    0.158</td> <td>   -0.171</td> <td> 0.865</td> <td>   -0.344</td> <td>    0.290</td>\n",
       "</tr>\n",
       "<tr>\n",
       "  <th>life_style</th> <td>    0.6829</td> <td>    0.205</td> <td>    3.336</td> <td> 0.002</td> <td>    0.271</td> <td>    1.095</td>\n",
       "</tr>\n",
       "</table>\n",
       "<table class=\"simpletable\">\n",
       "<tr>\n",
       "  <th>Omnibus:</th>       <td> 1.175</td> <th>  Durbin-Watson:     </th> <td>   2.649</td>\n",
       "</tr>\n",
       "<tr>\n",
       "  <th>Prob(Omnibus):</th> <td> 0.556</td> <th>  Jarque-Bera (JB):  </th> <td>   0.456</td>\n",
       "</tr>\n",
       "<tr>\n",
       "  <th>Skew:</th>          <td> 0.019</td> <th>  Prob(JB):          </th> <td>   0.796</td>\n",
       "</tr>\n",
       "<tr>\n",
       "  <th>Kurtosis:</th>      <td> 3.466</td> <th>  Cond. No.          </th> <td>    10.6</td>\n",
       "</tr>\n",
       "</table><br/><br/>Warnings:<br/>[1] Standard Errors assume that the covariance matrix of the errors is correctly specified."
      ],
      "text/plain": [
       "<class 'statsmodels.iolib.summary.Summary'>\n",
       "\"\"\"\n",
       "                            OLS Regression Results                            \n",
       "==============================================================================\n",
       "Dep. Variable:                   math   R-squared:                       0.297\n",
       "Model:                            OLS   Adj. R-squared:                  0.267\n",
       "Method:                 Least Squares   F-statistic:                     9.946\n",
       "Date:                Wed, 10 Jun 2020   Prob (F-statistic):           0.000250\n",
       "Time:                        17:32:44   Log-Likelihood:                 11.020\n",
       "No. Observations:                  50   AIC:                            -16.04\n",
       "Df Residuals:                      47   BIC:                            -10.30\n",
       "Df Model:                           2                                         \n",
       "Covariance Type:            nonrobust                                         \n",
       "==============================================================================\n",
       "                 coef    std err          t      P>|t|      [0.025      0.975]\n",
       "------------------------------------------------------------------------------\n",
       "Intercept      0.1703      0.080      2.118      0.040       0.009       0.332\n",
       "breakfast     -0.0269      0.158     -0.171      0.865      -0.344       0.290\n",
       "life_style     0.6829      0.205      3.336      0.002       0.271       1.095\n",
       "==============================================================================\n",
       "Omnibus:                        1.175   Durbin-Watson:                   2.649\n",
       "Prob(Omnibus):                  0.556   Jarque-Bera (JB):                0.456\n",
       "Skew:                           0.019   Prob(JB):                        0.796\n",
       "Kurtosis:                       3.466   Cond. No.                         10.6\n",
       "==============================================================================\n",
       "\n",
       "Warnings:\n",
       "[1] Standard Errors assume that the covariance matrix of the errors is correctly specified.\n",
       "\"\"\""
      ]
     },
     "execution_count": 19,
     "metadata": {},
     "output_type": "execute_result"
    }
   ],
   "source": [
    "reg = \"math ~ breakfast + life_style\"\n",
    "model = sm.ols(formula=reg, data=backdoor1_df)\n",
    "\n",
    "# 回帰分析を実行する\n",
    "result = model.fit()\n",
    "result.summary()"
   ]
  },
  {
   "cell_type": "markdown",
   "metadata": {},
   "source": [
    "### Q7. バックドア（2/2）\n",
    "``data/causal-analysis/backdoor2.tsv``ファイルには，ある試験の合否結果（``exam_result``）と評価スコア（英語（``english``），課外活動（``social_activity``））が収められている（データはフィクションである）．\n",
    "\n",
    "課外活動を目的変数，英語を説明変数とした回帰分析を行え．さらに，説明変数に合否の結果を加えた重回帰分析を行い，先の回帰分析との結果を比較し，合否結果を重回帰分析に加えることの影響について考察せよ．"
   ]
  },
  {
   "cell_type": "code",
   "execution_count": 20,
   "metadata": {},
   "outputs": [],
   "source": [
    "backdoor2_df = pd.read_csv(\"../data/causal-analysis/backdoor2.tsv\", sep='\\t')"
   ]
  },
  {
   "cell_type": "markdown",
   "metadata": {},
   "source": [
    "##### 単回帰"
   ]
  },
  {
   "cell_type": "code",
   "execution_count": 21,
   "metadata": {},
   "outputs": [
    {
     "data": {
      "text/plain": [
       "<seaborn.axisgrid.FacetGrid at 0x121682070>"
      ]
     },
     "execution_count": 21,
     "metadata": {},
     "output_type": "execute_result"
    },
    {
     "data": {
      "image/png": "[encoded data removed]",
      "text/plain": [
       "<Figure size 360x360 with 1 Axes>"
      ]
     },
     "metadata": {
      "needs_background": "light"
     },
     "output_type": "display_data"
    }
   ],
   "source": [
    "sns.lmplot(x=\"english\", y=\"social_activity\", data=backdoor2_df, ci=95)"
   ]
  },
  {
   "cell_type": "code",
   "execution_count": 22,
   "metadata": {},
   "outputs": [
    {
     "data": {
      "text/html": [
       "<table class=\"simpletable\">\n",
       "<caption>OLS Regression Results</caption>\n",
       "<tr>\n",
       "  <th>Dep. Variable:</th>     <td>social_activity</td> <th>  R-squared:         </th> <td>   0.000</td>\n",
       "</tr>\n",
       "<tr>\n",
       "  <th>Model:</th>                   <td>OLS</td>       <th>  Adj. R-squared:    </th> <td>  -0.020</td>\n",
       "</tr>\n",
       "<tr>\n",
       "  <th>Method:</th>             <td>Least Squares</td>  <th>  F-statistic:       </th> <td>0.001084</td>\n",
       "</tr>\n",
       "<tr>\n",
       "  <th>Date:</th>             <td>Wed, 10 Jun 2020</td> <th>  Prob (F-statistic):</th>  <td> 0.974</td> \n",
       "</tr>\n",
       "<tr>\n",
       "  <th>Time:</th>                 <td>17:32:44</td>     <th>  Log-Likelihood:    </th> <td> -207.47</td>\n",
       "</tr>\n",
       "<tr>\n",
       "  <th>No. Observations:</th>      <td>    52</td>      <th>  AIC:               </th> <td>   418.9</td>\n",
       "</tr>\n",
       "<tr>\n",
       "  <th>Df Residuals:</th>          <td>    50</td>      <th>  BIC:               </th> <td>   422.8</td>\n",
       "</tr>\n",
       "<tr>\n",
       "  <th>Df Model:</th>              <td>     1</td>      <th>                     </th>     <td> </td>   \n",
       "</tr>\n",
       "<tr>\n",
       "  <th>Covariance Type:</th>      <td>nonrobust</td>    <th>                     </th>     <td> </td>   \n",
       "</tr>\n",
       "</table>\n",
       "<table class=\"simpletable\">\n",
       "<tr>\n",
       "      <td></td>         <th>coef</th>     <th>std err</th>      <th>t</th>      <th>P>|t|</th>  <th>[0.025</th>    <th>0.975]</th>  \n",
       "</tr>\n",
       "<tr>\n",
       "  <th>Intercept</th> <td>   49.6829</td> <td>    7.526</td> <td>    6.601</td> <td> 0.000</td> <td>   34.566</td> <td>   64.800</td>\n",
       "</tr>\n",
       "<tr>\n",
       "  <th>english</th>   <td>    0.0051</td> <td>    0.153</td> <td>    0.033</td> <td> 0.974</td> <td>   -0.303</td> <td>    0.313</td>\n",
       "</tr>\n",
       "</table>\n",
       "<table class=\"simpletable\">\n",
       "<tr>\n",
       "  <th>Omnibus:</th>       <td> 1.943</td> <th>  Durbin-Watson:     </th> <td>   1.282</td>\n",
       "</tr>\n",
       "<tr>\n",
       "  <th>Prob(Omnibus):</th> <td> 0.379</td> <th>  Jarque-Bera (JB):  </th> <td>   1.254</td>\n",
       "</tr>\n",
       "<tr>\n",
       "  <th>Skew:</th>          <td>-0.011</td> <th>  Prob(JB):          </th> <td>   0.534</td>\n",
       "</tr>\n",
       "<tr>\n",
       "  <th>Kurtosis:</th>      <td> 2.239</td> <th>  Cond. No.          </th> <td>    200.</td>\n",
       "</tr>\n",
       "</table><br/><br/>Warnings:<br/>[1] Standard Errors assume that the covariance matrix of the errors is correctly specified."
      ],
      "text/plain": [
       "<class 'statsmodels.iolib.summary.Summary'>\n",
       "\"\"\"\n",
       "                            OLS Regression Results                            \n",
       "==============================================================================\n",
       "Dep. Variable:        social_activity   R-squared:                       0.000\n",
       "Model:                            OLS   Adj. R-squared:                 -0.020\n",
       "Method:                 Least Squares   F-statistic:                  0.001084\n",
       "Date:                Wed, 10 Jun 2020   Prob (F-statistic):              0.974\n",
       "Time:                        17:32:44   Log-Likelihood:                -207.47\n",
       "No. Observations:                  52   AIC:                             418.9\n",
       "Df Residuals:                      50   BIC:                             422.8\n",
       "Df Model:                           1                                         \n",
       "Covariance Type:            nonrobust                                         \n",
       "==============================================================================\n",
       "                 coef    std err          t      P>|t|      [0.025      0.975]\n",
       "------------------------------------------------------------------------------\n",
       "Intercept     49.6829      7.526      6.601      0.000      34.566      64.800\n",
       "english        0.0051      0.153      0.033      0.974      -0.303       0.313\n",
       "==============================================================================\n",
       "Omnibus:                        1.943   Durbin-Watson:                   1.282\n",
       "Prob(Omnibus):                  0.379   Jarque-Bera (JB):                1.254\n",
       "Skew:                          -0.011   Prob(JB):                        0.534\n",
       "Kurtosis:                       2.239   Cond. No.                         200.\n",
       "==============================================================================\n",
       "\n",
       "Warnings:\n",
       "[1] Standard Errors assume that the covariance matrix of the errors is correctly specified.\n",
       "\"\"\""
      ]
     },
     "execution_count": 22,
     "metadata": {},
     "output_type": "execute_result"
    }
   ],
   "source": [
    "reg = \"social_activity ~ english\"\n",
    "model = sm.ols(formula=reg, data=backdoor2_df)\n",
    "\n",
    "# 回帰分析を実行する\n",
    "result = model.fit()\n",
    "result.summary()"
   ]
  },
  {
   "cell_type": "markdown",
   "metadata": {},
   "source": [
    "##### 重回帰 with バックドア"
   ]
  },
  {
   "cell_type": "code",
   "execution_count": 23,
   "metadata": {},
   "outputs": [
    {
     "data": {
      "text/plain": [
       "<seaborn.axisgrid.FacetGrid at 0x1217b6fa0>"
      ]
     },
     "execution_count": 23,
     "metadata": {},
     "output_type": "execute_result"
    },
    {
     "data": {
      "image/png": "[encoded data removed]",
      "text/plain": [
       "<Figure size 434.3x360 with 1 Axes>"
      ]
     },
     "metadata": {
      "needs_background": "light"
     },
     "output_type": "display_data"
    }
   ],
   "source": [
    "sns.lmplot(x=\"english\", y=\"social_activity\", hue=\"exam_result\",\n",
    "           data=backdoor2_df, ci=95)"
   ]
  },
  {
   "cell_type": "code",
   "execution_count": 24,
   "metadata": {},
   "outputs": [
    {
     "data": {
      "text/html": [
       "<table class=\"simpletable\">\n",
       "<caption>OLS Regression Results</caption>\n",
       "<tr>\n",
       "  <th>Dep. Variable:</th>     <td>social_activity</td> <th>  R-squared:         </th> <td>   0.524</td>\n",
       "</tr>\n",
       "<tr>\n",
       "  <th>Model:</th>                   <td>OLS</td>       <th>  Adj. R-squared:    </th> <td>   0.505</td>\n",
       "</tr>\n",
       "<tr>\n",
       "  <th>Method:</th>             <td>Least Squares</td>  <th>  F-statistic:       </th> <td>   26.99</td>\n",
       "</tr>\n",
       "<tr>\n",
       "  <th>Date:</th>             <td>Wed, 10 Jun 2020</td> <th>  Prob (F-statistic):</th> <td>1.25e-08</td>\n",
       "</tr>\n",
       "<tr>\n",
       "  <th>Time:</th>                 <td>17:32:44</td>     <th>  Log-Likelihood:    </th> <td> -188.16</td>\n",
       "</tr>\n",
       "<tr>\n",
       "  <th>No. Observations:</th>      <td>    52</td>      <th>  AIC:               </th> <td>   382.3</td>\n",
       "</tr>\n",
       "<tr>\n",
       "  <th>Df Residuals:</th>          <td>    49</td>      <th>  BIC:               </th> <td>   388.2</td>\n",
       "</tr>\n",
       "<tr>\n",
       "  <th>Df Model:</th>              <td>     2</td>      <th>                     </th>     <td> </td>   \n",
       "</tr>\n",
       "<tr>\n",
       "  <th>Covariance Type:</th>      <td>nonrobust</td>    <th>                     </th>     <td> </td>   \n",
       "</tr>\n",
       "</table>\n",
       "<table class=\"simpletable\">\n",
       "<tr>\n",
       "       <td></td>          <th>coef</th>     <th>std err</th>      <th>t</th>      <th>P>|t|</th>  <th>[0.025</th>    <th>0.975]</th>  \n",
       "</tr>\n",
       "<tr>\n",
       "  <th>Intercept</th>   <td>   60.8455</td> <td>    5.460</td> <td>   11.144</td> <td> 0.000</td> <td>   49.873</td> <td>   71.818</td>\n",
       "</tr>\n",
       "<tr>\n",
       "  <th>english</th>     <td>   -0.4719</td> <td>    0.125</td> <td>   -3.772</td> <td> 0.000</td> <td>   -0.723</td> <td>   -0.220</td>\n",
       "</tr>\n",
       "<tr>\n",
       "  <th>exam_result</th> <td>   22.1664</td> <td>    3.017</td> <td>    7.347</td> <td> 0.000</td> <td>   16.103</td> <td>   28.230</td>\n",
       "</tr>\n",
       "</table>\n",
       "<table class=\"simpletable\">\n",
       "<tr>\n",
       "  <th>Omnibus:</th>       <td> 0.211</td> <th>  Durbin-Watson:     </th> <td>   2.359</td>\n",
       "</tr>\n",
       "<tr>\n",
       "  <th>Prob(Omnibus):</th> <td> 0.900</td> <th>  Jarque-Bera (JB):  </th> <td>   0.002</td>\n",
       "</tr>\n",
       "<tr>\n",
       "  <th>Skew:</th>          <td>-0.001</td> <th>  Prob(JB):          </th> <td>   0.999</td>\n",
       "</tr>\n",
       "<tr>\n",
       "  <th>Kurtosis:</th>      <td> 3.026</td> <th>  Cond. No.          </th> <td>    211.</td>\n",
       "</tr>\n",
       "</table><br/><br/>Warnings:<br/>[1] Standard Errors assume that the covariance matrix of the errors is correctly specified."
      ],
      "text/plain": [
       "<class 'statsmodels.iolib.summary.Summary'>\n",
       "\"\"\"\n",
       "                            OLS Regression Results                            \n",
       "==============================================================================\n",
       "Dep. Variable:        social_activity   R-squared:                       0.524\n",
       "Model:                            OLS   Adj. R-squared:                  0.505\n",
       "Method:                 Least Squares   F-statistic:                     26.99\n",
       "Date:                Wed, 10 Jun 2020   Prob (F-statistic):           1.25e-08\n",
       "Time:                        17:32:44   Log-Likelihood:                -188.16\n",
       "No. Observations:                  52   AIC:                             382.3\n",
       "Df Residuals:                      49   BIC:                             388.2\n",
       "Df Model:                           2                                         \n",
       "Covariance Type:            nonrobust                                         \n",
       "===============================================================================\n",
       "                  coef    std err          t      P>|t|      [0.025      0.975]\n",
       "-------------------------------------------------------------------------------\n",
       "Intercept      60.8455      5.460     11.144      0.000      49.873      71.818\n",
       "english        -0.4719      0.125     -3.772      0.000      -0.723      -0.220\n",
       "exam_result    22.1664      3.017      7.347      0.000      16.103      28.230\n",
       "==============================================================================\n",
       "Omnibus:                        0.211   Durbin-Watson:                   2.359\n",
       "Prob(Omnibus):                  0.900   Jarque-Bera (JB):                0.002\n",
       "Skew:                          -0.001   Prob(JB):                        0.999\n",
       "Kurtosis:                       3.026   Cond. No.                         211.\n",
       "==============================================================================\n",
       "\n",
       "Warnings:\n",
       "[1] Standard Errors assume that the covariance matrix of the errors is correctly specified.\n",
       "\"\"\""
      ]
     },
     "execution_count": 24,
     "metadata": {},
     "output_type": "execute_result"
    }
   ],
   "source": [
    "reg = \"social_activity ~ english + exam_result\"\n",
    "model = sm.ols(formula=reg, data=backdoor2_df)\n",
    "\n",
    "# 回帰分析を実行する\n",
    "result = model.fit()\n",
    "result.summary()"
   ]
  },
  {
   "cell_type": "markdown",
   "metadata": {},
   "source": [
    "### Q8. CMの効果検証（1）：素朴な分析"
   ]
  },
  {
   "cell_type": "markdown",
   "metadata": {},
   "source": [
    "[岩波データサイエンス Vol.3のサポートページ](https://raw.githubusercontent.com/iwanami-datascience/vol3/master/kato%26hoshino/q_data_x.csv)にて公開されているファイルは，あるスマートフォン向けゲームGを開発・運営している企業がゲームGの利用を高めるべくテレビCMを打ち，その後の利用者の行動および利用者属性を記録したものである．このCSVファイルは行がモニタリングした利用者に対応し，各列には以下の情報が含まれている（詳細は[コチラ](https://drive.google.com/file/d/0Bw-J75fYQ33NV19UM3JFLTVJX2s/view)）：\n",
    "\n",
    "* ``cm_dummy``：CMを見たかどうかのフラグ（介入フラグ）\n",
    "* ``gamedummy``：ゲームをプレイしたかのフラグ\n",
    "* ``area_kanto``：利用者の居住地が関東エリアかを示すフラグ\n",
    "* ``area_keihan``：利用者の居住地が京浜エリアかを示すフラグ（area_keihinのタイポと思われる）\n",
    "* ``area_tokai``：利用者の居住地が東海エリアかを示すフラグ\n",
    "* ``area_keihanshin``：利用者の居住地が京阪神エリアかを示すフラグ\n",
    "* ``age``：年齢\n",
    "* ``sex``：性別\n",
    "* ``marry_dummy``：既婚か否かを示すフラグ\n",
    "* ``job_dummyX``：職業\n",
    "* ``fam_str_dummyX``：家族構成\n",
    "* ``inc``：年収\n",
    "* ``pmoney``：1ヶ月あたりのお小遣い\n",
    "* ``child_dummy``：子どもの有無\n",
    "* ``T``：利用者がT層（13-19歳）か否か\n",
    "* ``F1``：利用者がF1層（20-34歳の女性）か否か\n",
    "* ``F2``：利用者がF2層（35-49歳の女性）か否か\n",
    "* ``F3``：利用者がF3層（50歳以上の女性）か否か\n",
    "* ``M1``：利用者がM1層（20-34歳の男性）か否か\n",
    "* ``M2``：利用者がM2層（35-49歳の男性）か否か\n",
    "* ``M3``：利用者がM3層（50歳以上の男性）か否か\n",
    "* ``TVwatch_day``：1日あたりのテレビ視聴時間（秒）\n",
    "* ``gamesecond``：ゲームGのプレイ時間（秒）\n",
    "* ``gamecount``：ゲームGのプレイ回数\n",
    "\n",
    "上記データをダウンロードし，そのデータを``pandas``データフレームに格納せよ．また，CM接触の有無ごとに\n",
    "* ゲームGのプレイ時間\n",
    "* ゲームGのプレイ回数\n",
    "\n",
    "の平均および標準偏差を計算せよ．また，CM接触の有無による「ゲームプレイ回数」「ゲームプレイ時間」の平均の差に関してt検定を行い，CMの効果に関して考察を行え．"
   ]
  },
  {
   "cell_type": "code",
   "execution_count": 25,
   "metadata": {},
   "outputs": [
    {
     "data": {
      "text/html": [
       "<div>\n",
       "<style scoped>\n",
       "    .dataframe tbody tr th:only-of-type {\n",
       "        vertical-align: middle;\n",
       "    }\n",
       "\n",
       "    .dataframe tbody tr th {\n",
       "        vertical-align: top;\n",
       "    }\n",
       "\n",
       "    .dataframe thead tr th {\n",
       "        text-align: left;\n",
       "    }\n",
       "\n",
       "    .dataframe thead tr:last-of-type th {\n",
       "        text-align: right;\n",
       "    }\n",
       "</style>\n",
       "<table border=\"1\" class=\"dataframe\">\n",
       "  <thead>\n",
       "    <tr>\n",
       "      <th></th>\n",
       "      <th colspan=\"2\" halign=\"left\">gamedummy</th>\n",
       "      <th colspan=\"2\" halign=\"left\">gamecount</th>\n",
       "      <th colspan=\"2\" halign=\"left\">gamesecond</th>\n",
       "    </tr>\n",
       "    <tr>\n",
       "      <th></th>\n",
       "      <th>mean</th>\n",
       "      <th>std</th>\n",
       "      <th>mean</th>\n",
       "      <th>std</th>\n",
       "      <th>mean</th>\n",
       "      <th>std</th>\n",
       "    </tr>\n",
       "    <tr>\n",
       "      <th>cm_dummy</th>\n",
       "      <th></th>\n",
       "      <th></th>\n",
       "      <th></th>\n",
       "      <th></th>\n",
       "      <th></th>\n",
       "      <th></th>\n",
       "    </tr>\n",
       "  </thead>\n",
       "  <tbody>\n",
       "    <tr>\n",
       "      <th>0</th>\n",
       "      <td>0.073087</td>\n",
       "      <td>0.260302</td>\n",
       "      <td>10.048497</td>\n",
       "      <td>55.266546</td>\n",
       "      <td>3107.706455</td>\n",
       "      <td>19496.771900</td>\n",
       "    </tr>\n",
       "    <tr>\n",
       "      <th>1</th>\n",
       "      <td>0.075290</td>\n",
       "      <td>0.263890</td>\n",
       "      <td>8.563948</td>\n",
       "      <td>53.331477</td>\n",
       "      <td>2478.065878</td>\n",
       "      <td>15564.015196</td>\n",
       "    </tr>\n",
       "  </tbody>\n",
       "</table>\n",
       "</div>"
      ],
      "text/plain": [
       "         gamedummy            gamecount              gamesecond              \n",
       "              mean       std       mean        std         mean           std\n",
       "cm_dummy                                                                     \n",
       "0         0.073087  0.260302  10.048497  55.266546  3107.706455  19496.771900\n",
       "1         0.075290  0.263890   8.563948  53.331477  2478.065878  15564.015196"
      ]
     },
     "execution_count": 25,
     "metadata": {},
     "output_type": "execute_result"
    }
   ],
   "source": [
    "cm_df = pd.read_csv(\"../data/causal-analysis/q_data_x.csv\")\n",
    "\n",
    "# 集計\n",
    "cm_df.groupby(['cm_dummy']).agg({\n",
    "    'gamedummy': [np.mean, np.std],    \n",
    "    'gamecount': [np.mean, np.std],\n",
    "    'gamesecond': [np.mean, np.std]\n",
    "})"
   ]
  },
  {
   "cell_type": "markdown",
   "metadata": {},
   "source": [
    "##### プレイの有無"
   ]
  },
  {
   "cell_type": "code",
   "execution_count": 26,
   "metadata": {},
   "outputs": [
    {
     "name": "stdout",
     "output_type": "stream",
     "text": [
      "p-value on gamesecond =  0.678607379511988\n"
     ]
    }
   ],
   "source": [
    "t, p, dof = ttest_ind(cm_df[cm_df.cm_dummy == 1].gamedummy, \n",
    "                      cm_df[cm_df.cm_dummy == 0].gamedummy)\n",
    "\n",
    "print(\"p-value on gamesecond = \", p)"
   ]
  },
  {
   "cell_type": "markdown",
   "metadata": {},
   "source": [
    "##### プレイ回数"
   ]
  },
  {
   "cell_type": "code",
   "execution_count": 27,
   "metadata": {},
   "outputs": [
    {
     "name": "stdout",
     "output_type": "stream",
     "text": [
      "p-value on gamecount =  0.1794551497544827\n"
     ]
    }
   ],
   "source": [
    "t, p, dof = ttest_ind(cm_df[cm_df.cm_dummy == 1].gamecount, \n",
    "                      cm_df[cm_df.cm_dummy == 0].gamecount)\n",
    "\n",
    "print(\"p-value on gamecount = \", p)"
   ]
  },
  {
   "cell_type": "markdown",
   "metadata": {},
   "source": [
    "##### プレイ時間"
   ]
  },
  {
   "cell_type": "code",
   "execution_count": 28,
   "metadata": {},
   "outputs": [
    {
     "name": "stdout",
     "output_type": "stream",
     "text": [
      "p-value on gamesecond =  0.08439975968019144\n"
     ]
    }
   ],
   "source": [
    "t, p, dof = ttest_ind(cm_df[cm_df.cm_dummy == 1].gamesecond, \n",
    "                      cm_df[cm_df.cm_dummy == 0].gamesecond)\n",
    "\n",
    "print(\"p-value on gamesecond = \", p)"
   ]
  },
  {
   "cell_type": "markdown",
   "metadata": {},
   "source": [
    "### Q9. CMの効果検証（2）：セレクションバイアス\n",
    "Q8のような方法でCMの効果検証を行う場合，CMに接触した利用者群とCMに接触しなかった利用者群の特徴が類似していなければ，プレイ回数やプレイ時間の平均の差を調べても，CMの効果によって差が生じたのか，群の性質（利用者の特徴）の違いによって差が生じたのかが分からない．\n",
    "\n",
    "CMに接触した利用者と接触しなかった利用者の群において，下記項目の分布を比較し，2つの群の性質に違いがあるかないかを考察せよ．\n",
    "* 年齢\n",
    "* 性別\n",
    "* 年収\n",
    "* 子どもの有無\n",
    "* 配偶者の有無\n",
    "* 居住地\n",
    "* 1日あたりのテレビ視聴時間"
   ]
  },
  {
   "cell_type": "markdown",
   "metadata": {},
   "source": [
    "##### 平均と標準偏差"
   ]
  },
  {
   "cell_type": "code",
   "execution_count": 29,
   "metadata": {},
   "outputs": [
    {
     "data": {
      "text/html": [
       "<div>\n",
       "<style scoped>\n",
       "    .dataframe tbody tr th:only-of-type {\n",
       "        vertical-align: middle;\n",
       "    }\n",
       "\n",
       "    .dataframe tbody tr th {\n",
       "        vertical-align: top;\n",
       "    }\n",
       "\n",
       "    .dataframe thead th {\n",
       "        text-align: right;\n",
       "    }\n",
       "</style>\n",
       "<table border=\"1\" class=\"dataframe\">\n",
       "  <thead>\n",
       "    <tr style=\"text-align: right;\">\n",
       "      <th></th>\n",
       "      <th>cm_dummy</th>\n",
       "      <th>0</th>\n",
       "      <th>1</th>\n",
       "    </tr>\n",
       "  </thead>\n",
       "  <tbody>\n",
       "    <tr>\n",
       "      <th rowspan=\"2\" valign=\"top\">age</th>\n",
       "      <th>mean</th>\n",
       "      <td>40.187158</td>\n",
       "      <td>41.767133</td>\n",
       "    </tr>\n",
       "    <tr>\n",
       "      <th>std</th>\n",
       "      <td>10.636461</td>\n",
       "      <td>10.148360</td>\n",
       "    </tr>\n",
       "    <tr>\n",
       "      <th rowspan=\"2\" valign=\"top\">sex</th>\n",
       "      <th>mean</th>\n",
       "      <td>0.671107</td>\n",
       "      <td>0.596766</td>\n",
       "    </tr>\n",
       "    <tr>\n",
       "      <th>std</th>\n",
       "      <td>0.469851</td>\n",
       "      <td>0.490606</td>\n",
       "    </tr>\n",
       "    <tr>\n",
       "      <th rowspan=\"2\" valign=\"top\">marry_dummy</th>\n",
       "      <th>mean</th>\n",
       "      <td>0.630464</td>\n",
       "      <td>0.670367</td>\n",
       "    </tr>\n",
       "    <tr>\n",
       "      <th>std</th>\n",
       "      <td>0.482720</td>\n",
       "      <td>0.470137</td>\n",
       "    </tr>\n",
       "    <tr>\n",
       "      <th rowspan=\"2\" valign=\"top\">child_dummy</th>\n",
       "      <th>mean</th>\n",
       "      <td>0.421960</td>\n",
       "      <td>0.424469</td>\n",
       "    </tr>\n",
       "    <tr>\n",
       "      <th>std</th>\n",
       "      <td>0.493914</td>\n",
       "      <td>0.494322</td>\n",
       "    </tr>\n",
       "    <tr>\n",
       "      <th rowspan=\"2\" valign=\"top\">area_kanto</th>\n",
       "      <th>mean</th>\n",
       "      <td>0.063012</td>\n",
       "      <td>0.131033</td>\n",
       "    </tr>\n",
       "    <tr>\n",
       "      <th>std</th>\n",
       "      <td>0.243006</td>\n",
       "      <td>0.337477</td>\n",
       "    </tr>\n",
       "    <tr>\n",
       "      <th rowspan=\"2\" valign=\"top\">area_keihan</th>\n",
       "      <th>mean</th>\n",
       "      <td>0.509051</td>\n",
       "      <td>0.701255</td>\n",
       "    </tr>\n",
       "    <tr>\n",
       "      <th>std</th>\n",
       "      <td>0.499961</td>\n",
       "      <td>0.457763</td>\n",
       "    </tr>\n",
       "    <tr>\n",
       "      <th rowspan=\"2\" valign=\"top\">area_tokai</th>\n",
       "      <th>mean</th>\n",
       "      <td>0.124488</td>\n",
       "      <td>0.093147</td>\n",
       "    </tr>\n",
       "    <tr>\n",
       "      <th>std</th>\n",
       "      <td>0.330165</td>\n",
       "      <td>0.290673</td>\n",
       "    </tr>\n",
       "    <tr>\n",
       "      <th rowspan=\"2\" valign=\"top\">area_keihanshin</th>\n",
       "      <th>mean</th>\n",
       "      <td>0.303449</td>\n",
       "      <td>0.074566</td>\n",
       "    </tr>\n",
       "    <tr>\n",
       "      <th>std</th>\n",
       "      <td>0.459787</td>\n",
       "      <td>0.262721</td>\n",
       "    </tr>\n",
       "    <tr>\n",
       "      <th rowspan=\"2\" valign=\"top\">inc</th>\n",
       "      <th>mean</th>\n",
       "      <td>369.245902</td>\n",
       "      <td>341.697153</td>\n",
       "    </tr>\n",
       "    <tr>\n",
       "      <th>std</th>\n",
       "      <td>264.486960</td>\n",
       "      <td>270.695337</td>\n",
       "    </tr>\n",
       "    <tr>\n",
       "      <th rowspan=\"2\" valign=\"top\">TVwatch_day</th>\n",
       "      <th>mean</th>\n",
       "      <td>5714.982257</td>\n",
       "      <td>11461.881259</td>\n",
       "    </tr>\n",
       "    <tr>\n",
       "      <th>std</th>\n",
       "      <td>5690.371292</td>\n",
       "      <td>8851.091199</td>\n",
       "    </tr>\n",
       "  </tbody>\n",
       "</table>\n",
       "</div>"
      ],
      "text/plain": [
       "cm_dummy                        0             1\n",
       "age             mean    40.187158     41.767133\n",
       "                std     10.636461     10.148360\n",
       "sex             mean     0.671107      0.596766\n",
       "                std      0.469851      0.490606\n",
       "marry_dummy     mean     0.630464      0.670367\n",
       "                std      0.482720      0.470137\n",
       "child_dummy     mean     0.421960      0.424469\n",
       "                std      0.493914      0.494322\n",
       "area_kanto      mean     0.063012      0.131033\n",
       "                std      0.243006      0.337477\n",
       "area_keihan     mean     0.509051      0.701255\n",
       "                std      0.499961      0.457763\n",
       "area_tokai      mean     0.124488      0.093147\n",
       "                std      0.330165      0.290673\n",
       "area_keihanshin mean     0.303449      0.074566\n",
       "                std      0.459787      0.262721\n",
       "inc             mean   369.245902    341.697153\n",
       "                std    264.486960    270.695337\n",
       "TVwatch_day     mean  5714.982257  11461.881259\n",
       "                std   5690.371292   8851.091199"
      ]
     },
     "execution_count": 29,
     "metadata": {},
     "output_type": "execute_result"
    }
   ],
   "source": [
    "cm_df.groupby(['cm_dummy']).agg({\n",
    "    'age': [np.mean, np.std],\n",
    "    'sex': [np.mean, np.std],\n",
    "    'marry_dummy': [np.mean, np.std],\n",
    "    'child_dummy': [np.mean, np.std],    \n",
    "    'area_kanto': [np.mean, np.std],\n",
    "    'area_keihan': [np.mean, np.std],\n",
    "    'area_tokai': [np.mean, np.std],\n",
    "    'area_keihanshin': [np.mean, np.std],\n",
    "    'inc': [np.mean, np.std],\n",
    "    'TVwatch_day': [np.mean, np.std]\n",
    "}).T"
   ]
  },
  {
   "cell_type": "markdown",
   "metadata": {},
   "source": [
    "##### ヒストグラム"
   ]
  },
  {
   "cell_type": "code",
   "execution_count": 30,
   "metadata": {},
   "outputs": [
    {
     "data": {
      "text/plain": [
       "<matplotlib.legend.Legend at 0x12187dc10>"
      ]
     },
     "execution_count": 30,
     "metadata": {},
     "output_type": "execute_result"
    },
    {
     "data": {
      "image/png": "[encoded data removed]",
      "text/plain": [
       "<Figure size 432x288 with 1 Axes>"
      ]
     },
     "metadata": {
      "needs_background": "light"
     },
     "output_type": "display_data"
    }
   ],
   "source": [
    "# 性別の分布\n",
    "sns.distplot(cm_df[cm_df.cm_dummy == 0].sex, kde=False)\n",
    "fig = sns.distplot(cm_df[cm_df.cm_dummy == 1].sex, kde=False)\n",
    "fig.legend(['CM_dummy = 0', 'CM_dummy = 1'])"
   ]
  },
  {
   "cell_type": "code",
   "execution_count": 31,
   "metadata": {},
   "outputs": [
    {
     "data": {
      "text/plain": [
       "<matplotlib.legend.Legend at 0x1218e6100>"
      ]
     },
     "execution_count": 31,
     "metadata": {},
     "output_type": "execute_result"
    },
    {
     "data": {
      "image/png": "[encoded data removed]",
      "text/plain": [
       "<Figure size 432x288 with 1 Axes>"
      ]
     },
     "metadata": {
      "needs_background": "light"
     },
     "output_type": "display_data"
    }
   ],
   "source": [
    "# 年収の分布\n",
    "sns.distplot(cm_df[cm_df.cm_dummy == 0].inc, kde=False)\n",
    "fig = sns.distplot(cm_df[cm_df.cm_dummy == 1].inc, kde=False)\n",
    "fig.legend(['CM_dummy = 0', 'CM_dummy = 1'])"
   ]
  },
  {
   "cell_type": "code",
   "execution_count": 32,
   "metadata": {},
   "outputs": [
    {
     "data": {
      "text/plain": [
       "<matplotlib.legend.Legend at 0x121834400>"
      ]
     },
     "execution_count": 32,
     "metadata": {},
     "output_type": "execute_result"
    },
    {
     "data": {
      "image/png": "[encoded data removed]",
      "text/plain": [
       "<Figure size 432x288 with 1 Axes>"
      ]
     },
     "metadata": {
      "needs_background": "light"
     },
     "output_type": "display_data"
    }
   ],
   "source": [
    "# テレビ視聴時間の分布\n",
    "sns.distplot(cm_df[cm_df.cm_dummy == 0].TVwatch_day, kde=False)\n",
    "fig = sns.distplot(cm_df[cm_df.cm_dummy == 1].TVwatch_day, kde=False)\n",
    "fig.legend(['CM_dummy = 0', 'CM_dummy = 1'])"
   ]
  },
  {
   "cell_type": "markdown",
   "metadata": {},
   "source": [
    "### Q10. CMの効果検証（3）：傾向スコア\n",
    "比較している群の潜在的な特徴が異なることによって，介入（例：CM）効果の検証プロセスに発生するバイアスは**セレクションバイアス**と呼ばれる．セレクションバイアスの影響の除去には，様々な方法が提案されている．\n",
    "\n",
    "**[傾向スコア（propensity score）](https://www.randpy.tokyo/entry/propensity_score_1)** は，セレクションバイアスの影響を軽減しながら効果検証を行うために，介入群と非介入群で同じような性質を持つ集団をまとめるための情報を提供する．傾向スコアを用いて，CMがゲームプレイ時間に与える効果について再度考察せよ．\n",
    "\n",
    "**ヒント**：傾向スコアを用いた効果検証方法には，「傾向スコアマッチング」「IPW（逆確率重み付け）」「ダブルロバスト」などがある．今回の課題では，傾向スコアさえ用いれば，どのような方法を用いてもよい．"
   ]
  },
  {
   "cell_type": "markdown",
   "metadata": {},
   "source": [
    "#### 解説\n",
    "\n",
    "「傾向スコアを共変量に組み込んだ回帰分析（回帰モデルの補正項に傾向スコアを組み込む方法）」はあまり行わない．回帰分析を用いる方法は，設定した回帰モデルが誤っていた場合に問題が生じる．モデル依存性が低い他の方法が推奨されている．"
   ]
  },
  {
   "cell_type": "code",
   "execution_count": 33,
   "metadata": {},
   "outputs": [
    {
     "name": "stdout",
     "output_type": "stream",
     "text": [
      "3118.7017118124127 2590.5842467856246\n",
      "Average Treatment Effect (ATE) =  528.1174650267881\n"
     ]
    }
   ],
   "source": [
    "from sklearn.linear_model import LogisticRegression\n",
    "\n",
    "cm_df = pd.read_csv(\"../data/causal-analysis/q_data_x.csv\")\n",
    "\n",
    "# cm_df.columnsから介入変数と目的変数を除いたもの\n",
    "target_features = ['age', 'sex', 'inc',\n",
    "                   'area_kanto', 'area_keihan', 'area_tokai', 'area_keihanshin',\n",
    "                   'job_dummy1', 'job_dummy2', 'job_dummy3', 'job_dummy4', 'job_dummy5',\n",
    "                   'job_dummy6', 'job_dummy7', 'job_dummy8',\n",
    "                   'fam_str_dummy1', 'fam_str_dummy2', 'fam_str_dummy3', 'fam_str_dummy4', 'fam_str_dummy5',\n",
    "                   'T', 'M1', 'M2', 'M3', 'F1', 'F2', 'F3',\n",
    "                   'child_dummy', 'marry_dummy', 'pmoney', 'TVwatch_day']\n",
    "\n",
    "X = cm_df[target_features].values\n",
    "z = cm_df.cm_dummy.values\n",
    "y = cm_df['gamesecond']\n",
    "\n",
    "# 傾向スコアの計算\n",
    "lr = LogisticRegression(max_iter=10000, penalty='none')\n",
    "ps = lr.fit(X, z).predict_proba(X)[:, 1]\n",
    "\n",
    "# IPWE\n",
    "e_y1 = np.sum(z * y / ps) / np.sum(z / ps)\n",
    "e_y0 = np.sum((1 - z) * y / (1 - ps)) / np.sum((1 - z) / (1 - ps))\n",
    "\n",
    "ATE = e_y1 - e_y0\n",
    "print(e_y1, e_y0)\n",
    "print(\"Average Treatment Effect (ATE) = \", ATE)"
   ]
  },
  {
   "cell_type": "markdown",
   "metadata": {},
   "source": [
    "#### CausalML"
   ]
  },
  {
   "cell_type": "code",
   "execution_count": 34,
   "metadata": {},
   "outputs": [
    {
     "name": "stderr",
     "output_type": "stream",
     "text": [
      "The sklearn.utils.testing module is  deprecated in version 0.22 and will be removed in version 0.24. The corresponding classes / functions should instead be imported from sklearn.utils. Anything that cannot be imported from sklearn.utils is now part of the private API.\n"
     ]
    }
   ],
   "source": [
    "from causalml.inference.meta import BaseXLearner\n",
    "from xgboost import XGBRegressor\n",
    "\n",
    "cm_df = pd.read_csv(\"../data/causal-analysis/q_data_x.csv\")"
   ]
  },
  {
   "cell_type": "markdown",
   "metadata": {},
   "source": [
    "##### ATE (Average Treatment Effect)"
   ]
  },
  {
   "cell_type": "code",
   "execution_count": 35,
   "metadata": {},
   "outputs": [
    {
     "name": "stderr",
     "output_type": "stream",
     "text": [
      "The max_iter was reached which means the coef_ did not converge\n",
      "The max_iter was reached which means the coef_ did not converge\n",
      "The max_iter was reached which means the coef_ did not converge\n",
      "The max_iter was reached which means the coef_ did not converge\n",
      "The max_iter was reached which means the coef_ did not converge\n",
      "The max_iter was reached which means the coef_ did not converge\n",
      "The max_iter was reached which means the coef_ did not converge\n",
      "The max_iter was reached which means the coef_ did not converge\n",
      "The max_iter was reached which means the coef_ did not converge\n",
      "The max_iter was reached which means the coef_ did not converge\n",
      "The max_iter was reached which means the coef_ did not converge\n",
      "The max_iter was reached which means the coef_ did not converge\n",
      "The max_iter was reached which means the coef_ did not converge\n",
      "The max_iter was reached which means the coef_ did not converge\n",
      "The max_iter was reached which means the coef_ did not converge\n",
      "The max_iter was reached which means the coef_ did not converge\n",
      "The max_iter was reached which means the coef_ did not converge\n",
      "The max_iter was reached which means the coef_ did not converge\n",
      "The max_iter was reached which means the coef_ did not converge\n",
      "The max_iter was reached which means the coef_ did not converge\n",
      "The max_iter was reached which means the coef_ did not converge\n",
      "The max_iter was reached which means the coef_ did not converge\n",
      "The max_iter was reached which means the coef_ did not converge\n",
      "The max_iter was reached which means the coef_ did not converge\n",
      "The max_iter was reached which means the coef_ did not converge\n",
      "The max_iter was reached which means the coef_ did not converge\n",
      "The max_iter was reached which means the coef_ did not converge\n",
      "The max_iter was reached which means the coef_ did not converge\n",
      "The max_iter was reached which means the coef_ did not converge\n",
      "The max_iter was reached which means the coef_ did not converge\n",
      "The max_iter was reached which means the coef_ did not converge\n",
      "The max_iter was reached which means the coef_ did not converge\n",
      "The max_iter was reached which means the coef_ did not converge\n",
      "The max_iter was reached which means the coef_ did not converge\n",
      "The max_iter was reached which means the coef_ did not converge\n",
      "The max_iter was reached which means the coef_ did not converge\n",
      "The max_iter was reached which means the coef_ did not converge\n",
      "The max_iter was reached which means the coef_ did not converge\n",
      "The max_iter was reached which means the coef_ did not converge\n",
      "The max_iter was reached which means the coef_ did not converge\n",
      "The max_iter was reached which means the coef_ did not converge\n",
      "The max_iter was reached which means the coef_ did not converge\n",
      "The max_iter was reached which means the coef_ did not converge\n",
      "The max_iter was reached which means the coef_ did not converge\n",
      "The max_iter was reached which means the coef_ did not converge\n",
      "The max_iter was reached which means the coef_ did not converge\n",
      "The max_iter was reached which means the coef_ did not converge\n",
      "The max_iter was reached which means the coef_ did not converge\n",
      "The max_iter was reached which means the coef_ did not converge\n"
     ]
    },
    {
     "name": "stdout",
     "output_type": "stream",
     "text": [
      "Average Treatment Effect (ATE) =  831.4576999271014\n"
     ]
    }
   ],
   "source": [
    "target_features = ['age', 'sex', 'inc',\n",
    "                   'area_kanto', 'area_keihan', 'area_tokai', 'area_keihanshin',\n",
    "                   'job_dummy1', 'job_dummy2', 'job_dummy3', 'job_dummy4', 'job_dummy5',\n",
    "                   'job_dummy6', 'job_dummy7', 'job_dummy8',\n",
    "                   'fam_str_dummy1', 'fam_str_dummy2', 'fam_str_dummy3', 'fam_str_dummy4', 'fam_str_dummy5',\n",
    "                   'T', 'M1', 'M2', 'M3', 'F1', 'F2', 'F3',\n",
    "                   'child_dummy', 'marry_dummy', 'pmoney', 'TVwatch_day']\n",
    "\n",
    "x_learner = BaseXLearner(learner=XGBRegressor())\n",
    "\n",
    "# 学習・効果量算出\n",
    "X = cm_df[target_features]\n",
    "Z = cm_df['cm_dummy']\n",
    "y = cm_df['gamesecond']\n",
    "\n",
    "# 着実にやるなら\n",
    "x_learner.fit(X=X, treatment=Z, y=y)\n",
    "CATE = x_learner.predict(X=X)\n",
    "ATE = np.mean(CATE.flatten())\n",
    "print(\"Average Treatment Effect (ATE) = \", ATE)\n",
    "\n",
    "# # 一発でやるなら\n",
    "# ATE, lower_b, upper_b = x_learner.estimate_ate(X, Z, y)\n",
    "# print(\"Average Treatment Effect (ATE) = \", ATE)"
   ]
  },
  {
   "cell_type": "markdown",
   "metadata": {},
   "source": [
    "##### 効果に寄与する要因"
   ]
  },
  {
   "cell_type": "code",
   "execution_count": 36,
   "metadata": {},
   "outputs": [
    {
     "data": {
      "text/plain": [
       "{1: TVwatch_day        0.404018\n",
       " fam_str_dummy5     0.222604\n",
       " inc                0.079060\n",
       " pmoney             0.056595\n",
       " age                0.048559\n",
       " child_dummy        0.032344\n",
       " job_dummy2         0.022935\n",
       " job_dummy7         0.021457\n",
       " fam_str_dummy3     0.017999\n",
       " M2                 0.016372\n",
       " M1                 0.011139\n",
       " fam_str_dummy1     0.010876\n",
       " marry_dummy        0.009631\n",
       " area_tokai         0.009442\n",
       " area_keihan        0.008970\n",
       " sex                0.006448\n",
       " area_kanto         0.005554\n",
       " job_dummy1         0.003531\n",
       " job_dummy5         0.002661\n",
       " fam_str_dummy2     0.002283\n",
       " area_keihanshin    0.002153\n",
       " fam_str_dummy4     0.001260\n",
       " M3                 0.000879\n",
       " job_dummy3         0.000688\n",
       " job_dummy6         0.000671\n",
       " job_dummy4         0.000634\n",
       " job_dummy8         0.000384\n",
       " F1                 0.000336\n",
       " F2                 0.000294\n",
       " F3                 0.000221\n",
       " T                  0.000000\n",
       " dtype: float64}"
      ]
     },
     "execution_count": 36,
     "metadata": {},
     "output_type": "execute_result"
    }
   ],
   "source": [
    "x_learner.get_importance(X=X, # 共変量\n",
    "                         tau=CATE, # ITE\n",
    "                         normalize=True, \n",
    "                         method='auto', features=list(X.columns))"
   ]
  },
  {
   "cell_type": "markdown",
   "metadata": {},
   "source": [
    "---\n",
    "### 参考資料\n",
    "傾向スコアを用いた因果推論\n",
    "* [傾向スコアを用いた因果推論入門~理論編~](https://pira-nino.hatenablog.com/entry/casual_inference)\n",
    "* [傾向スコアを用いた因果推論入門~実装編~](https://pira-nino.hatenablog.com/entry/causal_inference_implement)\n",
    "* [傾向スコア：その概念とRによる実装（林岳彦さん）](https://www.slideshare.net/takehikoihayashi/propensity-score-analysis-seminar-japanese) ：図が分かりやすい\n",
    "\n",
    "岩波データサイエンスVol.3の分析例\n",
    "* [因果推論の王道テクニック”傾向スコア”を丁寧に考えてみる~RとPythonにて~](https://www.medi-08-data-06.work/entry/ps_score)\n",
    "* [岩波データサイエンスvol.3のCM接触の因果効果を他の方法で推定してみた(1)](https://yuranhiko.hatenablog.com/entry/causal_inference_iwanami3-1)\n",
    "* [岩波データサイエンスvol.3のCM接触の因果効果を他の方法で推定してみた(2)](https://yuranhiko.hatenablog.com/entry/causal_inference_iwanami3-2)\n",
    "* [岩波データサイエンスvol.3のCM接触の因果効果を他の方法で推定してみた(3)](https://yuranhiko.hatenablog.com/entry/causal_inference_iwanami3-3)\n",
    "\n",
    "バックドア基準の解説\n",
    "* [バックドア基準の入門とその使用例](https://www.slideshare.net/takehikoihayashi/ss-73059140)\n",
    "* [計量経済学応用 6. 重回帰分析 (1) @高知工科大学（->課題で用いたデータを作る際に参考にさせていただいた）](https://yukiyanai.github.io/jp/classes/econometrics2/contents/slides/applied-econometrics-slides-06.pdf)\n",
    "* [【点と矢印で因果関係を考える】因果関係がないときにデータから関連が生じるパターンとその対策まとめ：因果ダイアグラム（DAG）によるバイアスの視覚的整理 - Unboundedly](https://www.krsk-phs.com/entry/structural_bias)\n",
    "\n",
    "Do\n",
    "* [確率と因果を革命的に架橋する：Judea Pearlのdo演算子](http://takehiko-i-hayashi.hatenablog.com/entry/20111222/1324487579)\n",
    "\n",
    "Pythonで因果推論を行うためのライブラリ\n",
    "* [CausalML](https://github.com/uber/causalml) by Uber\n",
    "    * Uplift modelingが売り．他，Meta-learner\n",
    "* [dowhy](https://github.com/microsoft/dowhy) by Microsoft\n",
    "   * Pearl流の因果推論を行うライブラリ\n",
    "   * 強力なメソッドを提供してくれているというは，基本的なことを厳密にやるための機能を提供している\n",
    "* [EconML](https://github.com/microsoft/econml) by Microsoft\n",
    "    * Causal Forest，Meta-learnerなど\n",
    "    * TensorFlow 2.xでは動かない？ 1.x系が求められる？"
   ]
  }
 ],
 "metadata": {
  "kernelspec": {
   "display_name": "Python 3",
   "language": "python",
   "name": "python3"
  },
  "language_info": {
   "codemirror_mode": {
    "name": "ipython",
    "version": 3
   },
   "file_extension": ".py",
   "mimetype": "text/x-python",
   "name": "python",
   "nbconvert_exporter": "python",
   "pygments_lexer": "ipython3",
   "version": "3.8.2"
  }
 },
 "nbformat": 4,
 "nbformat_minor": 4
}
