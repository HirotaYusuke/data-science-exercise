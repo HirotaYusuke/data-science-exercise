{
 "cells": [
  {
   "cell_type": "markdown",
   "metadata": {},
   "source": [
    "# 機械学習アラカルト"
   ]
  },
  {
   "cell_type": "markdown",
   "metadata": {},
   "source": [
    "### Q1. 勾配法（最急降下法）\n",
    "下記コードを実行後に得られる``X``および``y``には，$y=3.14x-1.59$で表される直線上の点にノイズを加えたデータが納められている．このデータが$y=ax+b$という直線から得られたと仮定する．最急降下法を実装し，パラメータ``a``および``b``を求めよ．\n",
    "\n",
    "なお，パラメータ更新ステップの学習率は$10^{-4}$とせよ．また，終了条件は以下とせよ．\n",
    "* パラメータ更新回数が一定回数以上になった時，もしくは\n",
    "* パラメータの更新量の絶対値が$10^{-8}$以下になった時"
   ]
  },
  {
   "cell_type": "code",
   "execution_count": 1,
   "metadata": {},
   "outputs": [
    {
     "data": {
      "image/png": "[encoded data removed]",
      "text/plain": [
       "<Figure size 432x288 with 1 Axes>"
      ]
     },
     "metadata": {
      "needs_background": "light"
     },
     "output_type": "display_data"
    }
   ],
   "source": [
    "import random\n",
    "import numpy as np\n",
    "import seaborn as sns\n",
    "import matplotlib.pyplot as plt\n",
    "\n",
    "sns.set()\n",
    "sns.set_style('ticks')\n",
    "%matplotlib inline\n",
    "\n",
    "\n",
    "def f(x):\n",
    "    return  3.14 * x - 1.59\n",
    "\n",
    "data_num = 1000\n",
    "X = np.random.uniform(-2, 2, data_num).reshape(-1, 1)\n",
    "y = f(X) + np.random.normal(0, 1, data_num).reshape(-1, 1)\n",
    "\n",
    "sns.scatterplot(x=X[:, 0], y=y[:, 0], linewidth=0, s=5)\n",
    "plt.show()"
   ]
  },
  {
   "cell_type": "code",
   "execution_count": 2,
   "metadata": {},
   "outputs": [],
   "source": [
    "from tqdm.notebook import tqdm"
   ]
  },
  {
   "cell_type": "code",
   "execution_count": 3,
   "metadata": {},
   "outputs": [],
   "source": [
    "def loss_func(X, y, w):\n",
    "    return np.apply_along_axis(sum, 0, (X @ w.T - y) ** 2) / y.shape[0]\n",
    "\n",
    "def calc_gradient(X, y, w):\n",
    "    return np.apply_along_axis(sum, 0, 2 * X * (X @ w.T - y)).reshape(1, -1) / y.shape[0]"
   ]
  },
  {
   "cell_type": "code",
   "execution_count": 4,
   "metadata": {},
   "outputs": [],
   "source": [
    "def GD(X, y, max_iter_count=10000):\n",
    "    data_num, dim_num = X.shape\n",
    "    one_vec = np.ones((data_num, 1))\n",
    "    \n",
    "    X_new = np.hstack((X, one_vec))\n",
    "    w = np.empty((1, dim_num+1))\n",
    "\n",
    "    for epoch in tqdm(range(max_iter_count)):\n",
    "        grad = calc_gradient(X_new, y, w)\n",
    "        learning_rate = 0.0001\n",
    "        w_new = w - learning_rate * grad\n",
    "               \n",
    "        if np.linalg.norm(w_new - w) < 1e-8:\n",
    "            break\n",
    "        else:\n",
    "            w = w_new\n",
    "    \n",
    "    return w"
   ]
  },
  {
   "cell_type": "code",
   "execution_count": 5,
   "metadata": {},
   "outputs": [
    {
     "data": {
      "application/vnd.jupyter.widget-view+json": {
       "model_id": "ecaab40e45d54a07aa66fcc3abf6c9c8",
       "version_major": 2,
       "version_minor": 0
      },
      "text/plain": [
       "HBox(children=(FloatProgress(value=0.0, max=10000.0), HTML(value='')))"
      ]
     },
     "metadata": {},
     "output_type": "display_data"
    },
    {
     "name": "stdout",
     "output_type": "stream",
     "text": [
      "\n",
      "CPU times: user 4.04 s, sys: 88.2 ms, total: 4.13 s\n",
      "Wall time: 4.21 s\n"
     ]
    },
    {
     "data": {
      "text/plain": [
       "array([[ 3.30589869, -0.84618762]])"
      ]
     },
     "execution_count": 5,
     "metadata": {},
     "output_type": "execute_result"
    }
   ],
   "source": [
    "%%time\n",
    "GD(X, y, max_iter_count=10000)"
   ]
  },
  {
   "cell_type": "markdown",
   "metadata": {},
   "source": [
    "### Q2. 勾配法（確率的勾配降下法）\n",
    "確率的勾配降下法を実装し，先の課題のパラメータ推定を行い，計算速度および精度を比較せよ．なお，パラメータ更新ステップの学習率や終了条件は先の課題と同じとする．"
   ]
  },
  {
   "cell_type": "markdown",
   "metadata": {},
   "source": [
    "#### Plain SGD"
   ]
  },
  {
   "cell_type": "code",
   "execution_count": 6,
   "metadata": {},
   "outputs": [],
   "source": [
    "def SGD(X, y, max_iter_count=10000):\n",
    "    data_num, dim_num = X.shape\n",
    "    one_vec = np.ones((data_num, 1))\n",
    "    \n",
    "    X_new = np.hstack((X, one_vec))\n",
    "    w = np.empty((1, dim_num+1))\n",
    "    indices = list(range(data_num))\n",
    "    \n",
    "    epoch = 0\n",
    "    tqdm_bar = tqdm(total=max_iter_count)\n",
    "    while True:\n",
    "        random.shuffle(indices)\n",
    "        for target_id in indices:\n",
    "            _X = X_new[target_id, :].reshape(-1, dim_num+1)\n",
    "            _y = y[target_id, :].reshape(-1, 1)\n",
    "            \n",
    "            grad = calc_gradient(_X, _y, w)\n",
    "            learning_rate = 0.0001\n",
    "            w_new = w - learning_rate * grad\n",
    "            \n",
    "            if np.linalg.norm(w_new - w) <= 1e-8 or epoch >= max_iter_count:\n",
    "                break\n",
    "            else:\n",
    "                w = w_new\n",
    "            \n",
    "            epoch += 1\n",
    "            tqdm_bar.update(1)\n",
    "        else:\n",
    "            continue\n",
    "         \n",
    "        break\n",
    "    \n",
    "    tqdm_bar.close()\n",
    "    return w"
   ]
  },
  {
   "cell_type": "code",
   "execution_count": 7,
   "metadata": {},
   "outputs": [
    {
     "data": {
      "application/vnd.jupyter.widget-view+json": {
       "model_id": "1b4bf7c90b67446581fe6757908a4357",
       "version_major": 2,
       "version_minor": 0
      },
      "text/plain": [
       "HBox(children=(FloatProgress(value=0.0, max=10000.0), HTML(value='')))"
      ]
     },
     "metadata": {},
     "output_type": "display_data"
    },
    {
     "name": "stdout",
     "output_type": "stream",
     "text": [
      "\n",
      "CPU times: user 837 ms, sys: 77.8 ms, total: 915 ms\n",
      "Wall time: 878 ms\n"
     ]
    },
    {
     "data": {
      "text/plain": [
       "array([[ 3.14838181, -1.25499244]])"
      ]
     },
     "execution_count": 7,
     "metadata": {},
     "output_type": "execute_result"
    }
   ],
   "source": [
    "%%time\n",
    "SGD(X, y, max_iter_count=10000)"
   ]
  },
  {
   "cell_type": "markdown",
   "metadata": {},
   "source": [
    "#### Mini-batch SGD"
   ]
  },
  {
   "cell_type": "code",
   "execution_count": 8,
   "metadata": {},
   "outputs": [],
   "source": [
    "def SGD_with_minibatch(X, y, batch_size=50, max_iter_count=10000):\n",
    "    data_num, dim_num = X.shape\n",
    "    one_vec = np.ones((data_num, 1))\n",
    "    \n",
    "    X_new = np.hstack((X, one_vec))\n",
    "    w = np.empty((1, dim_num+1))\n",
    "    indices = list(range(data_num))\n",
    "    \n",
    "    for epoch in tqdm(range(max_iter_count)):\n",
    "        target_ids = np.random.choice(indices, batch_size)\n",
    "        _X = X_new[target_ids, :].reshape(-1, dim_num+1)\n",
    "        _y = y[target_ids, :].reshape(-1, 1)\n",
    "        \n",
    "        grad = calc_gradient(_X, _y, w)\n",
    "        learning_rate = learning_rate = 0.0001\n",
    "        w_new = w - learning_rate * grad\n",
    "        \n",
    "        if np.linalg.norm(w_new - w) < 1e-8 or epoch >= max_iter_count:\n",
    "            break\n",
    "        else:                              \n",
    "            w = w_new\n",
    "        \n",
    "    return w"
   ]
  },
  {
   "cell_type": "code",
   "execution_count": 9,
   "metadata": {},
   "outputs": [
    {
     "data": {
      "application/vnd.jupyter.widget-view+json": {
       "model_id": "31ec82c963c04149ba981cde4741e517",
       "version_major": 2,
       "version_minor": 0
      },
      "text/plain": [
       "HBox(children=(FloatProgress(value=0.0, max=10000.0), HTML(value='')))"
      ]
     },
     "metadata": {},
     "output_type": "display_data"
    },
    {
     "name": "stdout",
     "output_type": "stream",
     "text": [
      "\n",
      "CPU times: user 2.35 s, sys: 110 ms, total: 2.46 s\n",
      "Wall time: 2.48 s\n"
     ]
    },
    {
     "data": {
      "text/plain": [
       "array([[ 3.13663666, -1.19760009]])"
      ]
     },
     "execution_count": 9,
     "metadata": {},
     "output_type": "execute_result"
    }
   ],
   "source": [
    "%%time\n",
    "SGD_with_minibatch(X, y, batch_size=50, max_iter_count=10000)"
   ]
  },
  {
   "cell_type": "markdown",
   "metadata": {},
   "source": [
    "#### Momentum\n",
    "Pathological Curvature問題を以下に解決するか？これに対するアプローチがモメンタム以下の最適化アルゴリズム．\n",
    "\n",
    "https://qiita.com/omiita/items/1735c1d048fe5f611f80"
   ]
  },
  {
   "cell_type": "code",
   "execution_count": 10,
   "metadata": {},
   "outputs": [],
   "source": [
    "def Momentum(X, y, max_iter_count=10000):\n",
    "    data_num, dim_num = X.shape\n",
    "    one_vec = np.ones((data_num, 1))\n",
    "    \n",
    "    X_new = np.hstack((X, one_vec))\n",
    "    w = np.empty((1, dim_num+1))\n",
    "    indices = list(range(data_num))\n",
    "\n",
    "    alpha = 0.01\n",
    "    beta_1 = 0.9\n",
    "    m_last = 0\n",
    "    epoch = 0    \n",
    "    tqdm_bar = tqdm(total=max_iter_count)\n",
    "    while True:\n",
    "        random.shuffle(indices)\n",
    "        for target_id in indices:\n",
    "            _X = X_new[target_id, :].reshape(-1, dim_num+1)\n",
    "            _y = y[target_id, :].reshape(-1, 1)\n",
    "            \n",
    "            grad = calc_gradient(_X, _y, w)\n",
    "            m = beta_1 * m_last + (1 - beta_1) * grad\n",
    "            w_new = w - alpha * m\n",
    "            \n",
    "            if np.linalg.norm(w_new - w) <= 1e-8 or epoch >= max_iter_count:\n",
    "                break\n",
    "            else:\n",
    "                w = w_new\n",
    "                m_last = m\n",
    "            \n",
    "            epoch += 1\n",
    "            tqdm_bar.update(1)\n",
    "        else:\n",
    "            continue\n",
    "         \n",
    "        break\n",
    "    \n",
    "    tqdm_bar.close()\n",
    "    return w"
   ]
  },
  {
   "cell_type": "code",
   "execution_count": 11,
   "metadata": {},
   "outputs": [
    {
     "data": {
      "application/vnd.jupyter.widget-view+json": {
       "model_id": "02505caa72294db3a467208c6bd49724",
       "version_major": 2,
       "version_minor": 0
      },
      "text/plain": [
       "HBox(children=(FloatProgress(value=0.0, max=10000.0), HTML(value='')))"
      ]
     },
     "metadata": {},
     "output_type": "display_data"
    },
    {
     "name": "stdout",
     "output_type": "stream",
     "text": [
      "\n",
      "CPU times: user 983 ms, sys: 65.4 ms, total: 1.05 s\n",
      "Wall time: 1.05 s\n"
     ]
    },
    {
     "data": {
      "text/plain": [
       "array([[ 3.18889789, -1.6432962 ]])"
      ]
     },
     "execution_count": 11,
     "metadata": {},
     "output_type": "execute_result"
    }
   ],
   "source": [
    "%%time\n",
    "Momentum(X, y, max_iter_count=10000)"
   ]
  },
  {
   "cell_type": "markdown",
   "metadata": {},
   "source": [
    "#### RMSProp"
   ]
  },
  {
   "cell_type": "code",
   "execution_count": 12,
   "metadata": {},
   "outputs": [],
   "source": [
    "def RMSProp(X, y, max_iter_count=10000):\n",
    "    data_num, dim_num = X.shape\n",
    "    one_vec = np.ones((data_num, 1))\n",
    "    \n",
    "    X_new = np.hstack((X, one_vec))\n",
    "    w = np.empty((1, dim_num+1))\n",
    "    indices = list(range(data_num))\n",
    "\n",
    "    alpha = 0.01\n",
    "    beta_2 = 0.99\n",
    "    v_last = 0    \n",
    "    epoch = 0    \n",
    "    tqdm_bar = tqdm(total=max_iter_count)\n",
    "    while True:\n",
    "        random.shuffle(indices)\n",
    "        for target_id in indices:\n",
    "            _X = X_new[target_id, :].reshape(-1, dim_num+1)\n",
    "            _y = y[target_id, :].reshape(-1, 1)\n",
    "            \n",
    "            grad = calc_gradient(_X, _y, w)\n",
    "            v = beta_2 * v_last + (1 - beta_2) * (grad ** 2)\n",
    "            w_new = w - (alpha / np.sqrt(v + 1e-8)) * grad\n",
    "            \n",
    "            if np.linalg.norm(w_new - w) <= 1e-8 or epoch >= max_iter_count:\n",
    "                break\n",
    "            else:\n",
    "                w = w_new\n",
    "                v_last = v              \n",
    "            \n",
    "            epoch += 1\n",
    "            tqdm_bar.update(1)\n",
    "        else:\n",
    "            continue\n",
    "         \n",
    "        break\n",
    "    \n",
    "    tqdm_bar.close()\n",
    "    return w"
   ]
  },
  {
   "cell_type": "code",
   "execution_count": 13,
   "metadata": {},
   "outputs": [
    {
     "data": {
      "application/vnd.jupyter.widget-view+json": {
       "model_id": "6ea6aa33dc9a410090d07e801dc57074",
       "version_major": 2,
       "version_minor": 0
      },
      "text/plain": [
       "HBox(children=(FloatProgress(value=0.0, max=10000.0), HTML(value='')))"
      ]
     },
     "metadata": {},
     "output_type": "display_data"
    },
    {
     "name": "stdout",
     "output_type": "stream",
     "text": [
      "\n",
      "CPU times: user 989 ms, sys: 89.5 ms, total: 1.08 s\n",
      "Wall time: 1.02 s\n"
     ]
    },
    {
     "data": {
      "text/plain": [
       "array([[ 3.09634642, -1.57139316]])"
      ]
     },
     "execution_count": 13,
     "metadata": {},
     "output_type": "execute_result"
    }
   ],
   "source": [
    "%%time\n",
    "RMSProp(X, y, max_iter_count=10000)"
   ]
  },
  {
   "cell_type": "markdown",
   "metadata": {},
   "source": [
    "#### Adam"
   ]
  },
  {
   "cell_type": "code",
   "execution_count": 14,
   "metadata": {},
   "outputs": [],
   "source": [
    "def Adam(X, y, max_iter_count=10000):\n",
    "    data_num, dim_num = X.shape\n",
    "    one_vec = np.ones((data_num, 1))\n",
    "    \n",
    "    X_new = np.hstack((X, one_vec))\n",
    "    w = np.empty((1, dim_num+1))\n",
    "    indices = list(range(data_num))\n",
    "    \n",
    "    alpha = 0.001\n",
    "    beta_1 = 0.9\n",
    "    beta_2 = 0.999\n",
    "    m_last = 0\n",
    "    v_last = 0    \n",
    "    epoch = 0    \n",
    "    tqdm_bar = tqdm(total=max_iter_count)\n",
    "    while True:\n",
    "        random.shuffle(indices)\n",
    "        for target_id in indices:\n",
    "            _X = X_new[target_id, :].reshape(-1, dim_num+1)\n",
    "            _y = y[target_id, :].reshape(-1, 1)\n",
    "            \n",
    "            grad = calc_gradient(_X, _y, w)\n",
    "            m = beta_1 * m_last + (1 - beta_1) * grad\n",
    "            m_hat = m / (1 - pow(beta_1, epoch+1))\n",
    "            v = beta_2 * v_last + (1 - beta_2) * (grad ** 2)\n",
    "            v_hat = v / (1 - pow(beta_2, epoch+1))\n",
    "            w_new = w - (alpha / np.sqrt(v_hat + 1e-8)) * m_hat\n",
    "            \n",
    "            if np.linalg.norm(w_new - w) <= 1e-8 or epoch >= max_iter_count:\n",
    "                break\n",
    "            else:\n",
    "                w = w_new\n",
    "                m_last = m\n",
    "                v_last = v\n",
    "            \n",
    "            epoch += 1\n",
    "            tqdm_bar.update(1)\n",
    "        else:\n",
    "            continue\n",
    "         \n",
    "        break\n",
    "    \n",
    "    tqdm_bar.close()\n",
    "    return w"
   ]
  },
  {
   "cell_type": "code",
   "execution_count": 15,
   "metadata": {},
   "outputs": [
    {
     "data": {
      "application/vnd.jupyter.widget-view+json": {
       "model_id": "cb8ecca4bbc34f818618b5ea3ab890d0",
       "version_major": 2,
       "version_minor": 0
      },
      "text/plain": [
       "HBox(children=(FloatProgress(value=0.0, max=10000.0), HTML(value='')))"
      ]
     },
     "metadata": {},
     "output_type": "display_data"
    },
    {
     "name": "stdout",
     "output_type": "stream",
     "text": [
      "\n",
      "CPU times: user 1.04 s, sys: 87.1 ms, total: 1.13 s\n",
      "Wall time: 1.1 s\n"
     ]
    },
    {
     "data": {
      "text/plain": [
       "array([[ 3.14858531, -1.57990397]])"
      ]
     },
     "execution_count": 15,
     "metadata": {},
     "output_type": "execute_result"
    }
   ],
   "source": [
    "%%time\n",
    "Adam(X, y, max_iter_count=10000)"
   ]
  },
  {
   "cell_type": "markdown",
   "metadata": {},
   "source": [
    "#### Mini-batch Adam"
   ]
  },
  {
   "cell_type": "code",
   "execution_count": 16,
   "metadata": {},
   "outputs": [],
   "source": [
    "def Adam_with_minibatch(X, y, batch_size=50, max_iter_count=10000):\n",
    "    data_num, dim_num = X.shape\n",
    "    one_vec = np.ones((data_num, 1))\n",
    "    \n",
    "    X_new = np.hstack((X, one_vec))\n",
    "    w = np.empty((1, dim_num+1))\n",
    "    indices = list(range(data_num))\n",
    "\n",
    "    alpha = 0.001\n",
    "    beta_1 = 0.9\n",
    "    beta_2 = 0.999\n",
    "    m_last = 0\n",
    "    v_last = 0 \n",
    "    for epoch in tqdm(range(max_iter_count)):\n",
    "        target_ids = np.random.choice(indices, batch_size)\n",
    "        _X = X_new[target_ids, :].reshape(-1, dim_num+1)\n",
    "        _y = y[target_ids, :].reshape(-1, 1)\n",
    "        \n",
    "        grad = calc_gradient(_X, _y, w)\n",
    "        m = beta_1 * m_last + (1 - beta_1) * grad\n",
    "        m_hat = m / (1 - pow(beta_1, epoch+1))\n",
    "        v = beta_2 * v_last + (1 - beta_2) * (grad ** 2)\n",
    "        v_hat = v / (1 - pow(beta_2, epoch+1))\n",
    "        w_new = w - (alpha / np.sqrt(v_hat + 1e-8)) * m_hat\n",
    "\n",
    "        if np.linalg.norm(w_new - w) < 1e-8 or epoch >= max_iter_count:\n",
    "            break\n",
    "        else:                              \n",
    "            w = w_new\n",
    "            m_last = m\n",
    "            v_last = v\n",
    "        \n",
    "    return w"
   ]
  },
  {
   "cell_type": "code",
   "execution_count": 17,
   "metadata": {},
   "outputs": [
    {
     "data": {
      "application/vnd.jupyter.widget-view+json": {
       "model_id": "37d9805b5d0b446a98d2c288d3b21107",
       "version_major": 2,
       "version_minor": 0
      },
      "text/plain": [
       "HBox(children=(FloatProgress(value=0.0, max=10000.0), HTML(value='')))"
      ]
     },
     "metadata": {},
     "output_type": "display_data"
    },
    {
     "name": "stdout",
     "output_type": "stream",
     "text": [
      "\n",
      "CPU times: user 2.15 s, sys: 144 ms, total: 2.29 s\n",
      "Wall time: 2.21 s\n"
     ]
    },
    {
     "data": {
      "text/plain": [
       "array([[ 3.15896874, -1.57713775]])"
      ]
     },
     "execution_count": 17,
     "metadata": {},
     "output_type": "execute_result"
    }
   ],
   "source": [
    "%%time\n",
    "Adam_with_minibatch(X, y, max_iter_count=10000)"
   ]
  },
  {
   "cell_type": "markdown",
   "metadata": {},
   "source": [
    "### Q3. 次元の呪い（1/2）（最近傍点と最遠傍点との距離の差）\n",
    "各次元の定義域が[-1, 1]であるN次元のユークリッド空間$R^n$において，完全にランダムが点が散らばっている状況を考える．今，この空間上の点をランダムに50個取得した際，各点間のユークリッド距離の最大値と最小値の差を$\\delta_{dist}$とする．なお，この空間では，点間のユークリッド距離が取り得る最大値は$2\\sqrt{n}$となる．\n",
    "\n",
    "このユークリッド空間$R^n$の次元数を1から5000まで変化させたとき，$2\\sqrt{n}$で正規化した$\\delta_{dist}$の値がどのように変化するか，X軸を次元数，Y軸を$\\delta_{dist}$とする折れ線グラフで可視化せよ．また，高次元空間における点間の関係性を考察せよ．\n",
    "\n",
    "* ヒント1：下記コードは，各次元の定義域が[-1,1]である5次元ユークリッド空間上の点を（行列として）ランダムに3つ生成するコードである．\n",
    "* ヒント2：行列で表現された各ベクトル間の距離を計算には，``scipy``ライブラリの``spatial.distance.pdist``関数などが便利である．"
   ]
  },
  {
   "cell_type": "code",
   "execution_count": 18,
   "metadata": {},
   "outputs": [
    {
     "data": {
      "text/plain": [
       "array([[ 0.6724216 ,  0.09083907, -0.23393678,  0.11292295, -0.06177334],\n",
       "       [-0.31227267,  0.58383694, -0.00241923, -0.67954842,  0.10072085],\n",
       "       [-0.50227743,  0.63187586, -0.24715448,  0.25615997,  0.42605222]])"
      ]
     },
     "execution_count": 18,
     "metadata": {},
     "output_type": "execute_result"
    }
   ],
   "source": [
    "import numpy as np\n",
    "M = np.random.uniform(-1, 1, (3, 5))\n",
    "M"
   ]
  },
  {
   "cell_type": "code",
   "execution_count": 19,
   "metadata": {},
   "outputs": [],
   "source": [
    "import numpy as np\n",
    "from scipy.spatial import distance"
   ]
  },
  {
   "cell_type": "code",
   "execution_count": 20,
   "metadata": {},
   "outputs": [
    {
     "data": {
      "application/vnd.jupyter.widget-view+json": {
       "model_id": "a0797662d03145b585072cece67c9275",
       "version_major": 2,
       "version_minor": 0
      },
      "text/plain": [
       "HBox(children=(FloatProgress(value=0.0, max=5000.0), HTML(value='')))"
      ]
     },
     "metadata": {},
     "output_type": "display_data"
    },
    {
     "name": "stdout",
     "output_type": "stream",
     "text": [
      "\n"
     ]
    }
   ],
   "source": [
    "element_num = 50\n",
    "max_dim = 5000\n",
    "\n",
    "dist_deltas = []\n",
    "for dim_num in tqdm(range(1, max_dim+1)):\n",
    "    # (dim_num)次元における最大距離\n",
    "    max_dist = 2 * dim_num ** 0.5\n",
    "\n",
    "    M = np.random.uniform(-1, 1, (element_num, dim_num))\n",
    "    # 正規化された距離を求める\n",
    "    dists = distance.pdist(M, metric='euclidean') / max_dist\n",
    "    max_dist = max(dists)\n",
    "    min_dist = min(dists)\n",
    "    dist_deltas.append(max_dist - min_dist)"
   ]
  },
  {
   "cell_type": "code",
   "execution_count": 21,
   "metadata": {},
   "outputs": [
    {
     "data": {
      "image/png": "[encoded data removed]",
      "text/plain": [
       "<Figure size 432x288 with 1 Axes>"
      ]
     },
     "metadata": {
      "needs_background": "light"
     },
     "output_type": "display_data"
    }
   ],
   "source": [
    "# 可視化\n",
    "ax = sns.lineplot(x=list(range(1, max_dim+1)), y=dist_deltas)\n",
    "plt.show() "
   ]
  },
  {
   "cell_type": "markdown",
   "metadata": {},
   "source": [
    "### Q4. 次元の呪い（2/2）（コサイン距離の平均値）\n",
    "先の課題Qにおいて定義したN次元のユークリッド空間$R^n$において，ランダムに取得した50個の点間の**コサイン距離**の平均値を$dist_{avg}$，標準偏差を$dist_{std}$とする．\n",
    "\n",
    "このユークリッド空間$R^n$の次元数を1から5000まで変化させたとき，$dist_{avg}$および$dist_{std}$の値がどのように変化するか，折れ線グラフで可視化せよ．また，高次元空間における点間の関係性を考察せよ．"
   ]
  },
  {
   "cell_type": "code",
   "execution_count": 22,
   "metadata": {},
   "outputs": [
    {
     "data": {
      "application/vnd.jupyter.widget-view+json": {
       "model_id": "d72761954e2a40e3893fcfc5300dfae1",
       "version_major": 2,
       "version_minor": 0
      },
      "text/plain": [
       "HBox(children=(FloatProgress(value=0.0, max=5000.0), HTML(value='')))"
      ]
     },
     "metadata": {},
     "output_type": "display_data"
    },
    {
     "name": "stdout",
     "output_type": "stream",
     "text": [
      "\n"
     ]
    }
   ],
   "source": [
    "dist_avgs = []\n",
    "dist_stds = []\n",
    "for dim_num in tqdm(range(1, max_dim+1)):\n",
    "    max_dist = 2 * dim_num ** 0.5\n",
    "\n",
    "    M = np.random.uniform(-1, 1, (element_num, dim_num))\n",
    "    #dist_matrix = distance.cdist(M, M, metric='cosine')\n",
    "    #avg_dist = np.triu(dist_matrix).sum() / comb(element_num, 2)    \n",
    "    dists = distance.pdist(M, metric='cosine')\n",
    "    dist_avg = np.mean(dists)\n",
    "    dist_std = np.std(dists)  \n",
    "    dist_avgs.append(dist_avg)    \n",
    "    dist_stds.append(dist_std)"
   ]
  },
  {
   "cell_type": "code",
   "execution_count": 23,
   "metadata": {},
   "outputs": [
    {
     "data": {
      "image/png": "[encoded data removed]",
      "text/plain": [
       "<Figure size 432x288 with 1 Axes>"
      ]
     },
     "metadata": {
      "needs_background": "light"
     },
     "output_type": "display_data"
    }
   ],
   "source": [
    "ax = sns.lineplot(x=list(range(1, max_dim+1)), y=dist_avgs)\n",
    "plt.show() "
   ]
  },
  {
   "cell_type": "code",
   "execution_count": 24,
   "metadata": {},
   "outputs": [
    {
     "data": {
      "image/png": "[encoded data removed]",
      "text/plain": [
       "<Figure size 432x288 with 1 Axes>"
      ]
     },
     "metadata": {
      "needs_background": "light"
     },
     "output_type": "display_data"
    }
   ],
   "source": [
    "ax = sns.lineplot(x=list(range(1, max_dim+1)), y=dist_stds)\n",
    "plt.show() "
   ]
  },
  {
   "cell_type": "markdown",
   "metadata": {},
   "source": [
    "### Q5. 多項式回帰（1/2）\n",
    "``data/blobs``ディレクトリの``poly.tsv``には，変数$x$と$y$間の関係がある条件に従う2次元データが格納されている．下図は当該データの散布図である．2次元データの変数$x$と$y$の関係が$x$に関するN次関数（$y=w_d  x^d + w_{d-1}  x^{d-1}+ ... + w_1  x + w_0 $）で表されると仮定し，そのパラメータ（$\\{w_d, w_{d-1}, ..., w_0\\}$）を推定したい．"
   ]
  },
  {
   "cell_type": "code",
   "execution_count": 25,
   "metadata": {},
   "outputs": [
    {
     "data": {
      "image/png": "[encoded data removed]",
      "text/plain": [
       "<Figure size 432x288 with 1 Axes>"
      ]
     },
     "metadata": {
      "needs_background": "light"
     },
     "output_type": "display_data"
    }
   ],
   "source": [
    "import pandas as pd\n",
    "import seaborn as sns\n",
    "import matplotlib.pyplot as plt\n",
    "\n",
    "sns.set()\n",
    "sns.set_style('ticks')\n",
    "%matplotlib inline\n",
    "\n",
    "df = pd.read_table('../data/blobs/poly.tsv', sep='\\t', header=0)\n",
    "X = df['x'].values.reshape(-1, 1)\n",
    "y = df['y'].values.reshape(-1, 1)\n",
    "\n",
    "fig = sns.scatterplot(x=X[:, 0], y=y[:, 0], linewidth=0, s=5)\n",
    "fig.set_xlabel('x')\n",
    "fig.set_ylabel('y')\n",
    "plt.show()"
   ]
  },
  {
   "cell_type": "markdown",
   "metadata": {},
   "source": [
    "2次元データの変数$x$と$y$の関係が$x$に関する3次関数（$y=w_3  x^3 + w_2  x^2 + w_1 x + w_0 $）で表されると仮定し，$x$から$y$を予測する回帰モデルを線形回帰によって構築せよ．また，5分割交差検証法によって，推定したモデルの平均絶対誤差（MAE）を求めよ．\n",
    "\n",
    "なお，$x$のN次関数の線形回帰（多項式回帰）を行う前処理として，入力となるスカラーデータ$x$を$v_x=(x_1, x_2, ..., x_d)$のようなベクトルデータに拡張する必要がある．この処理は下記コードのように，``sklearn``の``PolynomialFeatures``クラスを用いることで行うことができる．"
   ]
  },
  {
   "cell_type": "code",
   "execution_count": 26,
   "metadata": {},
   "outputs": [
    {
     "data": {
      "text/plain": [
       "array([[ 1.,  1.,  1.],\n",
       "       [ 2.,  4.,  8.],\n",
       "       [ 3.,  9., 27.],\n",
       "       [ 4., 16., 64.]])"
      ]
     },
     "execution_count": 26,
     "metadata": {},
     "output_type": "execute_result"
    }
   ],
   "source": [
    "from sklearn.preprocessing import PolynomialFeatures as PF\n",
    "\n",
    "X_sample = np.array([[1], [2], [3], [4]])\n",
    "\n",
    "# xの3次多項式（3次関数用）に拡張\n",
    "pf = PF(degree=3, include_bias=False)\n",
    "\n",
    "X_sample_poly = pf.fit_transform(X_sample )\n",
    "X_sample_poly"
   ]
  },
  {
   "cell_type": "markdown",
   "metadata": {},
   "source": [
    "#### 解答"
   ]
  },
  {
   "cell_type": "code",
   "execution_count": 27,
   "metadata": {},
   "outputs": [
    {
     "data": {
      "text/plain": [
       "0.24823507558422145"
      ]
     },
     "execution_count": 27,
     "metadata": {},
     "output_type": "execute_result"
    }
   ],
   "source": [
    "from sklearn.linear_model import LinearRegression\n",
    "from sklearn.preprocessing import PolynomialFeatures as PF\n",
    "from sklearn.model_selection import KFold\n",
    "from sklearn.model_selection import cross_validate\n",
    "\n",
    "# 線形回帰\n",
    "clf = LinearRegression()\n",
    "\n",
    "# Cross Validation で検証する\n",
    "degree = 3\n",
    "k_fold = KFold(n_splits=5, shuffle=True, random_state=123)\n",
    "score_funcs = {'MAE': 'neg_mean_absolute_error'}\n",
    "\n",
    "pf = PF(degree=degree, include_bias=False)\n",
    "X_poly = pf.fit_transform(X)\n",
    "scores = cross_validate(clf, X_poly, y, cv=k_fold,\n",
    "                        scoring=score_funcs, return_train_score=True)\n",
    "\n",
    "MAE = -1 * np.mean(scores['test_MAE'])\n",
    "MAE"
   ]
  },
  {
   "cell_type": "markdown",
   "metadata": {},
   "source": [
    "### Q6. 多項式回帰（2/2）：過学習\n",
    "``data/blobs``ディレクトリの``poly.tsv``ファイルの2次元データについて，変数$x$と$y$の関係が$x$に関するN次関数で表されると仮定し，Nを1から30まで変化させて多項式回帰を行い，訓練データおよび評価データに対する平均絶対誤差を計算せよ．さらに，Nに対する平均絶対誤差の変化を訓練データ，評価データ別に折れ線グラフにプロットし，構築した回帰モデルの汎化性能について考察せよ．なお，性能評価には5分割交差検証法を用いよ．"
   ]
  },
  {
   "cell_type": "code",
   "execution_count": 28,
   "metadata": {},
   "outputs": [],
   "source": [
    "from sklearn.linear_model import LinearRegression\n",
    "from sklearn.preprocessing import PolynomialFeatures as PF\n",
    "from sklearn.model_selection import KFold\n",
    "from sklearn.model_selection import cross_validate\n",
    "\n",
    "# 線形回帰\n",
    "clf = LinearRegression()\n",
    "\n",
    "# Cross Validation で検証する\n",
    "max_degree = 30\n",
    "train_MAEs = []\n",
    "test_MAEs = []\n",
    "k_fold = KFold(n_splits=5, shuffle=True, random_state=123)\n",
    "score_funcs = {'MAE': 'neg_mean_absolute_error'}\n",
    "\n",
    "for degree in range(1, max_degree):\n",
    "    pf = PF(degree=degree, include_bias=False)\n",
    "    X_poly = pf.fit_transform(X)\n",
    "    scores = cross_validate(clf, X_poly, y, cv=k_fold,\n",
    "                            scoring=score_funcs, return_train_score=True)\n",
    "    \n",
    "    train_MAEs.append(-1 * np.mean(scores['train_MAE']))\n",
    "    test_MAEs.append(-1 * np.mean(scores['test_MAE']))"
   ]
  },
  {
   "cell_type": "code",
   "execution_count": 29,
   "metadata": {},
   "outputs": [
    {
     "data": {
      "image/png": "[encoded data removed]",
      "text/plain": [
       "<Figure size 432x288 with 1 Axes>"
      ]
     },
     "metadata": {
      "needs_background": "light"
     },
     "output_type": "display_data"
    }
   ],
   "source": [
    "fig = sns.lineplot(x=list(range(1, max_degree)), y=train_MAEs)\n",
    "sns.lineplot(x=list(range(1, max_degree)), y=test_MAEs)\n",
    "fig.set(yscale=\"log\", xlabel=\"degree\", ylabel=\"Mean absolute error (MAE)\")\n",
    "fig.legend(['train', 'test'])\n",
    "plt.show()"
   ]
  },
  {
   "cell_type": "markdown",
   "metadata": {},
   "source": [
    "### Q7. 正則化（Embedding methodによる特徴量選択）\n",
    "単純な線形回帰は，m次元のデータ$x \\in R^m$と$y$の関係が$y=f(x)= w_1 x_1 + w_2 x_2 + .... + w_m x_m$ で表現されると仮定したときに，データセット$D =\\{(x^i, y^i) | i=1,...n\\} $に対して下記誤差関数を最小化するようなパラメータ$w = (w_1, w_2, ..., w_m)$を推定する．\n",
    "\n",
    "$$\n",
    "L = \\frac{1}{n} \\sum_{x \\in X} (y - f(x))^2\n",
    "$$\n",
    "\n",
    "単純な線形回帰は，データの次元数（説明変数の数）が増えると過学習を起こしやすいという問題がある．\n",
    "\n",
    "過学習を防ぐ方法の1つとして，学習するパラメータの値に制約を設ける**正則化**と呼ばれる方法がある．[Lasso回帰](https://ja.wikipedia.org/wiki/ラッソ回帰)は，誤差関数を最小化する代わりに，下記関数$L'$を最小化することでパラメータ$w$を学習する．\n",
    "\n",
    "$$\n",
    "L' = \\frac{1}{n} \\sum_{x \\in X} (y - f(x))^2 + \\lambda \\sum_{i}^m |w_i|\n",
    "$$\n",
    "\n",
    "上記関数の値を最小化する結果として，Lasso回帰は予測に不要とされるパラメータがゼロになるという性質がある．\n",
    "\n",
    "``data/blobs``ディレクトリの``poly.tsv``ファイル中に格納された2次元データについて，変数$x$と$y$の関係は$x$の10次関数として表されると仮定する．この仮定の上で，課題Q5のデータにLasso回帰を行い，$x$から$y$を予測する回帰モデルを構築せよ．また，構築した予測モデルを5分割交差検証法で評価せよ．また，構築された予測モデルのパラメータを確認し，選択された特徴量（重みがゼロでない特徴量）を調べよ．\n",
    "\n",
    "なお，評価指標は平均絶対誤差とせよ．Lasso回帰には``sklearn``の``Lasso``クラスを用いよ．"
   ]
  },
  {
   "cell_type": "code",
   "execution_count": 30,
   "metadata": {},
   "outputs": [
    {
     "data": {
      "text/plain": [
       "0.6434874664446475"
      ]
     },
     "execution_count": 30,
     "metadata": {},
     "output_type": "execute_result"
    }
   ],
   "source": [
    "from sklearn.linear_model import Lasso\n",
    "from sklearn.preprocessing import PolynomialFeatures as PF\n",
    "from sklearn.model_selection import KFold\n",
    "from sklearn.model_selection import cross_validate\n",
    "\n",
    "# 線形回帰\n",
    "clf = Lasso(max_iter=100000)\n",
    "\n",
    "# Cross Validation で検証する\n",
    "degree = 10\n",
    "k_fold = KFold(n_splits=5, shuffle=True, random_state=123)\n",
    "score_funcs = {'MAE': 'neg_mean_absolute_error'}\n",
    "\n",
    "pf = PF(degree=degree, include_bias=False)\n",
    "X_poly = pf.fit_transform(X)\n",
    "scores = cross_validate(clf, X_poly, y, cv=k_fold,\n",
    "                        scoring=score_funcs, \n",
    "                        return_train_score=True,\n",
    "                        return_estimator=True)\n",
    "\n",
    "MAE = -1 * np.mean(scores['test_MAE'])\n",
    "MAE"
   ]
  },
  {
   "cell_type": "code",
   "execution_count": 31,
   "metadata": {},
   "outputs": [
    {
     "name": "stdout",
     "output_type": "stream",
     "text": [
      "[ 0.         -0.          0.         -0.          0.0209609  -0.\n",
      " -0.         -0.00088492 -0.0002846   0.00010686]\n",
      "[ 0.00000000e+00 -0.00000000e+00  0.00000000e+00 -0.00000000e+00\n",
      "  2.68956681e-02 -0.00000000e+00  0.00000000e+00  6.16637570e-05\n",
      " -4.76638755e-04 -4.37410871e-05]\n",
      "[ 0.00000000e+00 -0.00000000e+00  0.00000000e+00 -0.00000000e+00\n",
      "  1.88040046e-02 -0.00000000e+00 -0.00000000e+00 -5.50145624e-04\n",
      " -2.55132650e-04  6.94413172e-05]\n",
      "[ 0.          0.          0.         -0.          0.02269575 -0.\n",
      "  0.         -0.00153058 -0.00032676  0.00018905]\n",
      "[ 0.          0.          0.         -0.          0.02009838 -0.\n",
      "  0.         -0.00105398 -0.00026939  0.000124  ]\n"
     ]
    }
   ],
   "source": [
    "for estimator in scores['estimator']:\n",
    "    print(estimator.coef_)"
   ]
  },
  {
   "cell_type": "markdown",
   "metadata": {},
   "source": [
    "### Q8. SVM回帰\n",
    "Q5-Q7で用いた2次元データについてSVM回帰を行い，変数$x$から$y$を予測する回帰モデルを構築せよ．また，構築した予測モデルを5分割交差検証法で評価せよ．また，評価値が最も小さかったモデルについて，その回帰曲線をグラフにプロットせよ．\n",
    "\n",
    "なお，評価指標は平均絶対誤差とせよ．Lasso回帰には``sklearn``の``Lasso``クラスを用いよ．また，グラフのX軸の範囲は$[-3, 3]$とせよ．"
   ]
  },
  {
   "cell_type": "code",
   "execution_count": 32,
   "metadata": {},
   "outputs": [
    {
     "data": {
      "text/plain": [
       "0.24608653517652704"
      ]
     },
     "execution_count": 32,
     "metadata": {},
     "output_type": "execute_result"
    }
   ],
   "source": [
    "from sklearn.svm import SVR\n",
    "from sklearn.model_selection import KFold\n",
    "from sklearn.model_selection import cross_validate\n",
    "\n",
    "# SVM回帰\n",
    "clf = SVR()\n",
    "\n",
    "# Cross Validation で検証する\n",
    "k_fold = KFold(n_splits=5, shuffle=True, random_state=123)\n",
    "score_funcs = {'MAE': 'neg_mean_absolute_error'}\n",
    "\n",
    "scores = cross_validate(clf, X, y[:, 0], cv=k_fold,\n",
    "                        scoring=score_funcs, \n",
    "                        return_train_score=True,\n",
    "                        return_estimator=True)\n",
    "\n",
    "MAE = -1 * np.mean(scores['test_MAE'])\n",
    "MAE"
   ]
  },
  {
   "cell_type": "code",
   "execution_count": 33,
   "metadata": {},
   "outputs": [
    {
     "data": {
      "image/png": "[encoded data removed]",
      "text/plain": [
       "<Figure size 432x288 with 1 Axes>"
      ]
     },
     "metadata": {
      "needs_background": "light"
     },
     "output_type": "display_data"
    }
   ],
   "source": [
    "best_score = max(scores['test_MAE'])\n",
    "best_model_idx = list(scores['test_MAE']).index(best_score)\n",
    "best_regressor = scores['estimator'][best_model_idx]\n",
    "\n",
    "X_plot = np.linspace(-3, 3, 10000).reshape(-1, 1)\n",
    "y_plot = best_regressor.predict(X_plot)\n",
    "\n",
    "fig = sns.scatterplot(X[:, 0], y[:, 0])\n",
    "sns.lineplot(X_plot[:, 0], y_plot)\n",
    "fig.set_xlabel('x')\n",
    "fig.set_ylabel('y')\n",
    "plt.show()"
   ]
  },
  {
   "cell_type": "markdown",
   "metadata": {},
   "source": [
    "### Q9. 特徴量選択再訪（1/2）\n",
    "\n",
    "[Madelon Dataset](https://archive.ics.uci.edu/ml/machine-learning-databases/madelon/)には，ある規則によって人工的に生成されたデータである．当該データセットは2値分類問題用のデータセットであり，訓練用のデータセット（``madelon_train.xxx``）と評価用のデータセット（``madelon_valid.xxx``）が納められている．データセットは以下のファイルが含まれる．\n",
    "\n",
    "* ``madelon_train.data``：500次元のデータが1500個納められたファイル（行が1データに対応．列はスペースで区切られている）\n",
    "* ``madelon_train.labels``：``madelon_train.data``の各データに割り当てられたラベル（1もしくは-1）\n",
    "* ``madelon_valid.data``：500次元のデータが500個納められたファイル（行が1データに対応．列はスペースで区切られている）\n",
    "* ``madelon_valid.labels``：``madelon_valid.data``の各データに割り当てられたラベル（1もしくは-1）\n",
    "\n",
    "Madelon Datasetの訓練データに対してRandom Forestを適用し，当該データに対するラベル分類器を構築せよ．また，構築した分類器と評価データを用いて，分類器の性能（F1値）を評価せよ．さらに，分類器に寄与した特徴量上位20件を求めよ．"
   ]
  },
  {
   "cell_type": "code",
   "execution_count": 34,
   "metadata": {},
   "outputs": [
    {
     "data": {
      "text/plain": [
       "(2000, 500)"
      ]
     },
     "execution_count": 34,
     "metadata": {},
     "output_type": "execute_result"
    }
   ],
   "source": [
    "X_train = pd.read_table('../data/madelon/madelon_train.data', sep=' ', header=None).drop(500, axis=1)\n",
    "y_train = pd.read_table('../data/madelon/madelon_train.labels', sep=' ', header=None)\n",
    "\n",
    "X_test = pd.read_table('../data/madelon/madelon_valid.data', sep=' ', header=None).drop(500, axis=1)\n",
    "y_test = pd.read_table('../data/madelon/madelon_valid.labels', sep=' ', header=None)\n",
    "\n",
    "X_train.shape"
   ]
  },
  {
   "cell_type": "code",
   "execution_count": 35,
   "metadata": {},
   "outputs": [
    {
     "name": "stderr",
     "output_type": "stream",
     "text": [
      "<ipython-input-35-49206389fde0>:7: DataConversionWarning: A column-vector y was passed when a 1d array was expected. Please change the shape of y to (n_samples,), for example using ravel().\n",
      "  clf.fit(X_train, y_train)\n"
     ]
    },
    {
     "data": {
      "text/plain": [
       "array([[226,  74],\n",
       "       [ 96, 204]])"
      ]
     },
     "execution_count": 35,
     "metadata": {},
     "output_type": "execute_result"
    }
   ],
   "source": [
    "from sklearn.ensemble import RandomForestClassifier\n",
    "from sklearn.metrics import confusion_matrix\n",
    "from sklearn.metrics import f1_score\n",
    "\n",
    "clf = RandomForestClassifier() \n",
    "\n",
    "clf.fit(X_train, y_train)\n",
    "\n",
    "y_predicted = clf.predict(X_test)\n",
    "confusion_matrix(y_test, y_predicted)"
   ]
  },
  {
   "cell_type": "code",
   "execution_count": 36,
   "metadata": {},
   "outputs": [
    {
     "name": "stdout",
     "output_type": "stream",
     "text": [
      "F1 =  0.7058823529411765\n"
     ]
    }
   ],
   "source": [
    "print(\"F1 = \", f1_score(y_test, y_predicted))"
   ]
  },
  {
   "cell_type": "code",
   "execution_count": 37,
   "metadata": {},
   "outputs": [],
   "source": [
    "# 特徴量の重要度情報を取得\n",
    "feature_df = pd.DataFrame(clf.feature_importances_, columns=['importance']).sort_values('importance', ascending=False)\n",
    "\n",
    "\n",
    "# 重要な特徴量の上位20件\n",
    "important_features = list(feature_df[: 20].index)"
   ]
  },
  {
   "cell_type": "markdown",
   "metadata": {},
   "source": [
    "### Q10. 特徴量選択再訪（2/2）\n",
    "予測対象とは関係がない特徴量は，モデルの予測性能を低下させる可能性がある．そのため，前処理として特徴量選択が行われることがある．特徴量選択はモデルの予測性能の向上だけでなく，学習や予測にかかる時間の短縮や過学習対策に寄与する．\n",
    "\n",
    "Q9で求めた重要度の高い特徴量上位20件のみを用いて，Madelon Datasetに対するラベル分類器を再度構築し，その分類性能（F1値）を求め，Q9の結果と比較せよ．"
   ]
  },
  {
   "cell_type": "code",
   "execution_count": 38,
   "metadata": {},
   "outputs": [
    {
     "name": "stderr",
     "output_type": "stream",
     "text": [
      "<ipython-input-38-de12e0a588ba>:2: DataConversionWarning: A column-vector y was passed when a 1d array was expected. Please change the shape of y to (n_samples,), for example using ravel().\n",
      "  clf.fit(X_train[important_features], y_train)\n"
     ]
    },
    {
     "data": {
      "text/plain": [
       "array([[268,  32],\n",
       "       [ 32, 268]])"
      ]
     },
     "execution_count": 38,
     "metadata": {},
     "output_type": "execute_result"
    }
   ],
   "source": [
    "clf = RandomForestClassifier() \n",
    "clf.fit(X_train[important_features], y_train)\n",
    "\n",
    "y_predicted = clf.predict(X_test[important_features])\n",
    "confusion_matrix(y_test, y_predicted)"
   ]
  },
  {
   "cell_type": "code",
   "execution_count": 39,
   "metadata": {},
   "outputs": [
    {
     "name": "stdout",
     "output_type": "stream",
     "text": [
      "F1 =  0.8933333333333333\n"
     ]
    }
   ],
   "source": [
    "print(\"F1 = \", f1_score(y_test, y_predicted))"
   ]
  },
  {
   "cell_type": "markdown",
   "metadata": {},
   "source": [
    "---\n",
    "### 参考資料"
   ]
  },
  {
   "cell_type": "markdown",
   "metadata": {},
   "source": [
    "* https://aotamasaki.hatenablog.com/entry/2019/01/05/195813\n",
    "* https://www.haya-programming.com/entry/2019/11/07/202027"
   ]
  }
 ],
 "metadata": {
  "kernelspec": {
   "display_name": "Python 3",
   "language": "python",
   "name": "python3"
  },
  "language_info": {
   "codemirror_mode": {
    "name": "ipython",
    "version": 3
   },
   "file_extension": ".py",
   "mimetype": "text/x-python",
   "name": "python",
   "nbconvert_exporter": "python",
   "pygments_lexer": "ipython3",
   "version": "3.8.2"
  }
 },
 "nbformat": 4,
 "nbformat_minor": 4
}
