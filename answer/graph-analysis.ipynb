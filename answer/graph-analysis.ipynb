{
 "cells": [
  {
   "cell_type": "markdown",
   "metadata": {},
   "source": [
    "# グラフ解析"
   ]
  },
  {
   "cell_type": "markdown",
   "metadata": {},
   "source": [
    "この演習では，``data/graph``ディレクトリに格納されたJSONファイル``programming_language.json``を用いる．\n",
    "このJSONファイルには，\n",
    "* プログラミング言語名\n",
    "* そのプログラミング言語のID（キー\"id\"でアクセス可）\n",
    "* そのプログラミング言語が影響を受けたプログラミング言語（のID）（キー\"influenced_by\"でアクセス可）\n",
    "\n",
    "に関する情報が格納されている．\n",
    "以下，このJSONファイルを用いて，各設問に回答せよ．\n",
    "\n",
    "※ プログラミング言語間の影響関係に関する情報は，日本語版Wikipediaより取得した．"
   ]
  },
  {
   "cell_type": "markdown",
   "metadata": {},
   "source": [
    "### Q1: NetworkXを使った可視化"
   ]
  },
  {
   "cell_type": "markdown",
   "metadata": {},
   "source": [
    "``netowkrx``ライブラリを用いて，プログラミング言語の影響関係を可視化せよ．なお，生成するグラフは有向グラフとし，「影響を与えたプログラミング言語」から「影響を受けたプログラミング言語」の向きでエッジを張るようにすること．"
   ]
  },
  {
   "cell_type": "code",
   "execution_count": 1,
   "metadata": {},
   "outputs": [],
   "source": [
    "import json\n",
    "import networkx as nx"
   ]
  },
  {
   "cell_type": "code",
   "execution_count": 2,
   "metadata": {},
   "outputs": [],
   "source": [
    "G = nx.DiGraph()"
   ]
  },
  {
   "cell_type": "code",
   "execution_count": 3,
   "metadata": {},
   "outputs": [],
   "source": [
    "# Gにノードとエッジを追加\n",
    "with open(\"data/graph/programming_language.json\", 'r') as f:\n",
    "    json_data = json.load(f)\n",
    "\n",
    "    # グラフにデータを追加する前に，ラベル情報を保存しておく\n",
    "    id2label = {}\n",
    "    for language, information in json_data.items():\n",
    "        id2label[information['id']] = language\n",
    "    \n",
    "    # 影響関係をエッジとして追加\n",
    "    # _to: ターゲットとなるプログラミング言語（のID）\n",
    "    # _from: ターゲットが影響を受けたプログラミング言語（のID）\n",
    "    for language, information in json_data.items():    \n",
    "        _to = information['id']        \n",
    "        for _from in information['influenced_by']:\n",
    "            G.add_edge(id2label[_from], id2label[_to])"
   ]
  },
  {
   "cell_type": "code",
   "execution_count": 4,
   "metadata": {},
   "outputs": [
    {
     "data": {
      "text/plain": [
       "('/var/folders/hl/_8j1sgtj2kqgzv855bqxfgg00000gn/T/tmpxcbjx1in.png',\n",
       " <AGraph <Swig Object of type 'Agraph_t *' at 0x10ae30b70>>)"
      ]
     },
     "execution_count": 4,
     "metadata": {},
     "output_type": "execute_result"
    }
   ],
   "source": [
    "# 可視化\n",
    "nx.nx_agraph.view_pygraphviz(G, prog='fdp')"
   ]
  },
  {
   "cell_type": "markdown",
   "metadata": {},
   "source": [
    "### Q2. 隣接行列\n",
    "グラフにおけるノード間の隣接関係の有無を0と1で表現した行列は**隣接行列**と呼ばれる．Q1で生成したグラフGの隣接行列を``numpy``形式で得よ．"
   ]
  },
  {
   "cell_type": "code",
   "execution_count": 5,
   "metadata": {},
   "outputs": [
    {
     "data": {
      "text/plain": [
       "matrix([[0., 1., 0., ..., 0., 0., 0.],\n",
       "        [0., 0., 1., ..., 0., 0., 0.],\n",
       "        [0., 0., 0., ..., 0., 0., 0.],\n",
       "        ...,\n",
       "        [0., 0., 0., ..., 0., 0., 0.],\n",
       "        [0., 0., 0., ..., 0., 0., 0.],\n",
       "        [0., 0., 0., ..., 0., 0., 0.]])"
      ]
     },
     "execution_count": 5,
     "metadata": {},
     "output_type": "execute_result"
    }
   ],
   "source": [
    "M = nx.to_numpy_matrix(G)\n",
    "M"
   ]
  },
  {
   "cell_type": "markdown",
   "metadata": {},
   "source": [
    "### Q3. 最短経路問題\n",
    "Q1で生成したグラフGにおいて，ノード\"BASIC\"からノード\"Julia\"に至る最短経路を得る**幅優先探索**アルゴリズムを実装せよ．"
   ]
  },
  {
   "cell_type": "code",
   "execution_count": 6,
   "metadata": {},
   "outputs": [],
   "source": [
    "def get_shortest_path_by_BFS(G, _from, _to):\n",
    "    visited_nodes = [_from] # チェック済みノード\n",
    "    paths_in_queue = [[_from]] # チェック済みのパス\n",
    "    \n",
    "    while len(paths_in_queue) > 0:       \n",
    "        path = paths_in_queue.pop(0) # ここが幅優先探索のポイント\n",
    "        leaf_node = path[-1]\n",
    "        \n",
    "        for _, next_leaf_node in G.edges(leaf_node):\n",
    "            if next_leaf_node == _to:\n",
    "                return path + [next_leaf_node]\n",
    "            else:\n",
    "                # パスが循環してしまう場合に対応\n",
    "                if next_leaf_node not in visited_nodes:\n",
    "                    visited_nodes.append(next_leaf_node)                    \n",
    "                    paths_in_queue.append(path + [next_leaf_node])\n",
    "    else:\n",
    "        return None"
   ]
  },
  {
   "cell_type": "code",
   "execution_count": 7,
   "metadata": {},
   "outputs": [
    {
     "data": {
      "text/plain": [
       "['BASIC', 'Perl', 'Python', 'Julia']"
      ]
     },
     "execution_count": 7,
     "metadata": {},
     "output_type": "execute_result"
    }
   ],
   "source": [
    "get_shortest_path_by_BFS(G, \"BASIC\", \"Julia\")"
   ]
  },
  {
   "cell_type": "code",
   "execution_count": 8,
   "metadata": {},
   "outputs": [],
   "source": [
    "# 単なる幅優先探索\n",
    "def BFS(G, root, target):\n",
    "    visited = [root] # チェック済みのノード\n",
    "    nodes_in_queue = [root] # チェック対象となるノードリスト\n",
    "    \n",
    "    while len(nodes_in_queue) > 0:\n",
    "        node = nodes_in_queue.pop(0) # ここが幅優先探索のポイント\n",
    "        \n",
    "        for _, next_node in G.edges(node):\n",
    "            if next_node == target:\n",
    "                visited.append(next_node)\n",
    "                return visited\n",
    "            else:\n",
    "                # 循環リンク問題を回避\n",
    "                if next_node not in visited:\n",
    "                    visited.append(next_node)\n",
    "                    nodes_in_queue.append(next_node)\n",
    "    else:\n",
    "        return None"
   ]
  },
  {
   "cell_type": "markdown",
   "metadata": {},
   "source": [
    "#### 検算"
   ]
  },
  {
   "cell_type": "code",
   "execution_count": 9,
   "metadata": {},
   "outputs": [
    {
     "data": {
      "text/plain": [
       "['BASIC', 'Perl', 'Python', 'Julia']"
      ]
     },
     "execution_count": 9,
     "metadata": {},
     "output_type": "execute_result"
    }
   ],
   "source": [
    "nx.shortest_path(G, \"BASIC\", \"Julia\")"
   ]
  },
  {
   "cell_type": "markdown",
   "metadata": {},
   "source": [
    "### Q4. 次数中心性\n",
    "グラフ上で，ノードに接続しているエッジの数は**次数**と呼ばれる．特に有向グラフの場合，他のノードから入ってくるエッジの数は**入次数**と呼ばれる．\n",
    "\n",
    "Q1で生成したグラフG上では，入次数は「影響を受けたプログラミング言語の数」を意味する．Q1で生成したグラフGにおいて，最も入次数が大きいプログラミング言語を求めよ．また，グラフGの全ノードの入次数を計算しヒストグラムを描け．\n",
    "\n",
    "なお，次数の計算には``networkx``の``in_degree``メソッドは使用しないこと．"
   ]
  },
  {
   "cell_type": "code",
   "execution_count": 10,
   "metadata": {},
   "outputs": [],
   "source": [
    "import numpy as np\n",
    "\n",
    "node_num = len(G.nodes) # ノードの数を取得\n",
    "v = np.ones((node_num, 1)) # 要素が1の縦ベクトルを生成\n",
    "\n",
    "# 隣接行列の転置行列と縦ベクトルの積（転置しなければ出次数が求まる）\n",
    "in_degree_vector = M.T * v \n",
    "\n",
    "# 縦ベクトルをリストに変換\n",
    "in_degree_scores = in_degree_vector.T.tolist()[0]"
   ]
  },
  {
   "cell_type": "code",
   "execution_count": 11,
   "metadata": {},
   "outputs": [
    {
     "name": "stdout",
     "output_type": "stream",
     "text": [
      "Language with largest in-degree:  Java\n"
     ]
    }
   ],
   "source": [
    "# 最大入次数\n",
    "max_in_degree = max(in_degree_scores)\n",
    "\n",
    "# 最大入次数のインデックス\n",
    "target_index = in_degree_scores.index(max_in_degree)\n",
    "\n",
    "print(\"Language with largest in-degree: \", list(G.nodes)[target_index])"
   ]
  },
  {
   "cell_type": "code",
   "execution_count": 12,
   "metadata": {},
   "outputs": [
    {
     "data": {
      "text/plain": [
       "(array([ 7.,  8., 12.,  9.,  1.,  6.,  6.,  5.,  3.,  3.]),\n",
       " array([0. , 0.9, 1.8, 2.7, 3.6, 4.5, 5.4, 6.3, 7.2, 8.1, 9. ]),\n",
       " <a list of 10 Patch objects>)"
      ]
     },
     "execution_count": 12,
     "metadata": {},
     "output_type": "execute_result"
    },
    {
     "data": {
      "image/png": "[encoded data removed]",
      "text/plain": [
       "<Figure size 432x288 with 1 Axes>"
      ]
     },
     "metadata": {
      "needs_background": "light"
     },
     "output_type": "display_data"
    }
   ],
   "source": [
    "import matplotlib.pyplot as plt\n",
    "%matplotlib inline\n",
    "\n",
    "plt.hist(in_degree_scores)"
   ]
  },
  {
   "cell_type": "markdown",
   "metadata": {},
   "source": [
    "### Q5. PageRank\n",
    "**PageRank**アルゴリズムは「重要なノードから多くのリンクを張られたノードは重要なノードである」との仮定のもと，グラフにおけるノードの中心性を評価する手法である．\n",
    "\n",
    "Q1で生成したグラフGにPageRankアルゴリズムを適用し，PageRankスコアが高い上位10件のプログラミング言語を表示せよ．\n",
    "\n",
    "なお，PageRankスコアの計算には``networkx``ライブラリの``pagerank``メソッドは使用しないこと．また，PageRankのダンピングファクター$d$は0.85に設定すること．"
   ]
  },
  {
   "cell_type": "code",
   "execution_count": 13,
   "metadata": {},
   "outputs": [],
   "source": [
    "def pagerank(G, d=0.85):\n",
    "    node_num = len(G.nodes)\n",
    "    M = nx.to_numpy_matrix(G) # 隣接行列\n",
    "    S = M.T / np.sum(M.T, axis=0) # 推移行列\n",
    "    S[np.isnan(S)] = 0 # nanをゼロに置換\n",
    "    v = np.ones((node_num, 1)) / node_num # 固定ベクトル\n",
    "    r = np.zeros((node_num, 1)) # PageRank初期値\n",
    "    r[0, 0] = 1\n",
    "    \n",
    "    for i in range(100):\n",
    "        r = d * S * r + (1 - d) * v\n",
    "    else:        \n",
    "        #r = r / np.sum(r, axis=0) # 全体で合計値が1になるよう正規化\n",
    "        return r"
   ]
  },
  {
   "cell_type": "code",
   "execution_count": 14,
   "metadata": {},
   "outputs": [
    {
     "name": "stderr",
     "output_type": "stream",
     "text": [
      "<ipython-input-13-7958b0a6024f>:4: RuntimeWarning: invalid value encountered in true_divide\n",
      "  S = M.T / np.sum(M.T, axis=0) # 推移行列\n"
     ]
    }
   ],
   "source": [
    "scores = pagerank(G)\n",
    "\n",
    "# プログラミング言語名とスコアを対応させる\n",
    "scores = {language: scores[i,0] for i, language in enumerate(G.nodes)}"
   ]
  },
  {
   "cell_type": "code",
   "execution_count": 15,
   "metadata": {},
   "outputs": [
    {
     "name": "stdout",
     "output_type": "stream",
     "text": [
      "==============================\n",
      "Top 10 languages with PageRank\n",
      "==============================\n"
     ]
    },
    {
     "data": {
      "text/plain": [
       "[('Rust', 0.025414302528014694),\n",
       " ('Swift', 0.022409018269060887),\n",
       " ('Crystal', 0.020004092674997816),\n",
       " ('C#', 0.01771467275029973),\n",
       " ('C', 0.013472436930816822),\n",
       " ('Hack', 0.013251103839674311),\n",
       " ('Java', 0.010599438180346395),\n",
       " ('Kotlin', 0.010403157548513968),\n",
       " ('Python', 0.00977524587665924),\n",
       " ('Dart', 0.0096173507549219)]"
      ]
     },
     "execution_count": 15,
     "metadata": {},
     "output_type": "execute_result"
    }
   ],
   "source": [
    "print(\"=\" * 30)\n",
    "print(\"Top 10 languages with PageRank\")\n",
    "print(\"=\" * 30)\n",
    "sorted(scores.items(), key=lambda x:-x[1])[:10]"
   ]
  },
  {
   "cell_type": "markdown",
   "metadata": {},
   "source": [
    "#### 検算"
   ]
  },
  {
   "cell_type": "code",
   "execution_count": 16,
   "metadata": {},
   "outputs": [
    {
     "name": "stdout",
     "output_type": "stream",
     "text": [
      "==============================\n",
      "Top 10 languages with PageRank\n",
      "==============================\n"
     ]
    },
    {
     "data": {
      "text/plain": [
       "[('Rust', 0.06689146892450759),\n",
       " ('Swift', 0.058977193545621684),\n",
       " ('Crystal', 0.05264814722626078),\n",
       " ('C#', 0.0466214851053901),\n",
       " ('C', 0.035459659857997025),\n",
       " ('Hack', 0.034877416941987635),\n",
       " ('Java', 0.027898045373197858),\n",
       " ('Kotlin', 0.027381529847930755),\n",
       " ('Python', 0.025728662782130617),\n",
       " ('Dart', 0.025313211090276955)]"
      ]
     },
     "execution_count": 16,
     "metadata": {},
     "output_type": "execute_result"
    }
   ],
   "source": [
    "print(\"=\" * 30)\n",
    "print(\"Top 10 languages with PageRank\")\n",
    "print(\"=\" * 30)\n",
    "sorted(nx.pagerank(G, alpha=0.85).items(), key=lambda x:-x[1])[:10]"
   ]
  },
  {
   "cell_type": "markdown",
   "metadata": {},
   "source": [
    "### Q6. HITSアルゴリズム\n",
    "**HITS**アルゴリズムは，グラフ中のノードの\n",
    "* Hub値: Authority値の高いノードへの参照度\n",
    "* Authority値: Hub値の高いページからの被参照度\n",
    "\n",
    "を評価するアルゴリズムである．\n",
    "\n",
    "Q1で生成したグラフGにHITSアルゴリズムを適用し，Authorityスコアが高い上位10件のプログラミング言語，Hubスコアが高い上位10件のプログラミング言語を表示せよ．\n",
    "\n",
    "なお，Authority/Hubスコアの計算には``networkx``ライブラリの``hits``メソッドは使用しないこと．"
   ]
  },
  {
   "cell_type": "code",
   "execution_count": 17,
   "metadata": {},
   "outputs": [],
   "source": [
    "def hits(G):\n",
    "    node_num = len(G)\n",
    "    A = nx.to_numpy_matrix(G) # 隣接行列\n",
    "    \n",
    "    auths = np.ones((node_num, 1))\n",
    "    hubs = np.ones((node_num, 1))\n",
    "    \n",
    "    for i in range(100):\n",
    "        auths = A.T * hubs\n",
    "        auths = auths / np.sum(auths, axis=0)\n",
    "\n",
    "        hubs = A * auths\n",
    "        hubs = hubs / np.sum(hubs, axis=0)\n",
    "    \n",
    "    return (auths, hubs)"
   ]
  },
  {
   "cell_type": "code",
   "execution_count": 18,
   "metadata": {},
   "outputs": [],
   "source": [
    "auths, hubs = hits(G)\n",
    "\n",
    "# プログラミング言語名とスコアを対応させる\n",
    "auths = {language: auths[i,0] for i, language in enumerate(G.nodes)}\n",
    "hubs = {language: hubs[i,0] for i, language in enumerate(G.nodes)}"
   ]
  },
  {
   "cell_type": "code",
   "execution_count": 19,
   "metadata": {},
   "outputs": [
    {
     "name": "stdout",
     "output_type": "stream",
     "text": [
      "==============================\n",
      "Top 10 languages with Authority\n",
      "==============================\n"
     ]
    },
    {
     "data": {
      "text/plain": [
       "[('D', 0.048410687515489735),\n",
       " ('Python', 0.04840447521717473),\n",
       " ('Ruby', 0.04800544210228559),\n",
       " ('JavaScript', 0.046187901415317624),\n",
       " ('Java', 0.04488745898807249),\n",
       " ('C#', 0.043775945873889104),\n",
       " ('Raku', 0.03845917026261152),\n",
       " ('Perl', 0.03767833132602789),\n",
       " ('ECMAScript', 0.03690775586310522),\n",
       " ('F#', 0.032628017574143235)]"
      ]
     },
     "execution_count": 19,
     "metadata": {},
     "output_type": "execute_result"
    }
   ],
   "source": [
    "print(\"=\" * 30)\n",
    "print(\"Top 10 languages with Authority\")\n",
    "print(\"=\" * 30)\n",
    "sorted(auths.items(), key=lambda x:-x[1])[:10]"
   ]
  },
  {
   "cell_type": "code",
   "execution_count": 20,
   "metadata": {},
   "outputs": [
    {
     "name": "stdout",
     "output_type": "stream",
     "text": [
      "==============================\n",
      "Top 10 languages with Hub\n",
      "==============================\n"
     ]
    },
    {
     "data": {
      "text/plain": [
       "[('C', 0.07372327764918067),\n",
       " ('Python', 0.07110623538357355),\n",
       " ('C++', 0.0694038459335454),\n",
       " ('Java', 0.06936362406001176),\n",
       " ('LISP', 0.06078970118048616),\n",
       " ('Haskell', 0.05279216195552767),\n",
       " ('Smalltalk', 0.050932766627398096),\n",
       " ('C#', 0.05085684726181158),\n",
       " ('Perl', 0.04286836059458384),\n",
       " ('Eiffel', 0.03712339620034196)]"
      ]
     },
     "execution_count": 20,
     "metadata": {},
     "output_type": "execute_result"
    }
   ],
   "source": [
    "print(\"=\" * 30)\n",
    "print(\"Top 10 languages with Hub\")\n",
    "print(\"=\" * 30)\n",
    "sorted(hubs.items(), key=lambda x:-x[1])[:10]"
   ]
  },
  {
   "cell_type": "markdown",
   "metadata": {},
   "source": [
    "#### 検算"
   ]
  },
  {
   "cell_type": "code",
   "execution_count": 21,
   "metadata": {},
   "outputs": [
    {
     "name": "stdout",
     "output_type": "stream",
     "text": [
      "==============================\n",
      "Top 10 languages with Authority\n",
      "==============================\n"
     ]
    },
    {
     "data": {
      "text/plain": [
       "[('D', 0.04841068753789012),\n",
       " ('Python', 0.04840447520704811),\n",
       " ('Ruby', 0.04800544207760397),\n",
       " ('JavaScript', 0.04618790139031931),\n",
       " ('Java', 0.04488745900942763),\n",
       " ('C#', 0.0437759458947372),\n",
       " ('Raku', 0.03845917026739673),\n",
       " ('Perl', 0.0376783313017523),\n",
       " ('ECMAScript', 0.03690775585684114),\n",
       " ('F#', 0.03262801761256082)]"
      ]
     },
     "execution_count": 21,
     "metadata": {},
     "output_type": "execute_result"
    }
   ],
   "source": [
    "hubs, auths = nx.hits(G)\n",
    "\n",
    "print(\"=\" * 30)\n",
    "print(\"Top 10 languages with Authority\")\n",
    "print(\"=\" * 30)\n",
    "sorted(auths.items(), key=lambda x:-x[1])[:10]"
   ]
  },
  {
   "cell_type": "code",
   "execution_count": 22,
   "metadata": {},
   "outputs": [
    {
     "name": "stdout",
     "output_type": "stream",
     "text": [
      "==============================\n",
      "Top 10 languages with Hub\n",
      "==============================\n"
     ]
    },
    {
     "data": {
      "text/plain": [
       "[('C', 0.07372327764106187),\n",
       " ('Python', 0.07110623537559249),\n",
       " ('C++', 0.06940384592705025),\n",
       " ('Java', 0.06936362407597477),\n",
       " ('LISP', 0.06078970111551734),\n",
       " ('Haskell', 0.05279216198170378),\n",
       " ('Smalltalk', 0.050932766630406),\n",
       " ('C#', 0.05085684730167392),\n",
       " ('Perl', 0.04286836057805613),\n",
       " ('Eiffel', 0.03712339620298451)]"
      ]
     },
     "execution_count": 22,
     "metadata": {},
     "output_type": "execute_result"
    }
   ],
   "source": [
    "print(\"=\" * 30)\n",
    "print(\"Top 10 languages with Hub\")\n",
    "print(\"=\" * 30)\n",
    "sorted(hubs.items(), key=lambda x:-x[1])[:10]"
   ]
  },
  {
   "cell_type": "markdown",
   "metadata": {},
   "source": [
    "### Q7. Biased PageRank（Topic-sensitive PageRank）\n",
    "**Biased PageRank（Topic-sensitive PageRank）**は，PageRankアルゴリズムにおいてランダムジャンプ成分を一様分布としていたところを，特定ノードの重みの調整することで，が特定ノードにジャンプしやすいランダムサーファーを仮定してPageRankを適用するアルゴリズムである．\n",
    "\n",
    "今，ユーザXはJavaScript，Perl，PHPを好んで利用しているが，新しいプログラミングを習得したいと考えているとする．Q1で生成したグラフGに対してBiased PageRank（Topic-sensitive PageRank）を適用することで，ユーザXに推薦するプログラミング言語の上位10件を求めよ．\n",
    "\n",
    "なお，PageRankスコアの計算には``networkx``ライブラリの``pagerank``メソッドは使用しないこと．また，PageRankのダンピングファクター$d$は0.85に設定せよ．"
   ]
  },
  {
   "cell_type": "code",
   "execution_count": 23,
   "metadata": {},
   "outputs": [],
   "source": [
    "def biased_pagerank(G, d=0.85, biased_nodes=[]):\n",
    "    node_num = len(G.nodes)\n",
    "    \n",
    "    M = nx.to_numpy_matrix(G) # 隣接行列\n",
    "    S = M.T / np.sum(M.T, axis=0) # 推移行列\n",
    "    S[np.isnan(S)] = 0 # nanをゼロに置換\n",
    "    \n",
    "    if not biased_nodes:\n",
    "        v = np.ones((node_num, 1)) / node_num # 固定ベクトル\n",
    "    else:\n",
    "        v = np.zeros((node_num, 1))        \n",
    "        node_list = list(G.nodes)\n",
    "        \n",
    "        for bn in biased_nodes:\n",
    "            v[node_list.index(bn), 0] = 1\n",
    "        v = v / len(biased_nodes)\n",
    "        \n",
    "    r = np.zeros((node_num, 1)) # PageRank初期値\n",
    "    r[0, 0] = 1\n",
    "    \n",
    "    for i in range(100):\n",
    "        r = d * S * r + (1 - d) * v\n",
    "    else:        \n",
    "        #r = r / np.sum(r, axis=0) # 全体で合計値が1になるよう正規化\n",
    "        return r"
   ]
  },
  {
   "cell_type": "code",
   "execution_count": 24,
   "metadata": {},
   "outputs": [
    {
     "name": "stderr",
     "output_type": "stream",
     "text": [
      "<ipython-input-23-72a6b31c372d>:5: RuntimeWarning: invalid value encountered in true_divide\n",
      "  S = M.T / np.sum(M.T, axis=0) # 推移行列\n"
     ]
    }
   ],
   "source": [
    "biased_nodes = [\"JavaScript\", \"Perl\", \"PHP\"]\n",
    "scores = biased_pagerank(G, biased_nodes=biased_nodes)\n",
    "\n",
    "# プログラミング言語名とスコアを対応させる\n",
    "scores = {language: scores[i,0] for i, language in enumerate(G.nodes) if language not in biased_nodes}"
   ]
  },
  {
   "cell_type": "code",
   "execution_count": 25,
   "metadata": {},
   "outputs": [
    {
     "name": "stdout",
     "output_type": "stream",
     "text": [
      "==============================\n",
      "Top 10 languages with PageRank\n",
      "==============================\n"
     ]
    },
    {
     "data": {
      "text/plain": [
       "[('Hack', 0.04871846956628216),\n",
       " ('Kotlin', 0.025742562918371712),\n",
       " ('Dart', 0.024650210348271567),\n",
       " ('Raku', 0.008792210897094681),\n",
       " ('ECMAScript', 0.007708695983961857),\n",
       " ('Ruby', 0.007701437121788978),\n",
       " ('Python', 0.007628559347673177),\n",
       " ('Swift', 0.0043098972813207514),\n",
       " ('Rust', 0.0037791179503333474),\n",
       " ('Crystal', 0.003277066063440244)]"
      ]
     },
     "execution_count": 25,
     "metadata": {},
     "output_type": "execute_result"
    }
   ],
   "source": [
    "print(\"=\" * 30)\n",
    "print(\"Top 10 languages with PageRank\")\n",
    "print(\"=\" * 30)\n",
    "sorted(scores.items(), key=lambda x:-x[1])[:10]"
   ]
  },
  {
   "cell_type": "markdown",
   "metadata": {},
   "source": [
    "#### 検算"
   ]
  },
  {
   "cell_type": "code",
   "execution_count": 26,
   "metadata": {},
   "outputs": [
    {
     "name": "stdout",
     "output_type": "stream",
     "text": [
      "==============================\n",
      "Top 10 languages with PageRank\n",
      "==============================\n"
     ]
    },
    {
     "data": {
      "text/plain": [
       "[('Hack', 0.15478552502390996),\n",
       " ('Kotlin', 0.0817876015708951),\n",
       " ('Dart', 0.0783173051626074),\n",
       " ('Raku', 0.027933972693326297),\n",
       " ('ECMAScript', 0.024491767524390175),\n",
       " ('Ruby', 0.024468695036854653),\n",
       " ('Python', 0.024237423880882923),\n",
       " ('Swift', 0.013693620551382596),\n",
       " ('Rust', 0.01200708510525448),\n",
       " ('Crystal', 0.010411902467163017)]"
      ]
     },
     "execution_count": 26,
     "metadata": {},
     "output_type": "execute_result"
    }
   ],
   "source": [
    "scores = nx.pagerank(G, personalization={\"JavaScript\":1, \"Perl\":1, \"PHP\":1})\n",
    "del scores['JavaScript']\n",
    "del scores['Perl']\n",
    "del scores['PHP']\n",
    "\n",
    "print(\"=\" * 30)\n",
    "print(\"Top 10 languages with PageRank\")\n",
    "print(\"=\" * 30)\n",
    "sorted(scores.items(), key=lambda x:-x[1])[:10]\n"
   ]
  },
  {
   "cell_type": "markdown",
   "metadata": {},
   "source": [
    "### Q8. 媒介中心性\n",
    "\n",
    "グラフ上で，あるノードが他のノード間の最短経路上に位置する度合いは**媒介中心性**と呼ばれる．\n",
    "媒介中心性の高いノードは，グラフにおけるあるグループとあるグループをつなぐ（分ける）重要なノードと考えることができる．\n",
    "\n",
    "Q1で生成したグラフG上の全ノードの媒介中心性を計算し，媒介中心性スコアが高い上位10件のプログラミング言語を表示せよ．\n",
    "\n",
    "なお，この課題については，媒介中心性を計算するアルゴリズムを自力で実装する必要はない．"
   ]
  },
  {
   "cell_type": "code",
   "execution_count": 27,
   "metadata": {},
   "outputs": [
    {
     "name": "stdout",
     "output_type": "stream",
     "text": [
      "==============================\n",
      "Top 10 languages with betweenness centrality\n",
      "==============================\n"
     ]
    },
    {
     "data": {
      "text/plain": [
       "[('Java', 0.12792852968189028),\n",
       " ('C#', 0.10538137912480401),\n",
       " ('Ada', 0.07131098494336366),\n",
       " ('Python', 0.06771775532734037),\n",
       " ('C', 0.06634173833180262),\n",
       " ('Rust', 0.04158502871243958),\n",
       " ('F#', 0.03139002532631989),\n",
       " ('Swift', 0.025375024352230664),\n",
       " ('C++', 0.024826867236276935),\n",
       " ('Erlang', 0.024320572764465212)]"
      ]
     },
     "execution_count": 27,
     "metadata": {},
     "output_type": "execute_result"
    }
   ],
   "source": [
    "betweenness_centrality = nx.betweenness_centrality(G)\n",
    "\n",
    "print(\"=\" * 30)\n",
    "print(\"Top 10 languages with betweenness centrality\")\n",
    "print(\"=\" * 30)\n",
    "sorted(betweenness_centrality.items(), key=lambda x:-x[1])[:10]"
   ]
  },
  {
   "cell_type": "markdown",
   "metadata": {},
   "source": [
    "### Q9. コミュニティ発見 by Girvan-Newmanアルゴリズム\n",
    "Q8で扱った媒介中心性はエッジに対しても定義することができる．すなわち，媒介中心性の高いエッジは，グラフにおけるあるグループとあるグループをつなぐ（分ける）重要なエッジと考えることができる．\n",
    "\n",
    "Q1で生成したグラフGにおいて，媒介中心性が最大となるエッジを削除する操作を繰り返すことで，グラフGを10つのサブグラフに分割せよ．\n",
    "\n",
    "なお，この課題では，グラフGは無向グラフとして扱うこと．また，グラフの分割過程でノード数が1のサブグラフが生成された場合は，そのノードを削除せよ．グラフGに含まれるノード数1のサブグラフを削除する際には，以下の``remove_small_components``関数を用いてもよい．"
   ]
  },
  {
   "cell_type": "code",
   "execution_count": 28,
   "metadata": {},
   "outputs": [],
   "source": [
    "def remove_small_components(G, min_size=2):\n",
    "    targets = []\n",
    "    for component in nx.connected_components(G):\n",
    "        if len(component) < min_size:\n",
    "            for node in component:\n",
    "                targets.append(node)\n",
    "    else:\n",
    "        for target in targets:\n",
    "            G.remove_node(target)\n",
    "        return G"
   ]
  },
  {
   "cell_type": "code",
   "execution_count": 29,
   "metadata": {},
   "outputs": [
    {
     "name": "stdout",
     "output_type": "stream",
     "text": [
      "{'FORTRAN', 'ALGOL', 'BASIC'}\n",
      "{'CPL', 'BCPL'}\n",
      "{'COBOL', 'PL/I', 'B'}\n",
      "{'Simula', 'Pascal'}\n",
      "{'ML', 'Haskell', 'Common Lisp', 'Erlang', 'Clojure', 'LISP', 'F#', 'Scala'}\n",
      "{'APL', 'Forth', 'Mathematica'}\n",
      "{'C++', 'Python', 'Ada', 'Smalltalk', 'Nim', 'Objective-C', 'C#', 'Crystal', 'Dart', 'Kotlin', 'Java', 'Go', 'JavaScript', 'PHP', 'Swift', 'C', 'ECMAScript', 'D', 'Lua', 'Ruby', 'Scheme', 'Eiffel', 'Perl', 'Rust', 'Raku'}\n",
      "{'VB.NET', 'Visual Basic'}\n",
      "{'Hack', 'OCaml'}\n"
     ]
    }
   ],
   "source": [
    "uG = nx.Graph(G)\n",
    "\n",
    "while True:\n",
    "    component_num = nx.number_connected_components(uG)\n",
    "    if component_num != 9:\n",
    "        betweennesses = nx.edge_betweenness_centrality(uG)\n",
    "        edge, betweenness = sorted(betweennesses.items(), key=lambda x:-x[1])[0]\n",
    "        left_node, right_node = edge\n",
    "        uG.remove_edge(left_node, right_node)\n",
    "        \n",
    "        uG = remove_small_components(uG)\n",
    "    else:\n",
    "        break\n",
    "\n",
    "nx.nx_agraph.view_pygraphviz(uG, prog='fdp') \n",
    "\n",
    "for component in nx.connected_components(uG):\n",
    "    print(component)"
   ]
  },
  {
   "cell_type": "markdown",
   "metadata": {},
   "source": [
    "### Q10. コミュニティ発見 by スペクトラルクラスタリング\n",
    "グラフ上の各ノードは，\n",
    "* 次数（ノードに接続するエッジの数）\n",
    "* 他ノードとの接続関係の有無の情報\n",
    "\n",
    "を用いることで，ベクトルとして表現することができる．グラフ上の各ノードの次数の情報を対角成分に格納した行列を**次数行列**，ノード間の関係性の有無を1もしくは0で表した行列を**隣接行列**と呼ばれる．グラフ解析では，グラフ上のノードのベクトルを表現する方法として，次数行列と隣接行列の差である**ラプラシアン行列**が用いられることがある．\n",
    "\n",
    "例えば，下記のグラフであれば，次数行列$D$および隣接行列$A$は\n",
    "\n",
    "$$\n",
    "D =\n",
    "        \\left[\\begin{array}{ccccc}\n",
    "            % 横並びは&を挟む\n",
    "            1 & 0 & 0 & 0 & 0 \\\\\n",
    "            0 & 3 & 0 & 0 & 0 \\\\\n",
    "            0 & 0 & 3 & 0 & 0 \\\\\n",
    "            0 & 0 & 0 & 2 & 0 \\\\\n",
    "            0 & 0 & 0 & 0 & 1 \\\\\n",
    "        \\end{array}\\right] \\quad\n",
    "A =\n",
    "        \\left[\\begin{array}{ccccc}\n",
    "            % 横並びは&を挟む\n",
    "            0 & 1 & 0 & 0 & 0 \\\\\n",
    "            1 & 0 & 1 & 1 & 0 \\\\\n",
    "            0 & 1 & 0 & 1 & 1 \\\\\n",
    "            0 & 1 & 1 & 0 & 0 \\\\\n",
    "            0 & 0 & 1 & 0 & 0 \\\\\n",
    "        \\end{array}\\right] \\quad        \n",
    "$$\n",
    "\n",
    "となり，ラプラシアン行列$L$は\n",
    "$$\n",
    "L = D - A =\n",
    "        \\left[\\begin{array}{ccccc}\n",
    "            % 横並びは&を挟む\n",
    "            1 & -1 & 0 & 0 & 0 \\\\\n",
    "            -1 & 3 & -1 & -1 & 0 \\\\\n",
    "            0 & -1 & 3 & -1 & -1 \\\\\n",
    "            0 & -1 & -1 & 2 & 0 \\\\\n",
    "            0 & 0 & -1 & 0 & 1 \\\\\n",
    "        \\end{array}\\right] \\quad      \n",
    "$$\n",
    "\n",
    "となる（行列の各行，各列はグラフ中のノードに対応）．ラプラシアン行列$L$を用いれば，例えばノード1のベクトル$v_1$は$v_1=(-1,3,-1,-1,0)$として表現することができる．\n",
    "\n",
    "さて，[スペクトラルクラスタリング解説](https://qiita.com/sakami/items/9b3d57d4be3ff1c70e1d)でも解説されているように，$L$の（ゼロを除く）小さい固有値に対応する固有ベクトルを用いてグラフのノードをクラスタリングする手法は**スペクトラルクラスタリング**と呼ばれる．\n",
    "\n",
    "Q1で生成したグラフG上の各ノードをベクトル化するために，グラフGのラプラシアン行列を求め，その固有値および固有ベクトルを求めよ．さらに，小さい固有値に対応する（いくつかの）固有ベクトルに対して階層的クラスタリングを適用し，クラスタ併合過程をデンドログラムで可視化せよ．\n",
    "\n",
    "なお，この課題ではグラフGを無向グラフとして扱うこと．固有値計算，階層的クラスタリングには外部ライブラリを用いてもよい．"
   ]
  },
  {
   "cell_type": "code",
   "execution_count": 30,
   "metadata": {},
   "outputs": [
    {
     "data": {
      "image/png": "[encoded data removed]",
      "text/plain": [
       "<Figure size 432x288 with 1 Axes>"
      ]
     },
     "metadata": {},
     "output_type": "display_data"
    }
   ],
   "source": [
    "sample_G = nx.Graph()\n",
    "sample_G.add_edge(0, 1)\n",
    "sample_G.add_edge(1, 2)\n",
    "sample_G.add_edge(1, 3)\n",
    "sample_G.add_edge(3, 2)\n",
    "sample_G.add_edge(2, 4)\n",
    "nx.draw_networkx(sample_G)"
   ]
  },
  {
   "cell_type": "code",
   "execution_count": 31,
   "metadata": {},
   "outputs": [],
   "source": [
    "import numpy as np\n",
    "from scipy.cluster.hierarchy import dendrogram, linkage"
   ]
  },
  {
   "cell_type": "code",
   "execution_count": 32,
   "metadata": {},
   "outputs": [
    {
     "data": {
      "image/png": "[encoded data removed]",
      "text/plain": [
       "<Figure size 1008x504 with 1 Axes>"
      ]
     },
     "metadata": {
      "needs_background": "light"
     },
     "output_type": "display_data"
    }
   ],
   "source": [
    "uG = nx.Graph(G)\n",
    "L = nx.laplacian_matrix(uG).toarray()\n",
    "eigen_values, eigen_vectors = np.linalg.eig(L)\n",
    "eigen_ranks = np.argsort(eigen_values) # 固有値の昇順ランキング\n",
    "_eigen_values = eigen_values[eigen_ranks]\n",
    "_eigen_vectors = eigen_vectors[:, eigen_ranks]\n",
    "\n",
    "dimension_num = 10\n",
    "L_ = _eigen_vectors[:, 1:dimension_num+1]\n",
    "\n",
    "Z = linkage(L_, method='complete', metric=\"cosine\")\n",
    "fig = plt.figure(figsize=(14, 7))\n",
    "dendrogram(Z, labels=list(G.nodes))\n",
    "plt.tick_params(labelsize=10)\n",
    "plt.show()"
   ]
  }
 ],
 "metadata": {
  "kernelspec": {
   "display_name": "Python 3",
   "language": "python",
   "name": "python3"
  },
  "language_info": {
   "codemirror_mode": {
    "name": "ipython",
    "version": 3
   },
   "file_extension": ".py",
   "mimetype": "text/x-python",
   "name": "python",
   "nbconvert_exporter": "python",
   "pygments_lexer": "ipython3",
   "version": "3.8.2"
  }
 },
 "nbformat": 4,
 "nbformat_minor": 4
}
