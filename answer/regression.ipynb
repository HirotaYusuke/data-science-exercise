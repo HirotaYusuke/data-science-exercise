{
 "cells": [
  {
   "cell_type": "markdown",
   "metadata": {},
   "source": [
    "# 回帰"
   ]
  },
  {
   "cell_type": "markdown",
   "metadata": {},
   "source": [
    "### Q1. Airbnbの宿泊料金データの準備\n",
    "[Airbnb](https://www.airbnb.com)は民泊マッチングサービスの最大手であり，様々な民泊施設の空き状況，宿泊料金を確認し，予約を行うことができる．[Inside Airbnb](http://insideairbnb.com/get-the-data.html)では，Airbnbに掲載された民泊物件のデータが公開されており，宿泊料金を含めた各民泊の各種物件情報を取得することができる．以後の課題では，Inside Airbnbに公開された東京の民泊データを用いて，宿泊料金以外の民泊の物件情報から宿泊料金を予測する回帰モデルを構築する．\n",
    "\n",
    "以下の手順に従って，分析に用いるデータを準備せよ：\n",
    "1. Inside Airbnbから最新の東京（Tokyo, Kanto, Japan）の``listings.csv.gz``ファイル（csvの圧縮ファイル）をダウンロードし``pandas``のデータフレームに格納せよ．なお，データフレームの変数名は``listing_df``とせよ．\n",
    "2. ``listing_df``には，2万を超える民泊物件に関して，物件ID（``id``）や料金（``price``）など106個の属性（特徴量）の情報が格納されている．``data/airbnb``ディレクトリの``features.tsv``ファイルには，各属性の意味と今回の課題で用いるか否かのフラグが記されている．``features.tsv``ファイルを用いて，データフレーム``listing_df``から課題で用いない属性を削除せよ．"
   ]
  },
  {
   "cell_type": "code",
   "execution_count": 1,
   "metadata": {},
   "outputs": [],
   "source": [
    "import pandas as pd"
   ]
  },
  {
   "cell_type": "code",
   "execution_count": 2,
   "metadata": {},
   "outputs": [
    {
     "data": {
      "text/html": [
       "<div>\n",
       "<style scoped>\n",
       "    .dataframe tbody tr th:only-of-type {\n",
       "        vertical-align: middle;\n",
       "    }\n",
       "\n",
       "    .dataframe tbody tr th {\n",
       "        vertical-align: top;\n",
       "    }\n",
       "\n",
       "    .dataframe thead th {\n",
       "        text-align: right;\n",
       "    }\n",
       "</style>\n",
       "<table border=\"1\" class=\"dataframe\">\n",
       "  <thead>\n",
       "    <tr style=\"text-align: right;\">\n",
       "      <th></th>\n",
       "      <th>host_response_time</th>\n",
       "      <th>host_response_rate</th>\n",
       "      <th>host_acceptance_rate</th>\n",
       "      <th>host_is_superhost</th>\n",
       "      <th>host_listings_count</th>\n",
       "      <th>host_has_profile_pic</th>\n",
       "      <th>host_identity_verified</th>\n",
       "      <th>neighbourhood_cleansed</th>\n",
       "      <th>is_location_exact</th>\n",
       "      <th>property_type</th>\n",
       "      <th>...</th>\n",
       "      <th>review_scores_communication</th>\n",
       "      <th>review_scores_location</th>\n",
       "      <th>review_scores_value</th>\n",
       "      <th>requires_license</th>\n",
       "      <th>instant_bookable</th>\n",
       "      <th>is_business_travel_ready</th>\n",
       "      <th>cancellation_policy</th>\n",
       "      <th>require_guest_profile_picture</th>\n",
       "      <th>require_guest_phone_verification</th>\n",
       "      <th>reviews_per_month</th>\n",
       "    </tr>\n",
       "  </thead>\n",
       "  <tbody>\n",
       "    <tr>\n",
       "      <th>0</th>\n",
       "      <td>NaN</td>\n",
       "      <td>NaN</td>\n",
       "      <td>NaN</td>\n",
       "      <td>f</td>\n",
       "      <td>3.0</td>\n",
       "      <td>t</td>\n",
       "      <td>t</td>\n",
       "      <td>Shibuya Ku</td>\n",
       "      <td>t</td>\n",
       "      <td>Apartment</td>\n",
       "      <td>...</td>\n",
       "      <td>10.0</td>\n",
       "      <td>10.0</td>\n",
       "      <td>9.0</td>\n",
       "      <td>t</td>\n",
       "      <td>f</td>\n",
       "      <td>f</td>\n",
       "      <td>strict_14_with_grace_period</td>\n",
       "      <td>f</td>\n",
       "      <td>f</td>\n",
       "      <td>0.18</td>\n",
       "    </tr>\n",
       "    <tr>\n",
       "      <th>1</th>\n",
       "      <td>within a few hours</td>\n",
       "      <td>100%</td>\n",
       "      <td>88%</td>\n",
       "      <td>t</td>\n",
       "      <td>1.0</td>\n",
       "      <td>t</td>\n",
       "      <td>t</td>\n",
       "      <td>Sumida Ku</td>\n",
       "      <td>f</td>\n",
       "      <td>Apartment</td>\n",
       "      <td>...</td>\n",
       "      <td>10.0</td>\n",
       "      <td>9.0</td>\n",
       "      <td>10.0</td>\n",
       "      <td>t</td>\n",
       "      <td>f</td>\n",
       "      <td>f</td>\n",
       "      <td>moderate</td>\n",
       "      <td>f</td>\n",
       "      <td>f</td>\n",
       "      <td>1.57</td>\n",
       "    </tr>\n",
       "    <tr>\n",
       "      <th>2</th>\n",
       "      <td>within a few hours</td>\n",
       "      <td>100%</td>\n",
       "      <td>82%</td>\n",
       "      <td>f</td>\n",
       "      <td>2.0</td>\n",
       "      <td>t</td>\n",
       "      <td>t</td>\n",
       "      <td>Nerima Ku</td>\n",
       "      <td>f</td>\n",
       "      <td>Apartment</td>\n",
       "      <td>...</td>\n",
       "      <td>9.0</td>\n",
       "      <td>9.0</td>\n",
       "      <td>9.0</td>\n",
       "      <td>t</td>\n",
       "      <td>f</td>\n",
       "      <td>f</td>\n",
       "      <td>strict_14_with_grace_period</td>\n",
       "      <td>f</td>\n",
       "      <td>f</td>\n",
       "      <td>1.18</td>\n",
       "    </tr>\n",
       "    <tr>\n",
       "      <th>3</th>\n",
       "      <td>within a day</td>\n",
       "      <td>100%</td>\n",
       "      <td>93%</td>\n",
       "      <td>t</td>\n",
       "      <td>3.0</td>\n",
       "      <td>t</td>\n",
       "      <td>t</td>\n",
       "      <td>Setagaya Ku</td>\n",
       "      <td>t</td>\n",
       "      <td>Apartment</td>\n",
       "      <td>...</td>\n",
       "      <td>10.0</td>\n",
       "      <td>10.0</td>\n",
       "      <td>10.0</td>\n",
       "      <td>t</td>\n",
       "      <td>f</td>\n",
       "      <td>f</td>\n",
       "      <td>moderate</td>\n",
       "      <td>f</td>\n",
       "      <td>f</td>\n",
       "      <td>1.39</td>\n",
       "    </tr>\n",
       "    <tr>\n",
       "      <th>4</th>\n",
       "      <td>within a few hours</td>\n",
       "      <td>100%</td>\n",
       "      <td>82%</td>\n",
       "      <td>f</td>\n",
       "      <td>2.0</td>\n",
       "      <td>t</td>\n",
       "      <td>t</td>\n",
       "      <td>Nerima Ku</td>\n",
       "      <td>f</td>\n",
       "      <td>Apartment</td>\n",
       "      <td>...</td>\n",
       "      <td>10.0</td>\n",
       "      <td>9.0</td>\n",
       "      <td>10.0</td>\n",
       "      <td>t</td>\n",
       "      <td>f</td>\n",
       "      <td>f</td>\n",
       "      <td>strict_14_with_grace_period</td>\n",
       "      <td>f</td>\n",
       "      <td>f</td>\n",
       "      <td>1.12</td>\n",
       "    </tr>\n",
       "  </tbody>\n",
       "</table>\n",
       "<p>5 rows × 37 columns</p>\n",
       "</div>"
      ],
      "text/plain": [
       "   host_response_time host_response_rate host_acceptance_rate  \\\n",
       "0                 NaN                NaN                  NaN   \n",
       "1  within a few hours               100%                  88%   \n",
       "2  within a few hours               100%                  82%   \n",
       "3        within a day               100%                  93%   \n",
       "4  within a few hours               100%                  82%   \n",
       "\n",
       "  host_is_superhost  host_listings_count host_has_profile_pic  \\\n",
       "0                 f                  3.0                    t   \n",
       "1                 t                  1.0                    t   \n",
       "2                 f                  2.0                    t   \n",
       "3                 t                  3.0                    t   \n",
       "4                 f                  2.0                    t   \n",
       "\n",
       "  host_identity_verified neighbourhood_cleansed is_location_exact  \\\n",
       "0                      t             Shibuya Ku                 t   \n",
       "1                      t              Sumida Ku                 f   \n",
       "2                      t              Nerima Ku                 f   \n",
       "3                      t            Setagaya Ku                 t   \n",
       "4                      t              Nerima Ku                 f   \n",
       "\n",
       "  property_type  ... review_scores_communication  review_scores_location  \\\n",
       "0     Apartment  ...                        10.0                    10.0   \n",
       "1     Apartment  ...                        10.0                     9.0   \n",
       "2     Apartment  ...                         9.0                     9.0   \n",
       "3     Apartment  ...                        10.0                    10.0   \n",
       "4     Apartment  ...                        10.0                     9.0   \n",
       "\n",
       "   review_scores_value  requires_license  instant_bookable  \\\n",
       "0                  9.0                 t                 f   \n",
       "1                 10.0                 t                 f   \n",
       "2                  9.0                 t                 f   \n",
       "3                 10.0                 t                 f   \n",
       "4                 10.0                 t                 f   \n",
       "\n",
       "  is_business_travel_ready          cancellation_policy  \\\n",
       "0                        f  strict_14_with_grace_period   \n",
       "1                        f                     moderate   \n",
       "2                        f  strict_14_with_grace_period   \n",
       "3                        f                     moderate   \n",
       "4                        f  strict_14_with_grace_period   \n",
       "\n",
       "  require_guest_profile_picture require_guest_phone_verification  \\\n",
       "0                             f                                f   \n",
       "1                             f                                f   \n",
       "2                             f                                f   \n",
       "3                             f                                f   \n",
       "4                             f                                f   \n",
       "\n",
       "  reviews_per_month  \n",
       "0              0.18  \n",
       "1              1.57  \n",
       "2              1.18  \n",
       "3              1.39  \n",
       "4              1.12  \n",
       "\n",
       "[5 rows x 37 columns]"
      ]
     },
     "execution_count": 2,
     "metadata": {},
     "output_type": "execute_result"
    }
   ],
   "source": [
    "# 対象とする属性のリストを作成\n",
    "feature_df = pd.read_table(\"../data/airbnb/features.tsv\", header=0, sep='\\t')\n",
    "target_features = list(feature_df[feature_df.is_used == 1].feature)\n",
    "\n",
    "# 対象とする属性のみデータを読み込む\n",
    "listing_df = pd.read_csv(\"../data/airbnb/listings.csv.gz\", usecols=target_features)\n",
    "\n",
    "# 最初の5県を表示\n",
    "listing_df.head()"
   ]
  },
  {
   "cell_type": "markdown",
   "metadata": {},
   "source": [
    "### Q2. データ加工（1/3）：型変換\n",
    "データフレーム``listing_df``に格納されたデータの中には，計算機が処理しにくい形式のデータが混じっている．例えば，属性``price``は1泊あたりの料金（日本円）を意味するが，「ドルマーク（＄）」や「カンマ（,）」が文字列として含まれているため数値として扱えない．``listing_df``にある下記属性について，指定されたデータ形式に変換し，その結果を``listing_df_v2``に格納せよ．\n",
    "\n",
    "* ``price``：float型\n",
    "* ``clearning_fee``：float型\n",
    "* ``security_deposit``：float型\n",
    "* ``host_response_rate``：%記号を取り除いた数字（float型）\n",
    "* ``host_acceptance_rate``：%記号を取り除いた数字（float型）\n",
    "* ``host_is_superhost``：\"t\"を1，\"f\"を0とするint型\n",
    "* ``host_has_profile_pic``：\"t\"を1，\"f\"を0とするint型\n",
    "* ``host_identity_verified``：\"t\"を1，\"f\"を0とするint型\n",
    "* ``is_location_exact``：\"t\"を1，\"f\"を0とするint型\n",
    "* ``requires_license``：\"t\"を1，\"f\"を0とするint型\n",
    "* ``instant_bookable``：\"t\"を1，\"f\"を0とするint型\n",
    "* ``is_business_travel_ready``：\"t\"を1，\"f\"を0とするint型\n",
    "* ``require_guest_profile_picture``：\"t\"を1，\"f\"を0とするint型\n",
    "* ``require_guest_phone_verification``：\"t\"を1，\"f\"を0とするint型"
   ]
  },
  {
   "cell_type": "code",
   "execution_count": 3,
   "metadata": {},
   "outputs": [],
   "source": [
    "listing_df_v2 = listing_df.assign(\n",
    "    price = lambda df: df['price'].str.replace(\"$\", \"\").str.replace(\",\", \"\").astype(float),\n",
    "    cleaning_fee = lambda df: df['cleaning_fee'].str.replace(\"$\", \"\").str.replace(\",\", \"\").astype(float),\n",
    "    security_deposit = lambda df: df['security_deposit'].str.replace(\"$\", \"\").str.replace(\",\", \"\").astype(float),\n",
    "    host_response_rate = lambda df: df['host_response_rate'].str.replace(\"%\", \"\").astype(float),\n",
    "    host_acceptance_rate = lambda df: df['host_acceptance_rate'].str.replace(\"%\", \"\").astype(float),\n",
    "    host_is_superhost = lambda df: df['host_is_superhost'].apply(lambda x: 1 if x == 't' else 0),\n",
    "    host_has_profile_pic = lambda df: df['host_is_superhost'].apply(lambda x: 1 if x == 't' else 0),\n",
    "    host_identity_verified = lambda df: df['host_is_superhost'].apply(lambda x: 1 if x == 't' else 0),\n",
    "    is_location_exact = lambda df: df['host_is_superhost'].apply(lambda x: 1 if x == 't' else 0),\n",
    "    requires_license = lambda df: df['host_is_superhost'].apply(lambda x: 1 if x == 't' else 0),\n",
    "    instant_bookable = lambda df: df['host_is_superhost'].apply(lambda x: 1 if x == 't' else 0),\n",
    "    is_business_travel_ready = lambda df: df['host_is_superhost'].apply(lambda x: 1 if x == 't' else 0),\n",
    "    require_guest_profile_picture = lambda df: df['host_is_superhost'].apply(lambda x: 1 if x == 't' else 0),\n",
    "    require_guest_phone_verification = lambda df: df['host_is_superhost'].apply(lambda x: 1 if x == 't' else 0), \n",
    ")"
   ]
  },
  {
   "cell_type": "markdown",
   "metadata": {},
   "source": [
    "### Q3. データの確認（1/2）\n",
    "``listing_df_v2``を用いて1泊あたりの宿泊費の基本的な記述統計量（データ数，平均，標準偏差，最小値，最大値，四分位点）を求めよ．また，1泊あたりの宿泊費のヒストグラムを生成し，宿泊費の分布を把握せよ．"
   ]
  },
  {
   "cell_type": "code",
   "execution_count": 4,
   "metadata": {},
   "outputs": [],
   "source": [
    "import seaborn as sns\n",
    "import matplotlib.pyplot as plt\n",
    "\n",
    "sns.set()\n",
    "sns.set_style('ticks')\n",
    "%matplotlib inline"
   ]
  },
  {
   "cell_type": "code",
   "execution_count": 5,
   "metadata": {},
   "outputs": [
    {
     "data": {
      "text/html": [
       "<div>\n",
       "<style scoped>\n",
       "    .dataframe tbody tr th:only-of-type {\n",
       "        vertical-align: middle;\n",
       "    }\n",
       "\n",
       "    .dataframe tbody tr th {\n",
       "        vertical-align: top;\n",
       "    }\n",
       "\n",
       "    .dataframe thead th {\n",
       "        text-align: right;\n",
       "    }\n",
       "</style>\n",
       "<table border=\"1\" class=\"dataframe\">\n",
       "  <thead>\n",
       "    <tr style=\"text-align: right;\">\n",
       "      <th></th>\n",
       "      <th>count</th>\n",
       "      <th>mean</th>\n",
       "      <th>std</th>\n",
       "      <th>min</th>\n",
       "      <th>25%</th>\n",
       "      <th>50%</th>\n",
       "      <th>75%</th>\n",
       "      <th>max</th>\n",
       "    </tr>\n",
       "  </thead>\n",
       "  <tbody>\n",
       "    <tr>\n",
       "      <th>price</th>\n",
       "      <td>15352.0</td>\n",
       "      <td>26241.576668</td>\n",
       "      <td>76363.443264</td>\n",
       "      <td>0.0</td>\n",
       "      <td>6952.0</td>\n",
       "      <td>11979.0</td>\n",
       "      <td>20001.0</td>\n",
       "      <td>1000053.0</td>\n",
       "    </tr>\n",
       "  </tbody>\n",
       "</table>\n",
       "</div>"
      ],
      "text/plain": [
       "         count          mean           std  min     25%      50%      75%  \\\n",
       "price  15352.0  26241.576668  76363.443264  0.0  6952.0  11979.0  20001.0   \n",
       "\n",
       "             max  \n",
       "price  1000053.0  "
      ]
     },
     "execution_count": 5,
     "metadata": {},
     "output_type": "execute_result"
    }
   ],
   "source": [
    "# listing_df_v2.price.describe()では見にくいので\n",
    "pd.DataFrame(listing_df_v2.price.describe()).T"
   ]
  },
  {
   "cell_type": "code",
   "execution_count": 6,
   "metadata": {},
   "outputs": [
    {
     "data": {
      "text/plain": [
       "<matplotlib.axes._subplots.AxesSubplot at 0x108c89490>"
      ]
     },
     "execution_count": 6,
     "metadata": {},
     "output_type": "execute_result"
    },
    {
     "data": {
      "image/png": "[encoded data removed]",
      "text/plain": [
       "<Figure size 432x288 with 1 Axes>"
      ]
     },
     "metadata": {
      "needs_background": "light"
     },
     "output_type": "display_data"
    }
   ],
   "source": [
    "# 1泊10万円以下の物件の分布\n",
    "listing_df_v2[listing_df_v2.price < 100000].price.hist(bins=100)"
   ]
  },
  {
   "cell_type": "code",
   "execution_count": 7,
   "metadata": {},
   "outputs": [
    {
     "data": {
      "text/plain": [
       "<matplotlib.axes._subplots.AxesSubplot at 0x11738a250>"
      ]
     },
     "execution_count": 7,
     "metadata": {},
     "output_type": "execute_result"
    },
    {
     "data": {
      "image/png": "[encoded data removed]",
      "text/plain": [
       "<Figure size 432x288 with 1 Axes>"
      ]
     },
     "metadata": {
      "needs_background": "light"
     },
     "output_type": "display_data"
    }
   ],
   "source": [
    "# 1泊10万円以上のの物件の分布\n",
    "listing_df_v2[listing_df_v2.price >= 100000].price.hist(bins=100)"
   ]
  },
  {
   "cell_type": "markdown",
   "metadata": {},
   "source": [
    "### Q4. データの確認（2/2）\n",
    "``listing_df_v2``に含まれる欠損値（空の値：NaN）の数を，各属性ごとに求めよ．"
   ]
  },
  {
   "cell_type": "code",
   "execution_count": 8,
   "metadata": {},
   "outputs": [
    {
     "data": {
      "text/plain": [
       "host_response_time                  1062\n",
       "host_response_rate                  1062\n",
       "host_acceptance_rate                 460\n",
       "host_is_superhost                      0\n",
       "host_listings_count                   11\n",
       "host_has_profile_pic                   0\n",
       "host_identity_verified                 0\n",
       "neighbourhood_cleansed                 0\n",
       "is_location_exact                      0\n",
       "property_type                          0\n",
       "room_type                              0\n",
       "accommodates                           0\n",
       "bathrooms                              4\n",
       "bedrooms                              24\n",
       "beds                                  43\n",
       "bed_type                               0\n",
       "amenities                              0\n",
       "price                                  0\n",
       "security_deposit                    1247\n",
       "cleaning_fee                         689\n",
       "minimum_nights                         0\n",
       "maximum_nights                         0\n",
       "number_of_reviews                      0\n",
       "review_scores_rating                2640\n",
       "review_scores_accuracy              2640\n",
       "review_scores_cleanliness           2640\n",
       "review_scores_checkin               2640\n",
       "review_scores_communication         2640\n",
       "review_scores_location              2640\n",
       "review_scores_value                 2640\n",
       "requires_license                       0\n",
       "instant_bookable                       0\n",
       "is_business_travel_ready               0\n",
       "cancellation_policy                    0\n",
       "require_guest_profile_picture          0\n",
       "require_guest_phone_verification       0\n",
       "reviews_per_month                   2610\n",
       "dtype: int64"
      ]
     },
     "execution_count": 8,
     "metadata": {},
     "output_type": "execute_result"
    }
   ],
   "source": [
    "listing_df_v2.isnull().sum()"
   ]
  },
  {
   "cell_type": "code",
   "execution_count": 9,
   "metadata": {},
   "outputs": [
    {
     "name": "stdout",
     "output_type": "stream",
     "text": [
      "<class 'pandas.core.frame.DataFrame'>\n",
      "RangeIndex: 15352 entries, 0 to 15351\n",
      "Data columns (total 37 columns):\n",
      " #   Column                            Non-Null Count  Dtype  \n",
      "---  ------                            --------------  -----  \n",
      " 0   host_response_time                14290 non-null  object \n",
      " 1   host_response_rate                14290 non-null  float64\n",
      " 2   host_acceptance_rate              14892 non-null  float64\n",
      " 3   host_is_superhost                 15352 non-null  int64  \n",
      " 4   host_listings_count               15341 non-null  float64\n",
      " 5   host_has_profile_pic              15352 non-null  int64  \n",
      " 6   host_identity_verified            15352 non-null  int64  \n",
      " 7   neighbourhood_cleansed            15352 non-null  object \n",
      " 8   is_location_exact                 15352 non-null  int64  \n",
      " 9   property_type                     15352 non-null  object \n",
      " 10  room_type                         15352 non-null  object \n",
      " 11  accommodates                      15352 non-null  int64  \n",
      " 12  bathrooms                         15348 non-null  float64\n",
      " 13  bedrooms                          15328 non-null  float64\n",
      " 14  beds                              15309 non-null  float64\n",
      " 15  bed_type                          15352 non-null  object \n",
      " 16  amenities                         15352 non-null  object \n",
      " 17  price                             15352 non-null  float64\n",
      " 18  security_deposit                  14105 non-null  float64\n",
      " 19  cleaning_fee                      14663 non-null  float64\n",
      " 20  minimum_nights                    15352 non-null  int64  \n",
      " 21  maximum_nights                    15352 non-null  int64  \n",
      " 22  number_of_reviews                 15352 non-null  int64  \n",
      " 23  review_scores_rating              12712 non-null  float64\n",
      " 24  review_scores_accuracy            12712 non-null  float64\n",
      " 25  review_scores_cleanliness         12712 non-null  float64\n",
      " 26  review_scores_checkin             12712 non-null  float64\n",
      " 27  review_scores_communication       12712 non-null  float64\n",
      " 28  review_scores_location            12712 non-null  float64\n",
      " 29  review_scores_value               12712 non-null  float64\n",
      " 30  requires_license                  15352 non-null  int64  \n",
      " 31  instant_bookable                  15352 non-null  int64  \n",
      " 32  is_business_travel_ready          15352 non-null  int64  \n",
      " 33  cancellation_policy               15352 non-null  object \n",
      " 34  require_guest_profile_picture     15352 non-null  int64  \n",
      " 35  require_guest_phone_verification  15352 non-null  int64  \n",
      " 36  reviews_per_month                 12742 non-null  float64\n",
      "dtypes: float64(17), int64(13), object(7)\n",
      "memory usage: 4.3+ MB\n"
     ]
    }
   ],
   "source": [
    "# Non-Nullの数ならinfoメソッドでも確認可能\n",
    "listing_df_v2.info()"
   ]
  },
  {
   "cell_type": "markdown",
   "metadata": {},
   "source": [
    "### Q5. データ加工（2/3）：カテゴリ変数のダミー変数変換\n",
    "回帰分析等の機械学習を用いる際，天気（例：晴れ，曇り，雨，雪）などのカテゴリ変数（質的データ変数）を特徴量として用いたい場合，カテゴリ変数を**ダミー変数**に変換することで対応する．例えば，下記のようなデータフレームがあるとする．\n",
    "\n",
    "|ID|日付|天気|売上|\n",
    "|---:|---:|---:|---:|\n",
    "|1|xxx|晴れ|3500|\n",
    "|2|xxx|曇り|1500|\n",
    "|3|xxx|雨|800|\n",
    "|4|xxx|晴れ|2200|\n",
    "\n",
    "このデータフレームの``天気``変数をダミー変数化したデータフレームは下記の通りである．\n",
    "\n",
    "|ID|日付|天気_晴れ|天気_曇り|天気_雨|売上|\n",
    "|---:|---:|---:|---:|---:|---:|\n",
    "|1|xxx|1|0|0|3500|\n",
    "|2|xxx|0|1|0|1500|\n",
    "|3|xxx|0|0|1|800|\n",
    "|4|xxx|1|0|0|2200|\n",
    "\n",
    "データフレーム``listing_df_v2``中の下記属性について，ダミー変数化を行い，その結果を``listing_df_v3``とせよ．"
   ]
  },
  {
   "cell_type": "code",
   "execution_count": 10,
   "metadata": {},
   "outputs": [],
   "source": [
    "dummy_targets = [\"host_response_time\", \"neighbourhood_cleansed\",\n",
    "                 \"property_type\", \"room_type\", \"bed_type\", \"cancellation_policy\"]"
   ]
  },
  {
   "cell_type": "code",
   "execution_count": 11,
   "metadata": {},
   "outputs": [],
   "source": [
    "listing_df_v3 = pd.get_dummies(listing_df_v2, columns=dummy_targets)"
   ]
  },
  {
   "cell_type": "markdown",
   "metadata": {},
   "source": [
    "### Q6. データ加工（3/3）：カテゴリ変数のダミー変数変換2\n",
    "下記のように，データフレーム``listing_df_v3``の``amenities``属性には，1つの属性にカンマ区切りで複数の要素が格納されている．\n",
    "\n",
    "| price | ... | amenities | ... |\n",
    "|---:|---:|:---|---:|\n",
    "|10000| ... | toilet, WiFi, BBQ grill| ... |\n",
    "|15000| ... | toilet, WiFi, Air purifier| ... |\n",
    "\n",
    "``amenities``属性に含まれる各要素をダミー変数化し，``listing_df_v3``を以下のような形式に変換せよ．その結果をデータフレーム``listing_df_v4``に格納せよ．\n",
    "\n",
    "\n",
    "| price | ... | toilet | WiFi | BBQ grill | Air purifier | ... |\n",
    "|---:|---:|---:|---:|---:|---:|---:|\n",
    "|10000| ... | 1 | 1 | 1 | 0 | ... |\n",
    "|15000| ... | 1 | 1 | 0 | 1 | ... |"
   ]
  },
  {
   "cell_type": "code",
   "execution_count": 12,
   "metadata": {},
   "outputs": [],
   "source": [
    "from sklearn.preprocessing import MultiLabelBinarizer\n",
    "\n",
    "ml_binarizer = MultiLabelBinarizer()\n",
    "\n",
    "\n",
    "listing_df_v4 = listing_df_v3.pipe(\n",
    "    lambda df: pd.DataFrame(\n",
    "        ml_binarizer.fit_transform(df['amenities'].str.replace(\"[{}\\\"]\", \"\").str.strip().str.split(\",\")),\n",
    "        columns=ml_binarizer.classes_,\n",
    "        index=df.index\n",
    "    )\n",
    ").join( # amenityラベルの情報をもつデータフレームを元のlisting_dfと結合\n",
    "    listing_df_v3\n",
    ").drop(\n",
    "    'amenities', axis=1\n",
    ").drop( # カラム名が空文字の列を除去\n",
    "    '', axis=1\n",
    ")"
   ]
  },
  {
   "cell_type": "markdown",
   "metadata": {},
   "source": [
    "### Q7. 欠損値対応（1/2）：行削除\n",
    "Q4で確認したように，現実世界のデータは欠損値を含むことがしばしばある．欠損値は理由があって値が欠損しているのであれば，欠損していること自体に「意味がある」として，その情報をデータ解析に積極的に活用するべきである．しかし，学習モデルによっては，欠損値を含むデータの学習を行うことができない．そのため，欠損値を何らかの方法で事前に処理する必要がある．\n",
    "\n",
    "欠損値の対応としては，下記のような方法などが提案されている．\n",
    "* 欠損値の除去\n",
    "    * 欠損値を含む行をデータから除外する方法（リストワイズ除去）\n",
    "    * 欠損値を含む列をデータから除外する方法（ペアワイズ除去）\n",
    "* 欠損値の補完\n",
    "    * 欠損値をそれを含む列データの代表値（平均や中央値など）で埋める方法\n",
    "    * 欠損値をそれを含む行と類似する行データ（k近傍データ）の平均値で埋める方法\n",
    "    * 多重代入法\n",
    "    \n",
    "Q6で準備したデータには欠損値が含まれている．当該データから欠損値を含む行を除外せよ（リストワイズ除去を実行せよ）．"
   ]
  },
  {
   "cell_type": "code",
   "execution_count": 13,
   "metadata": {},
   "outputs": [],
   "source": [
    "listing_df_v5 = listing_df_v4.dropna(how='any')"
   ]
  },
  {
   "cell_type": "markdown",
   "metadata": {},
   "source": [
    "### Q8 ホールドアウト法\n",
    "ホールドアウト法は，データ全体を一定の割合で訓練データと評価データに分け，分割されたデータを用いてモデルの学習と評価を行う方法である．\n",
    "\n",
    "Q7で準備したデータを7対3の割合で訓練データと評価データに分割し，それらデータを用いて1泊あたりの宿泊費``price``を予測する線形回帰（単純な重回帰）モデルを構築せよ．さらに，課題Q8で用意した評価データを用いて，構築したモデルの精度評価を行え．\n",
    "\n",
    "なお，この課題では，何も考えずにすべての特徴量を学習・評価に利用せよ．また，評価指標は下記のMAE（Mean Absolute Error：平均絶対誤差），RMSE（Root Mean Square Error：二乗平均平方根誤差）を用いよ．\n",
    "\n",
    "$$\n",
    "MAE = \\frac{1}{n}\\sum^n_i |y_i - \\hat{y}_i| \\\\\n",
    "RMSE = \\sqrt{\\frac{1}{n}\\sum^n_i (y_i - \\hat{y}_i)^2}\n",
    "$$"
   ]
  },
  {
   "cell_type": "code",
   "execution_count": 14,
   "metadata": {},
   "outputs": [],
   "source": [
    "from sklearn.model_selection import train_test_split\n",
    "\n",
    "X = listing_df_v5.drop('price', axis=1).values\n",
    "y = listing_df_v5['price'].values\n",
    "\n",
    "X_train, X_test, y_train, y_test = train_test_split(X, y, test_size=0.3, random_state=77)"
   ]
  },
  {
   "cell_type": "code",
   "execution_count": 15,
   "metadata": {},
   "outputs": [],
   "source": [
    "import numpy as np\n",
    "from sklearn.metrics import mean_squared_error \n",
    "\n",
    "def rmse(y_predict, y_test):\n",
    "    ''' RMSEは誤差を2乗するので，MAEに比べて大きな誤差を強調しやすい\n",
    "    '''\n",
    "    mse = mean_squared_error(y_predict, y_test)\n",
    "    return np.sqrt(mse)"
   ]
  },
  {
   "cell_type": "code",
   "execution_count": 16,
   "metadata": {},
   "outputs": [
    {
     "name": "stdout",
     "output_type": "stream",
     "text": [
      "MAE = 27477.347299924946\n",
      "RMSE = 79360.52396287947\n"
     ]
    }
   ],
   "source": [
    "from sklearn.linear_model import LinearRegression\n",
    "from sklearn.metrics import mean_absolute_error\n",
    "\n",
    "linear_regressor = LinearRegression()\n",
    "linear_regressor.fit(X_train, y_train)\n",
    "\n",
    "y_predict = linear_regressor.predict(X_test)\n",
    "print(\"MAE =\", mean_absolute_error(y_predict, y_test))\n",
    "print(\"RMSE =\", rmse(y_predict, y_test))"
   ]
  },
  {
   "cell_type": "markdown",
   "metadata": {},
   "source": [
    "### Q9. 交差検証\n",
    "Q8で行ったホールドアウト法は，分割したデータに偏りがある場合，特定のデータに最適化された学習・評価が行われてしまうという欠点がある．この問題に対応する方法の1つが **交差検証法（Cross Validation）** である．交差検証法はデータをK個に分割し，そのうちの1つを評価用データ，残るK−1個を訓練データとした学習・評価をK回行い，得られた評価結果の平均値を最終的な評価指標として用いる方法である．\n",
    "\n",
    "Q7で構築したデータセットを5分割交差検証法を用いて，1泊あたりの宿泊費``price``を予測する線形回帰（単純な重回帰）モデルを構築し，構築した予測モデル（平均の）MAEとRMSEを計算せよ．"
   ]
  },
  {
   "cell_type": "markdown",
   "metadata": {},
   "source": [
    "#### cross_validate関数を使う場合"
   ]
  },
  {
   "cell_type": "code",
   "execution_count": 17,
   "metadata": {},
   "outputs": [
    {
     "name": "stdout",
     "output_type": "stream",
     "text": [
      "MAE = 27282.785384867224\n",
      "RMSE = 68772.75374588804\n"
     ]
    }
   ],
   "source": [
    "from sklearn.model_selection import KFold\n",
    "from sklearn.model_selection import cross_validate\n",
    "from sklearn.metrics import make_scorer\n",
    "\n",
    "# K-Fold で汎化性能を評価する\n",
    "k_fold = KFold(n_splits=5, shuffle=True, random_state=77)\n",
    "\n",
    "# 評価する指標\n",
    "score_funcs = {\n",
    "    #'MAE': 'neg_mean_absolute_error',\n",
    "    #'RMSE': 'neg_root_mean_squared_error',\n",
    "    'MAE': make_scorer(mean_absolute_error),\n",
    "    'RMSE': make_scorer(rmse),\n",
    "}\n",
    "\n",
    "# Cross Validation で検証する\n",
    "X = listing_df_v5.drop('price', axis=1).values\n",
    "y = listing_df_v5['price'].values\n",
    "scores = cross_validate(linear_regressor, X, y, cv=k_fold, scoring=score_funcs)\n",
    "\n",
    "# 得られた指標を出力する\n",
    "print('MAE =', np.mean(scores['test_MAE']))\n",
    "print('RMSE =', np.mean(scores['test_RMSE']))"
   ]
  },
  {
   "cell_type": "markdown",
   "metadata": {},
   "source": [
    "#### cross_validate関数を使わない場合"
   ]
  },
  {
   "cell_type": "code",
   "execution_count": 18,
   "metadata": {},
   "outputs": [
    {
     "name": "stdout",
     "output_type": "stream",
     "text": [
      "MAE = 27282.785384867224\n",
      "RMSE = 68772.75374588804\n"
     ]
    }
   ],
   "source": [
    "# K-Fold で汎化性能を評価する\n",
    "k_fold = KFold(n_splits=5, shuffle=True, random_state=77)\n",
    "\n",
    "linear_regressor = LinearRegression()\n",
    "X = listing_df_v5.drop('price', axis=1).values\n",
    "y = listing_df_v5['price'].values\n",
    "\n",
    "scores = {'RMSE': [], 'MAE': []}\n",
    "for indices_train, indices_test in k_fold.split(X):\n",
    "    X_train, y_train = X[indices_train], y[indices_train]\n",
    "    X_test, y_test = X[indices_test], y[indices_test]\n",
    "    \n",
    "    linear_regressor.fit(X_train, y_train)\n",
    "    y_predict = linear_regressor.predict(X_test)\n",
    "    \n",
    "    scores['MAE'].append(mean_absolute_error(y_predict, y_test))\n",
    "    scores['RMSE'].append(rmse(y_predict, y_test))    \n",
    "    \n",
    "print('MAE =', np.mean(scores['MAE']))\n",
    "print('RMSE =', np.mean(scores['RMSE']))"
   ]
  },
  {
   "cell_type": "markdown",
   "metadata": {},
   "source": [
    "### Q10. 外れ値処理\n",
    "Q4で確認したように，``listings.csv.gz``ファイルのデータには異常に大きな値や本来あり得ない値（例：宿泊費ゼロ），すなわち**外れ値**が含まれている．データの分布に基づきデータの解釈や予測モデルの構築を行う統計処理・機械学習では，外れ値の影響を受けやすい．そのため，前処理として外れ値を適切に処理することが重要である．\n",
    "\n",
    "外れ値の検出方法としては様々なものが提案されているが，その1つとして四分位範囲を用いたものがある．この方法では，第1四分位点（$Q_{1/4}$）から第3四分位点（$Q_{3/4}$）の範囲を四分位範囲（IQR）としたとき，\n",
    "\n",
    "$$ \n",
    "x < Q_{1/4} - 1.5 * IQR \\\\  \n",
    "x \\ge Q_{3/4}+1.5*IQR $$\n",
    "\n",
    "の範囲にある$x$，つまり四分位範囲の1.5倍の範囲外にある$x$を外れ値として見なす．1泊あたりの宿泊料金``price``が，先の条件を満たすもしくは値がゼロであるもの外れ値と見なし，それらを含む行を除いたデータをデータフレーム``listing_df_v6``に格納せよ．また，``listing_df_v6``を用いて，Q9と同様のことを行え．"
   ]
  },
  {
   "cell_type": "code",
   "execution_count": 19,
   "metadata": {},
   "outputs": [],
   "source": [
    "def remove_price_outliers(df):\n",
    "    # 第1，第3四分位点\n",
    "    Q1 = df.price.quantile(.25)\n",
    "    Q3 = df.price.quantile(.75)\n",
    "\n",
    "    # 外れ値範囲を算出\n",
    "    IQR = Q3 - Q1\n",
    "    upper_threshold = Q3 + 1.5 * IQR\n",
    "    lower_threshold = Q1 - 1.5 * IQR\n",
    "\n",
    "    # 宿泊料金の四分位範囲の1.5の範囲外にあるデータを除外\n",
    "    new_df = df[ (df.price <= upper_threshold) & (df.price >= lower_threshold)]\n",
    "\n",
    "    # 宿泊料金がゼロのデータを除外\n",
    "    new_df = new_df[new_df.price != 0]\n",
    "    \n",
    "    return new_df"
   ]
  },
  {
   "cell_type": "code",
   "execution_count": 20,
   "metadata": {},
   "outputs": [],
   "source": [
    "listing_df_v6 = remove_price_outliers(listing_df_v5)"
   ]
  },
  {
   "cell_type": "code",
   "execution_count": 21,
   "metadata": {},
   "outputs": [
    {
     "data": {
      "text/html": [
       "<div>\n",
       "<style scoped>\n",
       "    .dataframe tbody tr th:only-of-type {\n",
       "        vertical-align: middle;\n",
       "    }\n",
       "\n",
       "    .dataframe tbody tr th {\n",
       "        vertical-align: top;\n",
       "    }\n",
       "\n",
       "    .dataframe thead th {\n",
       "        text-align: right;\n",
       "    }\n",
       "</style>\n",
       "<table border=\"1\" class=\"dataframe\">\n",
       "  <thead>\n",
       "    <tr style=\"text-align: right;\">\n",
       "      <th></th>\n",
       "      <th>count</th>\n",
       "      <th>mean</th>\n",
       "      <th>std</th>\n",
       "      <th>min</th>\n",
       "      <th>25%</th>\n",
       "      <th>50%</th>\n",
       "      <th>75%</th>\n",
       "      <th>max</th>\n",
       "    </tr>\n",
       "  </thead>\n",
       "  <tbody>\n",
       "    <tr>\n",
       "      <th>price</th>\n",
       "      <td>9639.0</td>\n",
       "      <td>12289.53574</td>\n",
       "      <td>7812.875929</td>\n",
       "      <td>1177.0</td>\n",
       "      <td>6543.0</td>\n",
       "      <td>9975.0</td>\n",
       "      <td>15982.0</td>\n",
       "      <td>39043.0</td>\n",
       "    </tr>\n",
       "  </tbody>\n",
       "</table>\n",
       "</div>"
      ],
      "text/plain": [
       "        count         mean          std     min     25%     50%      75%  \\\n",
       "price  9639.0  12289.53574  7812.875929  1177.0  6543.0  9975.0  15982.0   \n",
       "\n",
       "           max  \n",
       "price  39043.0  "
      ]
     },
     "execution_count": 21,
     "metadata": {},
     "output_type": "execute_result"
    }
   ],
   "source": [
    "pd.DataFrame(listing_df_v6.price.describe()).T"
   ]
  },
  {
   "cell_type": "code",
   "execution_count": 22,
   "metadata": {},
   "outputs": [
    {
     "name": "stdout",
     "output_type": "stream",
     "text": [
      "MAE = 3977.0798977859495\n",
      "RMSE = 5565.675964781117\n"
     ]
    }
   ],
   "source": [
    "from sklearn.model_selection import KFold\n",
    "from sklearn.model_selection import cross_validate\n",
    "from sklearn.metrics import make_scorer\n",
    "\n",
    "# Cross Validation で検証する\n",
    "X = listing_df_v6.drop('price', axis=1).values\n",
    "y = listing_df_v6['price'].values\n",
    "\n",
    "linear_regressor = LinearRegression()\n",
    "scores = cross_validate(linear_regressor, X, y, cv=k_fold, scoring=score_funcs)\n",
    "\n",
    "# 得られた指標を出力する\n",
    "print('MAE =', np.mean(scores['test_MAE']))\n",
    "print('RMSE =', np.mean(scores['test_RMSE']))"
   ]
  },
  {
   "cell_type": "markdown",
   "metadata": {},
   "source": [
    "### Q11. 分散による特徴量選択\n",
    "与えられたデータの特徴量（属性）には，予測モデルの構築に寄与しないものが多く含まれている．特徴量が大量にある場合，予測性能の低下を招くだけでなく，\n",
    "* 学習にかかる計算コストが大きくなる，\n",
    "* 学習そのものがうまく進まなくなる（例：次元の呪い）\n",
    "* モデルの解釈が難しくなる\n",
    "\n",
    "といった問題も生じる．このような問題に対応するため，有効な特徴量のみを残したまま，特徴量を減らす**特徴選択**が行われることがある．\n",
    "\n",
    "特徴選択には\n",
    "* Filter法：目的変数と説明変数（特徴量）の関係性だけを評価して，関連性の低い説明変数を取り除く（例：相関係数，ANOVA，相互情報量，カイ二乗係数）\n",
    "* Wrapper法：特徴量の部分集合を用いてモデルの訓練を繰り返し行いながら，性能向上に寄与する特徴量を選択する\n",
    "* Embedded法：モデルの学習と同時に予測に用いる特徴量を自動的に選択する（例：Lasso回帰）\n",
    "\n",
    "の3つの方法に大別される．しかし，これらの特徴選択法を適用する前提として，分散がゼロあるいはサンプル大半で値が同じになる特徴量は，汎化性能を低下させる可能性があり，予測に寄与しないとして除外することがある．例えば今回の課題であれば，``toilet``という属性の値の99%が1（トイレあり）で残り1%がゼロ（トイレなし）であったケースなどである．\n",
    "\n",
    "データフレーム``listing_df_v6``から，分散がゼロの特徴量，あるいは値の99%が同じ値である特徴量を除外し，その結果をデータフレーム``listing_df_v7``に格納せよ．"
   ]
  },
  {
   "cell_type": "markdown",
   "metadata": {},
   "source": [
    "#### 分散がゼロの特徴量の削減"
   ]
  },
  {
   "cell_type": "code",
   "execution_count": 23,
   "metadata": {},
   "outputs": [
    {
     "name": "stdout",
     "output_type": "stream",
     "text": [
      "Original feature num: 287\n",
      "Selected feature num: 271\n"
     ]
    }
   ],
   "source": [
    "from sklearn.feature_selection import VarianceThreshold\n",
    "\n",
    "variance_selector = VarianceThreshold(threshold=0.00)\n",
    "\n",
    "target_data = listing_df_v6.drop('price', axis=1)\n",
    "target_features = target_data.columns\n",
    "variance_selector.fit(target_data)\n",
    "\n",
    "selected_features = list(target_features[variance_selector.get_support()])\n",
    "listing_df_v7 = listing_df_v6[['price'] + selected_features]\n",
    "\n",
    "print(\"Original feature num: {}\".format(listing_df_v6.shape[1]))\n",
    "print(\"Selected feature num: {}\".format(listing_df_v7.shape[1]))"
   ]
  },
  {
   "cell_type": "markdown",
   "metadata": {},
   "source": [
    "#### 値が99%同じ特徴量の削減"
   ]
  },
  {
   "cell_type": "code",
   "execution_count": 24,
   "metadata": {},
   "outputs": [
    {
     "name": "stdout",
     "output_type": "stream",
     "text": [
      "Selected feature num: 146\n"
     ]
    }
   ],
   "source": [
    "selection_flag = listing_df_v7.quantile(.99) - listing_df_v7.quantile(.0) != 0\n",
    "selected_features = list(selection_flag[selection_flag].index)\n",
    "listing_df_v7 = listing_df_v7[selected_features]\n",
    "\n",
    "print(\"Selected feature num: {}\".format(listing_df_v7.shape[1]))"
   ]
  },
  {
   "cell_type": "markdown",
   "metadata": {},
   "source": [
    "#### 多重共線度への対応（変数間の相関が高い変数の削減）"
   ]
  },
  {
   "cell_type": "markdown",
   "metadata": {},
   "source": [
    "#### 学習・評価"
   ]
  },
  {
   "cell_type": "code",
   "execution_count": 25,
   "metadata": {},
   "outputs": [
    {
     "name": "stdout",
     "output_type": "stream",
     "text": [
      "MAE = 3989.954114630361\n",
      "RMSE = 5569.651657520546\n"
     ]
    }
   ],
   "source": [
    "X = listing_df_v7.drop('price', axis=1).values\n",
    "y = listing_df_v7['price'].values\n",
    "\n",
    "linear_regressor = LinearRegression()\n",
    "scores = cross_validate(linear_regressor, X, y, cv=k_fold, scoring=score_funcs)\n",
    "\n",
    "# 得られた指標を出力する\n",
    "print('MAE =', np.mean(scores['test_MAE']))\n",
    "print('RMSE =', np.mean(scores['test_RMSE']))"
   ]
  },
  {
   "cell_type": "markdown",
   "metadata": {},
   "source": [
    "### Q12. 目的変数と説明変数の相関分析\n",
    "特徴量選択の方法の1つであるフィルター法として，目的変数と説明変数（特徴量）との相関係数が大きいものを優先的に採用する方法がある．相関係数による特徴量選択を行うために，``price``属性とその他の属性の相関係数を求め，その上位30件を表示せよ．"
   ]
  },
  {
   "cell_type": "code",
   "execution_count": 26,
   "metadata": {},
   "outputs": [
    {
     "data": {
      "text/plain": [
       "[('accommodates', 0.5899773254731174),\n",
       " ('beds', 0.3634470934384575),\n",
       " ('cleaning_fee', 0.36268840788000156),\n",
       " ('room_type_Entire home/apt', 0.33730439471296736),\n",
       " ('bedrooms', 0.30473913336502934),\n",
       " ('room_type_Private room', -0.24336260049438516),\n",
       " ('room_type_Shared room', -0.21371137964491776),\n",
       " ('Private entrance', 0.2038852174720435),\n",
       " ('TV', 0.1851228439383846),\n",
       " ('property_type_Hostel', -0.17919847538158792),\n",
       " ('Lock on bedroom door', -0.1656759510764242),\n",
       " ('Kitchen', 0.16517992064403839),\n",
       " ('Private living room', 0.14578780876090383),\n",
       " ('Shampoo', 0.14346481166957775),\n",
       " ('host_acceptance_rate', 0.14045666619826058),\n",
       " ('Dishes and silverware', 0.13902865067835937),\n",
       " ('Essentials', 0.13083494876743995),\n",
       " ('Washer', 0.1291580280324384),\n",
       " ('translation missing: en.hosting_amenity_49', -0.12383574096423614),\n",
       " ('Patio or balcony', 0.12365957023298667),\n",
       " ('Iron', 0.12145449572698734),\n",
       " ('Dishwasher', 0.12019055758808843),\n",
       " ('translation missing: en.hosting_amenity_50', -0.11872328346975336),\n",
       " ('Stove', 0.1173935805418843),\n",
       " ('Laptop friendly workspace', 0.11501918296179889),\n",
       " ('review_scores_rating', 0.11323378246034256),\n",
       " ('review_scores_cleanliness', 0.11215865708139013),\n",
       " ('Bathtub', 0.11212384443156137),\n",
       " ('Children’s dinnerware', 0.10927209401846501),\n",
       " ('Pocket wifi', 0.10858038628539683)]"
      ]
     },
     "execution_count": 26,
     "metadata": {},
     "output_type": "execute_result"
    }
   ],
   "source": [
    "corrs = dict(listing_df_v7.corr()['price'])\n",
    "corrs.pop('price')\n",
    "\n",
    "sorted(corrs.items(), key=lambda x: abs(x[1]), reverse=True)[:30]"
   ]
  },
  {
   "cell_type": "markdown",
   "metadata": {},
   "source": [
    "### Q13. 相関係数による特徴量選択\n",
    "``listing_df_v7``における``price``値の予測モデルの構築において，相関係数に基づく特徴量選択を行い，相関係数が大きい上位k件の特徴量を用いて線形回帰モデルを構築することを考える．選択する特徴量の個数をk=1から1ずつ増やしていった際の，学習時間，MAE，RMSEの変化を折れ線グラフで図示せよ．"
   ]
  },
  {
   "cell_type": "code",
   "execution_count": 27,
   "metadata": {},
   "outputs": [],
   "source": [
    "from sklearn.feature_selection import SelectKBest, f_regression\n",
    "\n",
    "def linear_regression_with_feature_selection(X, y, feature_num=100):\n",
    "    selector = SelectKBest(score_func=f_regression, k=feature_num) \n",
    "    selector.fit(X, y)\n",
    "\n",
    "    # 選択した特徴量の列のみ取得\n",
    "    X_new = selector.transform(X)\n",
    "\n",
    "    linear_regressor = LinearRegression()\n",
    "    scores = cross_validate(linear_regressor, X_new, y, cv=k_fold, scoring=score_funcs)\n",
    "\n",
    "    results = {}\n",
    "    results['fit_time'] = np.mean(scores['fit_time'])\n",
    "    results['MAE'] = np.mean(scores['test_MAE'])\n",
    "    results['RMSE'] = np.mean(scores['test_RMSE'])\n",
    "    return results"
   ]
  },
  {
   "cell_type": "code",
   "execution_count": 28,
   "metadata": {},
   "outputs": [],
   "source": [
    "X = listing_df_v7.drop('price', axis=1).values\n",
    "y = listing_df_v7['price'].values\n",
    "max_feature_num = X.shape[1]\n",
    "\n",
    "fit_times = []\n",
    "MAEs = []\n",
    "RMSEs = []\n",
    "for i in range(max_feature_num):\n",
    "    feature_num = i + 1\n",
    "    results = linear_regression_with_feature_selection(X, y, feature_num=feature_num)\n",
    "    fit_times.append(results['fit_time'])\n",
    "    MAEs.append(results['MAE'])\n",
    "    RMSEs.append(results['RMSE'])"
   ]
  },
  {
   "cell_type": "code",
   "execution_count": 29,
   "metadata": {},
   "outputs": [
    {
     "data": {
      "image/png": "[encoded data removed]",
      "text/plain": [
       "<Figure size 432x288 with 1 Axes>"
      ]
     },
     "metadata": {
      "needs_background": "light"
     },
     "output_type": "display_data"
    }
   ],
   "source": [
    "ax = sns.lineplot(x=np.arange(max_feature_num)+1, y=fit_times)\n",
    "ax.set_xlabel('Feature number')\n",
    "ax.set_ylabel('Fit time')\n",
    "plt.show()"
   ]
  },
  {
   "cell_type": "code",
   "execution_count": 30,
   "metadata": {},
   "outputs": [
    {
     "data": {
      "image/png": "[encoded data removed]",
      "text/plain": [
       "<Figure size 432x288 with 1 Axes>"
      ]
     },
     "metadata": {
      "needs_background": "light"
     },
     "output_type": "display_data"
    }
   ],
   "source": [
    "ax = sns.lineplot(x=np.arange(max_feature_num)+1, y=MAEs)\n",
    "ax.set_xlabel('Feature number')\n",
    "ax.set_ylabel('Mean Absolute Error')\n",
    "plt.show()"
   ]
  },
  {
   "cell_type": "code",
   "execution_count": 31,
   "metadata": {},
   "outputs": [
    {
     "data": {
      "image/png": "[encoded data removed]",
      "text/plain": [
       "<Figure size 432x288 with 1 Axes>"
      ]
     },
     "metadata": {
      "needs_background": "light"
     },
     "output_type": "display_data"
    }
   ],
   "source": [
    "ax = sns.lineplot(x=np.arange(max_feature_num)+1, y=RMSEs)\n",
    "ax.set_xlabel('Feature number')\n",
    "ax.set_ylabel('Root Mean Square Error')\n",
    "plt.show()"
   ]
  },
  {
   "cell_type": "markdown",
   "metadata": {},
   "source": [
    "### Q14. 欠損値対応（2/2）：代表値補完\n",
    "Q7では欠損値を含む行を削除することで，欠損値に対応をした（リストワイズ除去）．この方法は学習・評価に用いるデータ数が少なくなるという欠点がある．また，欠損値を含むデータに対する予測を行うことができない．この問題に対応するために，欠損値をそれを含む列のデータの中央値で埋め，再度線形回帰モデルの学習・評価を行え．"
   ]
  },
  {
   "cell_type": "code",
   "execution_count": 32,
   "metadata": {},
   "outputs": [],
   "source": [
    "# 外れ値の除去\n",
    "listing_df_v8 = remove_price_outliers(listing_df_v4)"
   ]
  },
  {
   "cell_type": "code",
   "execution_count": 33,
   "metadata": {},
   "outputs": [],
   "source": [
    "from sklearn.impute import SimpleImputer\n",
    "\n",
    "imputer = SimpleImputer(strategy='median')\n",
    "\n",
    "# 外れ値除くのを忘れていた\n",
    "listing_df_v9 = pd.DataFrame(imputer.fit_transform(listing_df_v8),\n",
    "                             columns=listing_df_v8.columns, index=listing_df_v8.index)"
   ]
  },
  {
   "cell_type": "code",
   "execution_count": 34,
   "metadata": {},
   "outputs": [
    {
     "name": "stdout",
     "output_type": "stream",
     "text": [
      "MAE = 4405.26649668923\n",
      "RMSE = 19636.821358163892\n"
     ]
    }
   ],
   "source": [
    "# Cross Validation で検証する\n",
    "X = listing_df_v9.drop('price', axis=1).values\n",
    "y = listing_df_v9['price'].values\n",
    "\n",
    "linear_regressor = LinearRegression()\n",
    "scores = cross_validate(linear_regressor, X, y, cv=k_fold, scoring=score_funcs)\n",
    "\n",
    "# 得られた指標を出力する\n",
    "print('MAE =', np.mean(scores['test_MAE']))\n",
    "print('RMSE =', np.mean(scores['test_RMSE']))"
   ]
  },
  {
   "cell_type": "markdown",
   "metadata": {},
   "source": [
    "### Q15. 総合課題\n",
    "学習モデル，特徴量設計，欠損値・外れ値処理などを工夫して，1泊あたりの宿泊費``price``をより高い精度で予測する回帰モデルを構築せよ．"
   ]
  },
  {
   "cell_type": "code",
   "execution_count": 35,
   "metadata": {},
   "outputs": [
    {
     "name": "stdout",
     "output_type": "stream",
     "text": [
      "MAE = 2752.4841173633954\n",
      "RMSE = 4345.87150363015\n"
     ]
    }
   ],
   "source": [
    "from sklearn.ensemble import RandomForestRegressor\n",
    "\n",
    "rf_regressor = RandomForestRegressor(n_jobs=-1)\n",
    "\n",
    "# Cross Validation で検証する\n",
    "scores = cross_validate(rf_regressor, X, y, cv=k_fold, scoring=score_funcs)\n",
    "\n",
    "# 得られた指標を出力する\n",
    "print('MAE =', np.mean(scores['test_MAE']))\n",
    "print('RMSE =', np.mean(scores['test_RMSE']))"
   ]
  },
  {
   "cell_type": "markdown",
   "metadata": {},
   "source": [
    "---\n",
    "### 参考資料\n",
    "#### データセット\n",
    "* http://insideairbnb.com/tokyo/\n",
    "\n",
    "#### 分析\n",
    "* [Exploring & Machine Learning for Airbnb Listings in Toronto](https://towardsdatascience.com/exploring-machine-learning-for-airbnb-listings-in-toronto-efdbdeba2644)\n",
    "* [Predicting Airbnb prices with machine learning and location data](https://towardsdatascience.com/predicting-airbnb-prices-with-machine-learning-and-location-data-5c1e033d0a5a)\n",
    "* [Airbnb Price Prediction Using Linear Regression (Scikit-Learn and StatsModels)](https://towardsdatascience.com/airbnb-price-prediction-using-linear-regression-scikit-learn-and-statsmodels-6e1fc2bd51a6)\n",
    "\n",
    "\n",
    "#### データ加工\n",
    "* [Pandas convert a column of list to dummies](https://stackoverflow.com/questions/29034928/pandas-convert-a-column-of-list-to-dummies)\n",
    "\n",
    "#### 特徴選択\n",
    "\n",
    "* [特徴量選択の今と新展開](https://aotamasaki.hatenablog.com/entry/2019/02/10/130647)\n",
    "* [変数選択(Feature Selection)手法のまとめ](https://aotamasaki.hatenablog.com/entry/2018/04/18/201127)\n",
    "* [特徴量選択のまとめ - Qiita](https://qiita.com/shimopino/items/5fee7504c7acf044a521)\n",
    "* [特徴量選択について - Qiita](https://qiita.com/fhiyo/items/33b295de64f5a6a047c6)"
   ]
  }
 ],
 "metadata": {
  "kernelspec": {
   "display_name": "Python 3",
   "language": "python",
   "name": "python3"
  },
  "language_info": {
   "codemirror_mode": {
    "name": "ipython",
    "version": 3
   },
   "file_extension": ".py",
   "mimetype": "text/x-python",
   "name": "python",
   "nbconvert_exporter": "python",
   "pygments_lexer": "ipython3",
   "version": "3.8.2"
  }
 },
 "nbformat": 4,
 "nbformat_minor": 4
}
