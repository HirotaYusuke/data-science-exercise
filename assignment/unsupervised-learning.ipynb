{
 "cells": [
  {
   "cell_type": "markdown",
   "metadata": {},
   "source": [
    "# 教師なし学習"
   ]
  },
  {
   "cell_type": "markdown",
   "metadata": {},
   "source": [
    "### Q1. 類似度（1/2）（ユークリッド距離とコサイン類似度）\n",
    "下2次元のユークリッド空間上に，13個のデータ点が図のように分布している状況を考える（各点の座標については，下記コードのリスト``data``に収められている）．\n",
    "\n",
    "N次元空間上の任意の点$v_1$，$v_2$が与えられたとき，$v_1$と$v_2$のユークリッド距離を求める関数``calc_euclidean_dist(v1, v2)``，コサイン類似度を求める関数``calc_cosine_sim(v1, v2)``を実装せよ．さらに，下図の13つの点のすべての組み合わせについて，そのユークリッド距離とコサイン類似度を求めよ．\n",
    "\n",
    "なお，実装する関数の第1引数および第2引数は，実数のリストを想定せよ．"
   ]
  },
  {
   "cell_type": "code",
   "execution_count": 14,
   "metadata": {},
   "outputs": [],
   "source": [
    "import seaborn as sns\n",
    "import matplotlib.pyplot as plt\n",
    "\n",
    "import random\n",
    "import numpy as np\n",
    "from typing import List\n",
    "from collections import defaultdict\n",
    "\n",
    "sns.set()\n",
    "sns.set_style('ticks')\n",
    "%matplotlib inline"
   ]
  },
  {
   "cell_type": "code",
   "execution_count": 2,
   "metadata": {},
   "outputs": [
    {
     "data": {
      "image/png": "[encoded data removed]",
      "text/plain": [
       "<Figure size 432x288 with 1 Axes>"
      ]
     },
     "metadata": {
      "needs_background": "light"
     },
     "output_type": "display_data"
    }
   ],
   "source": [
    "data = [(2, 2), (3, 4), (5, 2), (10, 5), (9, 3),\n",
    "        (11, 4), (12, 3), (12, 6), (4, 10), (4, 8),\n",
    "        (6, 8), (7, 10), (7, 6)]\n",
    "\n",
    "xs, ys = zip(*data) # zipの逆操作\n",
    "\n",
    "# 可視化\n",
    "ax = sns.scatterplot(x=xs, y=ys)\n",
    "ax.set_xlim(0, 13)\n",
    "ax.set_ylim(0, 13)\n",
    "plt.show()"
   ]
  },
  {
   "cell_type": "code",
   "execution_count": 3,
   "metadata": {},
   "outputs": [
    {
     "name": "stdout",
     "output_type": "stream",
     "text": [
      "(2, 3, 5, 10, 9, 11, 12, 12, 4, 4, 6, 7, 7)\n",
      "(2, 4, 2, 5, 3, 4, 3, 6, 10, 8, 8, 10, 6)\n"
     ]
    }
   ],
   "source": [
    "xs, ys = zip(*data)\n",
    "print(xs)\n",
    "print(ys)\n"
   ]
  },
  {
   "cell_type": "code",
   "execution_count": 275,
   "metadata": {},
   "outputs": [],
   "source": [
    "# ユークリッド距離\n",
    "def calc_euclidean_dist(v1, v2) -> float:\n",
    "    dist_list = []\n",
    "    for xs, ys in zip(v1, v2):\n",
    "        dist_list.append((xs - ys) ** 2)\n",
    "    else:\n",
    "        dist = np.sqrt(np.sum(dist_list))\n",
    "    \n",
    "    return dist\n",
    "\n",
    "# コサイン類似度\n",
    "def calc_cosine_sim(v1: List, v2: List) -> float:\n",
    "    xy = []\n",
    "    x2 = []\n",
    "    y2 = []\n",
    "\n",
    "    for xs, ys in zip(v1, v2):\n",
    "        xy.append((xs * ys))\n",
    "        x2.append(xs ** 2)\n",
    "        y2.append(ys ** 2)\n",
    "    else:\n",
    "        sim = np.sum(xy) / (np.sqrt(np.sum(x2)) * np.sqrt(np.sum(y2)))\n",
    "    return sim"
   ]
  },
  {
   "cell_type": "code",
   "execution_count": 276,
   "metadata": {},
   "outputs": [],
   "source": [
    "euclidean_dists = {}\n",
    "cosine_sims = {}\n",
    "\n",
    "for i in range(len(data)):\n",
    "    for j in range(i, len(data)):\n",
    "        if i != j:\n",
    "            euclidean_dists[(i, j)] = calc_euclidean_dist(data[i], data[j])\n",
    "            cosine_sims[(i, j)] = calc_cosine_sim(data[i], data[j])"
   ]
  },
  {
   "cell_type": "code",
   "execution_count": 277,
   "metadata": {},
   "outputs": [
    {
     "name": "stdout",
     "output_type": "stream",
     "text": [
      "Euclidean distance:\n"
     ]
    },
    {
     "data": {
      "text/plain": [
       "{(0, 1): 2.23606797749979,\n",
       " (0, 2): 3.0,\n",
       " (0, 3): 8.54400374531753,\n",
       " (0, 4): 7.0710678118654755,\n",
       " (0, 5): 9.219544457292887,\n",
       " (0, 6): 10.04987562112089,\n",
       " (0, 7): 10.770329614269007,\n",
       " (0, 8): 8.246211251235321,\n",
       " (0, 9): 6.324555320336759,\n",
       " (0, 10): 7.211102550927978,\n",
       " (0, 11): 9.433981132056603,\n",
       " (0, 12): 6.4031242374328485,\n",
       " (1, 2): 2.8284271247461903,\n",
       " (1, 3): 7.0710678118654755,\n",
       " (1, 4): 6.082762530298219,\n",
       " (1, 5): 8.0,\n",
       " (1, 6): 9.055385138137417,\n",
       " (1, 7): 9.219544457292887,\n",
       " (1, 8): 6.082762530298219,\n",
       " (1, 9): 4.123105625617661,\n",
       " (1, 10): 5.0,\n",
       " (1, 11): 7.211102550927978,\n",
       " (1, 12): 4.47213595499958,\n",
       " (2, 3): 5.830951894845301,\n",
       " (2, 4): 4.123105625617661,\n",
       " (2, 5): 6.324555320336759,\n",
       " (2, 6): 7.0710678118654755,\n",
       " (2, 7): 8.06225774829855,\n",
       " (2, 8): 8.06225774829855,\n",
       " (2, 9): 6.082762530298219,\n",
       " (2, 10): 6.082762530298219,\n",
       " (2, 11): 8.246211251235321,\n",
       " (2, 12): 4.47213595499958,\n",
       " (3, 4): 2.23606797749979,\n",
       " (3, 5): 1.4142135623730951,\n",
       " (3, 6): 2.8284271247461903,\n",
       " (3, 7): 2.23606797749979,\n",
       " (3, 8): 7.810249675906654,\n",
       " (3, 9): 6.708203932499369,\n",
       " (3, 10): 5.0,\n",
       " (3, 11): 5.830951894845301,\n",
       " (3, 12): 3.1622776601683795,\n",
       " (4, 5): 2.23606797749979,\n",
       " (4, 6): 3.0,\n",
       " (4, 7): 4.242640687119285,\n",
       " (4, 8): 8.602325267042627,\n",
       " (4, 9): 7.0710678118654755,\n",
       " (4, 10): 5.830951894845301,\n",
       " (4, 11): 7.280109889280518,\n",
       " (4, 12): 3.605551275463989,\n",
       " (5, 6): 1.4142135623730951,\n",
       " (5, 7): 2.23606797749979,\n",
       " (5, 8): 9.219544457292887,\n",
       " (5, 9): 8.06225774829855,\n",
       " (5, 10): 6.4031242374328485,\n",
       " (5, 11): 7.211102550927978,\n",
       " (5, 12): 4.47213595499958,\n",
       " (6, 7): 3.0,\n",
       " (6, 8): 10.63014581273465,\n",
       " (6, 9): 9.433981132056603,\n",
       " (6, 10): 7.810249675906654,\n",
       " (6, 11): 8.602325267042627,\n",
       " (6, 12): 5.830951894845301,\n",
       " (7, 8): 8.94427190999916,\n",
       " (7, 9): 8.246211251235321,\n",
       " (7, 10): 6.324555320336759,\n",
       " (7, 11): 6.4031242374328485,\n",
       " (7, 12): 5.0,\n",
       " (8, 9): 2.0,\n",
       " (8, 10): 2.8284271247461903,\n",
       " (8, 11): 3.0,\n",
       " (8, 12): 5.0,\n",
       " (9, 10): 2.0,\n",
       " (9, 11): 3.605551275463989,\n",
       " (9, 12): 3.605551275463989,\n",
       " (10, 11): 2.23606797749979,\n",
       " (10, 12): 2.23606797749979,\n",
       " (11, 12): 4.0}"
      ]
     },
     "execution_count": 277,
     "metadata": {},
     "output_type": "execute_result"
    }
   ],
   "source": [
    "print(\"Euclidean distance:\")\n",
    "euclidean_dists"
   ]
  },
  {
   "cell_type": "code",
   "execution_count": 278,
   "metadata": {},
   "outputs": [
    {
     "name": "stdout",
     "output_type": "stream",
     "text": [
      "Cosine similarity\n"
     ]
    },
    {
     "data": {
      "text/plain": [
       "{(0, 1): 0.9899494936611665,\n",
       " (0, 2): 0.9191450300180578,\n",
       " (0, 3): 0.9486832980505138,\n",
       " (0, 4): 0.8944271909999159,\n",
       " (0, 5): 0.9061831399952652,\n",
       " (0, 6): 0.8574929257125442,\n",
       " (0, 7): 0.9486832980505137,\n",
       " (0, 8): 0.9191450300180578,\n",
       " (0, 9): 0.9486832980505138,\n",
       " (0, 10): 0.9899494936611665,\n",
       " (0, 11): 0.9847835588179369,\n",
       " (0, 12): 0.9970544855015815,\n",
       " (1, 2): 0.8541985556144386,\n",
       " (1, 3): 0.8944271909999159,\n",
       " (1, 4): 0.8221921916437785,\n",
       " (1, 5): 0.8372705045624257,\n",
       " (1, 6): 0.7761140001162656,\n",
       " (1, 7): 0.8944271909999157,\n",
       " (1, 8): 0.9656157585206697,\n",
       " (1, 9): 0.9838699100999074,\n",
       " (1, 10): 1.0,\n",
       " (1, 11): 0.9994629430332294,\n",
       " (1, 12): 0.9761870601839528,\n",
       " (2, 3): 0.9965457582448797,\n",
       " (2, 4): 0.9982743731749959,\n",
       " (2, 5): 0.9994964752953674,\n",
       " (2, 6): 0.9908301680442991,\n",
       " (2, 7): 0.9965457582448797,\n",
       " (2, 8): 0.6896551724137931,\n",
       " (2, 9): 0.7474093186836597,\n",
       " (2, 10): 0.8541985556144386,\n",
       " (2, 11): 0.8367015168942039,\n",
       " (2, 12): 0.9466499060501441,\n",
       " (3, 4): 0.9899494936611665,\n",
       " (3, 5): 0.993408935871131,\n",
       " (3, 6): 0.9761870601839528,\n",
       " (3, 7): 0.9999999999999998,\n",
       " (3, 8): 0.7474093186836598,\n",
       " (3, 9): 0.7999999999999999,\n",
       " (3, 10): 0.8944271909999159,\n",
       " (3, 11): 0.8792919665367741,\n",
       " (3, 12): 0.9701425001453319,\n",
       " (4, 5): 0.9996349698728535,\n",
       " (4, 6): 0.9970544855015816,\n",
       " (4, 7): 0.9899494936611665,\n",
       " (4, 8): 0.6459422414661738,\n",
       " (4, 9): 0.7071067811865475,\n",
       " (4, 10): 0.8221921916437785,\n",
       " (4, 11): 0.8030980282338017,\n",
       " (4, 12): 0.9260923597695476,\n",
       " (5, 6): 0.9946184088907779,\n",
       " (5, 7): 0.993408935871131,\n",
       " (5, 8): 0.666330983530245,\n",
       " (5, 9): 0.7259526839058266,\n",
       " (5, 10): 0.8372705045624257,\n",
       " (5, 11): 0.8189029657474978,\n",
       " (5, 12): 0.9359477990383271,\n",
       " (6, 7): 0.9761870601839528,\n",
       " (6, 8): 0.5854905538443586,\n",
       " (6, 9): 0.6507913734559685,\n",
       " (6, 10): 0.7761140001162656,\n",
       " (6, 11): 0.7550331183926436,\n",
       " (6, 12): 0.894427190999916,\n",
       " (7, 8): 0.7474093186836598,\n",
       " (7, 9): 0.7999999999999999,\n",
       " (7, 10): 0.8944271909999157,\n",
       " (7, 11): 0.8792919665367741,\n",
       " (7, 12): 0.9701425001453319,\n",
       " (8, 9): 0.9965457582448796,\n",
       " (8, 10): 0.9656157585206697,\n",
       " (8, 11): 0.973616310567801,\n",
       " (8, 12): 0.886225443961837,\n",
       " (9, 10): 0.9838699100999074,\n",
       " (9, 11): 0.9892034623538708,\n",
       " (9, 12): 0.9216353751380653,\n",
       " (10, 11): 0.9994629430332294,\n",
       " (10, 12): 0.9761870601839528,\n",
       " (11, 12): 0.9685541378992956}"
      ]
     },
     "execution_count": 278,
     "metadata": {},
     "output_type": "execute_result"
    }
   ],
   "source": [
    "print(\"Cosine similarity\")\n",
    "cosine_sims"
   ]
  },
  {
   "cell_type": "markdown",
   "metadata": {},
   "source": [
    "### Q2. 類似度（2/2）（類似度の解釈）\n",
    "Q1で扱ったデータ集合において，点$v=(11, 4)$との最も類似する点（最近傍点）を求めたい．ユークリッド空間の各次元の意味，最近傍点の定義が下記のような設定である場合，点の類似性を評価する関数としてユークリッド距離，コサイン類似度のどちらを用いるのが適切か考察しながら，最近傍点を求めよ．\n",
    "\n",
    "1. 各点は都市の位置情報を表しており，第1次元は「緯度」，第2次元は「経度」を意味する．最近傍点として，**物理的距離が近い都市**を見つけたいケース．\n",
    "2. 各点はユーザの購買傾向を表しており，第1次元は「ジャンルAに属する商品を購入した回数」，第2次元は「ジャンルBに属する商品を購入した回数」を意味する．最近傍点として，**購買傾向が似ているユーザ**を見つけたいケース．"
   ]
  },
  {
   "cell_type": "markdown",
   "metadata": {},
   "source": [
    "### ユークリッド距離 と コサイン類似度\n",
    "\n",
    "- ユークリッド距離\n",
    "\n",
    "    ベクトル間の距離を算出する．２点が直線的にどれだけ離れているのかを表す．\n",
    "\n",
    "- コサイン類似度\n",
    "\n",
    "    ２点間の角度を算出する．コサイン類似度は -1 から +1 の範囲をとり，+1 に近いほど類似度が高いことを意味する．一般的にベクトル間の数値的な大きさを考慮しない場合に使用する．\n",
    "\n",
    "#### レコメンドシステムでコサイン類似度が使われるのか？\n",
    "コサイン類似度は要素の絶対値を無視する．よって，ユーザが購入したコンテンツ自体の類似度で２点間をカテゴライズできる．逆にユークリッド距離の場合，ユーザの利用頻度自体でカテゴライズする．"
   ]
  },
  {
   "cell_type": "code",
   "execution_count": 279,
   "metadata": {},
   "outputs": [
    {
     "data": {
      "text/plain": [
       "((10, 5), 1.4142135623730951)"
      ]
     },
     "execution_count": 279,
     "metadata": {},
     "output_type": "execute_result"
    }
   ],
   "source": [
    "#1. 物理的距離\n",
    "dist_dict = {}\n",
    "for i in data:\n",
    "\n",
    "    dist_dict[i] = calc_euclidean_dist((11, 4), i)\n",
    "\n",
    "#dist_dict\n",
    "sorted(dist_dict.items(), key=lambda x:x[1])[1]"
   ]
  },
  {
   "cell_type": "code",
   "execution_count": 280,
   "metadata": {},
   "outputs": [
    {
     "name": "stdout",
     "output_type": "stream",
     "text": [
      "((4, 10), 9.219544457292887)\n"
     ]
    },
    {
     "data": {
      "text/plain": [
       "[((11, 4), 0.0),\n",
       " ((10, 5), 1.4142135623730951),\n",
       " ((12, 3), 1.4142135623730951),\n",
       " ((9, 3), 2.23606797749979),\n",
       " ((12, 6), 2.23606797749979),\n",
       " ((7, 6), 4.47213595499958),\n",
       " ((5, 2), 6.324555320336759),\n",
       " ((6, 8), 6.4031242374328485),\n",
       " ((7, 10), 7.211102550927978),\n",
       " ((3, 4), 8.0),\n",
       " ((4, 8), 8.06225774829855),\n",
       " ((2, 2), 9.219544457292887),\n",
       " ((4, 10), 9.219544457292887)]"
      ]
     },
     "execution_count": 280,
     "metadata": {},
     "output_type": "execute_result"
    }
   ],
   "source": [
    "#1. 物理的距離\n",
    "dist_dict = {}\n",
    "for i in data:\n",
    "\n",
    "    dist_dict[i] = calc_euclidean_dist((11, 4), i)\n",
    "\n",
    "\n",
    "print(sorted(dist_dict.items(), key=lambda x:x[1])[-1])\n",
    "sorted(dist_dict.items(), key=lambda x:x[1])"
   ]
  },
  {
   "cell_type": "code",
   "execution_count": 281,
   "metadata": {},
   "outputs": [
    {
     "name": "stdout",
     "output_type": "stream",
     "text": [
      "((4, 8), 0.7259526839058266)\n"
     ]
    },
    {
     "data": {
      "text/plain": [
       "[((4, 10), 0.666330983530245),\n",
       " ((4, 8), 0.7259526839058266),\n",
       " ((7, 10), 0.8189029657474978),\n",
       " ((3, 4), 0.8372705045624257),\n",
       " ((6, 8), 0.8372705045624257),\n",
       " ((2, 2), 0.9061831399952652),\n",
       " ((7, 6), 0.9359477990383271),\n",
       " ((10, 5), 0.993408935871131),\n",
       " ((12, 6), 0.993408935871131),\n",
       " ((12, 3), 0.9946184088907779),\n",
       " ((5, 2), 0.9994964752953674),\n",
       " ((9, 3), 0.9996349698728535),\n",
       " ((11, 4), 1.0)]"
      ]
     },
     "execution_count": 281,
     "metadata": {},
     "output_type": "execute_result"
    }
   ],
   "source": [
    "#2. 購買傾向\n",
    "sim_dict = {}\n",
    "for i in data:\n",
    "\n",
    "    sim_dict[i] = calc_cosine_sim((11, 4), i)\n",
    "\n",
    "print(sorted(sim_dict.items(), key=lambda x:x[1])[1])\n",
    "sorted(sim_dict.items(), key=lambda x:x[1])"
   ]
  },
  {
   "cell_type": "markdown",
   "metadata": {},
   "source": [
    "### Q3. K-means（1/3）（実装）\n",
    "Q1で扱った13個のデータ点について，[K-means法](https://ja.wikipedia.org/wiki/K%E5%B9%B3%E5%9D%87%E6%B3%95)を用いて3つのクラスタに分割したい．\n",
    "\n",
    "K-means法は，N個のデータ集合$D=\\{x_1, x_2, ..., x_n\\}$が与えられたとき，以下の手順でデータ集合をK個のクラスタに分割する：\n",
    "1. データ集合からランダムにK個のデータを選択し，それぞれをクラスタ中心（centroid）とする．\n",
    "2. データ集合$D$中の各データ$d \\in D$について，K個のクラスタ中心との距離を比較し，最も距離が小さいクラスタにデータ$d$を割り当てる．\n",
    "3. 各クラスタに属するデータの重心（平均）をクラスタ中心として更新する．\n",
    "4. 各クラスタに割り当てられるデータが変化しなくなるまで，2と3の処理を繰り返す．\n",
    "\n",
    "上記手順に従ってK-means法を実装し，対象データを3つのクラスタに分割せよ．\n",
    "\n",
    "なお，この課題では``sklearn``ライブラリ等のクラスタリングメソッドを用いないこと．また，データ間の距離の計算にはユークリッド距離を用いよ．"
   ]
  },
  {
   "cell_type": "code",
   "execution_count": 282,
   "metadata": {},
   "outputs": [],
   "source": [
    "# 引数 data -> , k -> クラスタ数(default=3), max_iter -> イテレーション最大数\n",
    "# 戻り値 dict(cluster_num : data)\n",
    "\n",
    "def k_means(data, k:int, initial_centroids=[], max_iter=500) -> dict:\n",
    "    # ランダムに重心の初期値を初期化\n",
    "    if initial_centroids:\n",
    "        centroids = initial_centroids\n",
    "    else:\n",
    "        centroids  =  random.sample(data, k)\n",
    "\n",
    "    # 前の重心と比較するために、仮に新しい重心を入れておく配列\n",
    "    new_centroids = [0.0] * k\n",
    "\n",
    "    # ループ上限回数まで繰り返し\n",
    "    for epoch in range(max_iter):\n",
    "        # 各データ所属クラスタ情報を保存する配列\n",
    "        cluster = defaultdict(list)\n",
    "        for i in range(len(data)):\n",
    "            dist_dict = {}\n",
    "            for j in range(k):\n",
    "                dist = calc_euclidean_dist(data[i], centroids[j])\n",
    "                dist_dict[centroids[j]] =  dist\n",
    "            x = sorted(dist_dict.items(), key=lambda x:x[1])[0]\n",
    "    \n",
    "            # データの所属クラスタを距離の一番近い重心を持つものに更新\n",
    "            cluster[x[0]].append(data[i])\n",
    "\n",
    "        \n",
    "        new_centroids = [0.0] * k\n",
    "        for i in range(k):\n",
    "            a, b = [], []\n",
    "            for j in range(len(cluster[centroids[i]])):\n",
    "                x,y = cluster[centroids[i]][j]\n",
    "                a.append(x)\n",
    "                b.append(y)\n",
    "            new_centroids[i] = (round(np.mean(a), 1), round(np.mean(b), 1))\n",
    "\n",
    "        # 重心が変わっていなかったら終了\n",
    "        if sorted(new_centroids) == sorted(centroids):\n",
    "            break\n",
    "            print('break')\n",
    "        \n",
    "        centroids =  new_centroids\n",
    "\n",
    "    return dict(cluster)"
   ]
  },
  {
   "cell_type": "code",
   "execution_count": 283,
   "metadata": {},
   "outputs": [
    {
     "data": {
      "text/plain": [
       "{(3.3, 2.7): [(2, 2), (3, 4), (5, 2)],\n",
       " (10.8, 4.2): [(10, 5), (9, 3), (11, 4), (12, 3), (12, 6)],\n",
       " (5.6, 8.4): [(4, 10), (4, 8), (6, 8), (7, 10), (7, 6)]}"
      ]
     },
     "execution_count": 283,
     "metadata": {},
     "output_type": "execute_result"
    }
   ],
   "source": [
    "k_means(data, k=3)"
   ]
  },
  {
   "cell_type": "markdown",
   "metadata": {},
   "source": [
    "### Q4. K-means（2/3）（初期値）\n",
    "Q4で実装したK-means法は，クラスタ中心の初期値をランダムに割り当てているため，初期値によってはクラスタリングの結果が大きく変わってしまうことがある．この問題を回避するために，様々なアプローチが提案されている．KKZ法はクラスタ中心の初期化手法の1つであり，「最も距離が離れているデータ同士を初期値クラスタ中心を選択する」というものである．KKZ法の具体的な手順は以下の通りである：\n",
    "\n",
    "1. 与えられたデータ集合$D$からデータ同士の距離が最大となる2つのデータを選択する．それら2つを初期のクラスタ中心$c1$，$c2$とする．\n",
    "2. 初期のクラスタ中心として選ばれていない各データについて，既に選ばれている各クラスタ中心との距離を計算し，その最小値を保存しておく．\n",
    "3. ステップ2で計算した値が最大となるデータ$d$を初期のクラスタ中心として追加する．\n",
    "4. 初期のクラスタ中心がK個（クラスタ分割数）になるまで，ステップ2および3を繰り返す．\n",
    "\n",
    "KKZ法によって初期クラスタ中心を選択する関数``find_initial_centroids``を実装し，Q4で実装したK-means法を改良せよ．"
   ]
  },
  {
   "cell_type": "code",
   "execution_count": 382,
   "metadata": {},
   "outputs": [],
   "source": [
    "def find_initial_centroids(data, k:int, max_iter=100) -> list:\n",
    "    # step1\n",
    "    euclidean_dists = {}\n",
    "\n",
    "    for i in range(len(data)):\n",
    "        for j in range(i, len(data)):\n",
    "            if i != j:\n",
    "                euclidean_dists[(i, j)] = calc_euclidean_dist(data[i], data[j])\n",
    "    \n",
    "    c1 = sorted(euclidean_dists.items(), key=lambda x:x[1], reverse=True)[0][0][0]\n",
    "    c2 = sorted(euclidean_dists.items(), key=lambda x:x[1], reverse=True)[0][0][1]\n",
    "    \n",
    "    # 重心の初期値\n",
    "    centroids = [data[c1], data[c2]]\n",
    "    #print(centroids)\n",
    "\n",
    "    while len(centroids) < k:\n",
    "        add_dict = {}\n",
    "        #print(centroids)\n",
    "        for i in data:\n",
    "            dist_dict = {}\n",
    "            if i in centroids:\n",
    "                continue\n",
    "            for j in centroids:\n",
    "                dist = calc_euclidean_dist(i, j)\n",
    "                dist_dict[(i, j)] =  dist\n",
    "            \n",
    "            #print(sorted(dist_dict.items(), key=lambda x:x[1], reverse=True))\n",
    "            x = sorted(dist_dict.items(), key=lambda x:x[1])[0]\n",
    "            #print(x)\n",
    "            add_dict[x[0][0]] = x[1]\n",
    "\n",
    "        #print(add_dict)\n",
    "\n",
    "        # step3    \n",
    "        centroids.append(sorted(add_dict.items(), key=lambda x:x[1], reverse=True)[0][0])\n",
    "\n",
    "    return centroids"
   ]
  },
  {
   "cell_type": "code",
   "execution_count": 384,
   "metadata": {},
   "outputs": [
    {
     "data": {
      "text/plain": [
       "{(3.3, 2.7): [(2, 2), (3, 4), (5, 2)],\n",
       " (10.8, 4.2): [(10, 5), (9, 3), (11, 4), (12, 3), (12, 6)],\n",
       " (5.2, 9.0): [(4, 10), (4, 8), (6, 8), (7, 10)],\n",
       " (7.0, 6.0): [(7, 6)]}"
      ]
     },
     "execution_count": 384,
     "metadata": {},
     "output_type": "execute_result"
    }
   ],
   "source": [
    "initial_centroids = find_initial_centroids(data, k=4)\n",
    "k_means(data, 4, initial_centroids)"
   ]
  },
  {
   "cell_type": "markdown",
   "metadata": {},
   "source": [
    "### Q5. K-means（3/3）（クラスタ数の決定）\n",
    "クラスタリングによってデータを分割し，データ集合が性質もつ考察するためには，クラスタが細かくなりすぎないかつある程度意味をなすクラスタのサイズにデータを分割する必要がある．ところで，K-means法は分割後のクラスタ数を指定する必要があるが，現実的にはクラスタリング時に最適なクラスタ数が分かっていることは稀である．このため，最適なクラスタ数を求める様々な方法が提案されている．\n",
    "\n",
    "クラスタ数をある数に指定したときに，その条件でのクラスタリング結果の質を評価する指標として，クラスタ内のデータとクラスタ中心との距離の差（残差）の平方和（SSE: Sum of Squared errors of prediction）を用いることがある．クラスタ数がk，$C_i$ i番目のクラスタ，$x \\in C_i$はクラスタ$C_i$に含まれるデータ，$c_i$はクラスタ$C_i$の重心（平均値）とするとき，SSEは以下の式で定義される：\n",
    "\n",
    "$$\n",
    "SSE = \\sum^k_i \\sum_{x \\in C_i} |x - c_i|^2\n",
    "$$\n",
    "\n",
    "最適クラスタ数を決定する方法の1つに，クラスタ数を変化させながらSSEを計算し，SSEの値の変化パターンが大きく変わった際のクラスタ数を最適クラスタ数とするものがある．このアプローチを用いて，Q1で用いたデータをK-means法でクラスタリングする場合の最適クラスタ数を求めよ．"
   ]
  },
  {
   "cell_type": "code",
   "execution_count": 385,
   "metadata": {},
   "outputs": [],
   "source": [
    "def calc_sse(clustered:dict):\n",
    "    SSE = []\n",
    "    for k, v in clustered.items():\n",
    "        dist_list = []\n",
    "        for i in range(len(v)):\n",
    "            dist = calc_euclidean_dist(k, v[i])\n",
    "            dist_list.append(dist ** 2)\n",
    "        SSE.append(np.sum(dist_list))\n",
    "    return np.sum(SSE)"
   ]
  },
  {
   "cell_type": "code",
   "execution_count": 386,
   "metadata": {},
   "outputs": [
    {
     "name": "stdout",
     "output_type": "stream",
     "text": [
      "(K = 2) SSE = 112.63999999999999\n",
      "(K = 3) SSE = 41.339999999999996\n",
      "(K = 4) SSE = 31.699999999999996\n",
      "(K = 5) SSE = 26.27\n",
      "(K = 6) SSE = 21.430000000000003\n",
      "(K = 7) SSE = 17.17\n",
      "(K = 8) SSE = 10.5\n",
      "(K = 9) SSE = 8.0\n",
      "(K = 10) SSE = 5.5\n",
      "(K = 11) SSE = 3.0\n",
      "(K = 12) SSE = 1.0000000000000002\n"
     ]
    }
   ],
   "source": [
    "SSEs = []\n",
    "for k in range(2, len(data)):\n",
    "    initial_centroids = find_initial_centroids(k=k, data=data)\n",
    "    result = k_means(data, k=k, initial_centroids=initial_centroids)\n",
    "    sse = calc_sse(result) \n",
    "    SSEs.append(sse)\n",
    "    print(\"(K = {}) SSE = {}\".format(k, sse))"
   ]
  },
  {
   "cell_type": "code",
   "execution_count": 392,
   "metadata": {},
   "outputs": [
    {
     "data": {
      "image/png": "[encoded data removed]",
      "text/plain": [
       "<Figure size 504x360 with 1 Axes>"
      ]
     },
     "metadata": {
      "needs_background": "light"
     },
     "output_type": "display_data"
    }
   ],
   "source": [
    "plt.figure(figsize=(7, 5))\n",
    "ax = sns.lineplot(x=[i+2 for i in range(len(SSEs))], y=SSEs)\n",
    "ax.set_xlabel('K')\n",
    "ax.set_ylabel('SSE')\n",
    "plt.show()"
   ]
  },
  {
   "cell_type": "markdown",
   "metadata": {},
   "source": [
    "### Q6. 階層的クラスタリング\n",
    "Q1で扱った13個のデータ点について，[階層的クラスタリング法](http://www.kamishima.net/jp/clustering/)を用いて段階的にクラスタに分割したい．\n",
    "\n",
    "``scipy.cluster.hierarchy``ライブラリの``linkage``関数および``dendrogram``関数を用いて，Q1で扱ったデータに階層的クラスタリングを適用せよ．その際，階層的クラスタリングのクラスタ生成手法として下記3つの方法を用いて，クラスタの生成過程を結果を比較せよ：\n",
    "\n",
    "* セントロイド法（centroid）\n",
    "* 最短距離法（single linkage）\n",
    "* 最長距離法（complete linkage）\n",
    "\n",
    "なお，クラスタ間の距離の尺度にはユークリッド距離を用いること．"
   ]
  },
  {
   "cell_type": "markdown",
   "metadata": {},
   "source": [
    "### Q7. Instacartユーザの注文頻度情報の集計と整形\n",
    "Q7-Q10では，[「SQL & 探索的データ解析」](/eda.ipynb)の演習で扱ったInstacartのデータを用いる．\n",
    "\n",
    "Instacart利用ユーザの特徴を把握するために，以下の手順で分析を行いたい．\n",
    "1. ユーザ毎の商品の注文頻度を集計したデータを準備する\n",
    "2. 1で準備したデータをクラスタリングする\n",
    "3. クラスタ毎に注文頻度の高い商品を分析し，注文傾向を考察する\n",
    "\n",
    "事前準備として，Instacartのデータベースに対してSQL文を発行し，ユーザ毎に商品棚（aisle）別注文数を集計せよ．さらに得られた結果を\n",
    "* 行がユーザ\n",
    "* 列が商品棚別注文数\n",
    "\n",
    "に対応する``pandas``データフレームに格納せよ．なお，注文がない商品棚については注文数をゼロとすること．"
   ]
  },
  {
   "cell_type": "markdown",
   "metadata": {},
   "source": [
    "### Q8. 主成分分析による次元圧縮（1/2）\n",
    "Q7で準備したデータは206,209のユーザの134の商品棚に関する注文回数情報を保持しているが，属性数（商品棚数）も多いためデータの解釈が容易ではない．そこで，データ群の特徴を保持しながらデータを低次元空間に縮約したい（少ない変数で表現したい）．\n",
    "\n",
    "Q7で得られたデータに**主成分分析**を適用し，データを5次元に圧縮せよ．また，圧縮したデータを2つの主成分ベクトルが張る平面へ射影（例：第1主成分と第2主成分のみを取り出し）し，データの分布を散布図で可視化せよ．"
   ]
  },
  {
   "cell_type": "markdown",
   "metadata": {},
   "source": [
    "### Q9. 主成分分析による次元圧縮（2/2）\n",
    "Q8で行った主成分分析の結果得られた第1主成分ベクトルから第5主成分ベクトルについて，その寄与率を表示せよ．また，各主成分ベクトルを構成する要素の大きさ（絶対値）順に上位20個の商品棚（aisle）を表示し，各主成分ベクトルが表す意味を考察せよ．"
   ]
  },
  {
   "cell_type": "markdown",
   "metadata": {},
   "source": [
    "### Q10. 次元圧縮結果を用いたクラスタリング\n",
    "Q9で圧縮したデータとK-means法を用いて，ユーザを5つのクラスタに分割せよ．さらに，各クラスタに属するユーザの商品棚注文数の平均値を計算し，各クラスタのユーザの特性について考察せよ．なお，この課題において第1主成分は「総合的な注文数を表す成分」と考えられるため，クラスタリングの際には第1主成分を無視せよ．\n",
    "\n",
    "* ヒント1：本課題では``sklearn``ライブラリの``cluster.KMeans``クラスを用いよ（計算速度が速い）\n",
    "* ヒント2：クラスタの初期設定は``cluster.KMeans``クラスのデフォルト設定（K-means++）に頼ればよい"
   ]
  }
 ],
 "metadata": {
  "kernelspec": {
   "display_name": "Python 3.8.13 64-bit ('3.8.13')",
   "language": "python",
   "name": "python3"
  },
  "language_info": {
   "codemirror_mode": {
    "name": "ipython",
    "version": 3
   },
   "file_extension": ".py",
   "mimetype": "text/x-python",
   "name": "python",
   "nbconvert_exporter": "python",
   "pygments_lexer": "ipython3",
   "version": "3.8.13"
  },
  "vscode": {
   "interpreter": {
    "hash": "f9247de7c6ee7d285027cc05c76a80f9d9595955693ab11f515f35c0f23a77ca"
   }
  }
 },
 "nbformat": 4,
 "nbformat_minor": 4
}
